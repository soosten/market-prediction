{
 "cells": [
  {
   "cell_type": "code",
   "execution_count": null,
   "metadata": {
    "_cell_guid": "b1076dfc-b9ad-4769-8c92-a6c4dae69d19",
    "_uuid": "8f2839f25d086af736a60e9eeb907d3b93b6e0e5",
    "papermill": {
     "duration": 1.214865,
     "end_time": "2021-01-01T00:07:53.313456",
     "exception": false,
     "start_time": "2021-01-01T00:07:52.098591",
     "status": "completed"
    },
    "tags": []
   },
   "outputs": [],
   "source": [
    "import json\n",
    "import os\n",
    "\n",
    "import numpy as np\n",
    "import pandas as pd\n",
    "\n",
    "import matplotlib.pyplot as plt\n",
    "import seaborn as sns\n",
    "\n",
    "from sklearn.feature_selection import mutual_info_classif"
   ]
  },
  {
   "cell_type": "code",
   "execution_count": null,
   "metadata": {
    "_cell_guid": "79c7e3d0-c299-4dcb-8224-4455121ee9b0",
    "_uuid": "d629ff2d2480ee46fbb7e2d37f6b5fab8052498a",
    "papermill": {
     "duration": 151.346691,
     "end_time": "2021-01-01T00:10:24.664641",
     "exception": false,
     "start_time": "2021-01-01T00:07:53.317950",
     "status": "completed"
    },
    "tags": []
   },
   "outputs": [],
   "source": [
    "# read data as 32 bit floats\n",
    "file = os.path.join(os.pardir, \"input\", \"jane-street-market-prediction\", \"train.csv\")\n",
    "dtype = {c: np.float32 for c in pd.read_csv(file, nrows=1).columns}\n",
    "full_df = pd.read_csv(file, engine=\"c\", dtype=dtype)"
   ]
  },
  {
   "cell_type": "code",
   "execution_count": null,
   "metadata": {
    "papermill": {
     "duration": 0.628765,
     "end_time": "2021-01-01T00:10:25.297533",
     "exception": false,
     "start_time": "2021-01-01T00:10:24.668768",
     "status": "completed"
    },
    "tags": []
   },
   "outputs": [],
   "source": [
    "# split into training and validation\n",
    "train_df = full_df[full_df[\"date\"].between(86, 375)]\n",
    "\n",
    "# fill missing values with -100.0\n",
    "train_df = train_df.fillna(-100.0)\n",
    "\n",
    "# build features and labels\n",
    "features = [c for c in train_df.columns if \"feature\" in c]\n",
    "train_X = train_df[features].to_numpy()\n",
    "train_y = train_df[\"resp\"].gt(0.0).astype(np.uint8).to_numpy()"
   ]
  },
  {
   "cell_type": "code",
   "execution_count": null,
   "metadata": {
    "papermill": {
     "duration": 4119.945428,
     "end_time": "2021-01-01T01:19:05.247427",
     "exception": false,
     "start_time": "2021-01-01T00:10:25.301999",
     "status": "completed"
    },
    "tags": []
   },
   "outputs": [],
   "source": [
    "# estimate and plot mutual informations\n",
    "mi = mutual_info_classif(train_X, train_y, discrete_features=False, random_state=13)\n",
    "\n",
    "plt.figure(figsize=(20, 8))\n",
    "ax = sns.barplot(x=np.arange(mi.size), y=mi)\n",
    "ax.set_xlabel(\"Feature\")    \n",
    "ax.set_ylabel(\"Mutual Information with resp\")\n",
    "ax.set(xticklabels=[])\n",
    "ax.tick_params(bottom=False)\n",
    "plt.show()\n",
    "\n",
    "print(\"Features sorted by mutual information (descending):\")\n",
    "print(np.argsort(-mi))\n",
    "\n",
    "# save sorted features\n",
    "sorted_features = [f\"feature_{x}\" for x in np.argsort(-mi)]\n",
    "feat_dict = {\"sorted_features\": sorted_features}\n",
    "with open(os.path.join(os.curdir, \"sorted_features.json\"), \"w\") as file:\n",
    "    json.dump(feat_dict, file)"
   ]
  }
 ],
 "metadata": {
  "kernelspec": {
   "display_name": "Python 3",
   "language": "python",
   "name": "python3"
  },
  "language_info": {
   "codemirror_mode": {
    "name": "ipython",
    "version": 3
   },
   "file_extension": ".py",
   "mimetype": "text/x-python",
   "name": "python",
   "nbconvert_exporter": "python",
   "pygments_lexer": "ipython3",
   "version": "3.8.5"
  },
  "papermill": {
   "duration": 4277.717844,
   "end_time": "2021-01-01T01:19:05.361297",
   "environment_variables": {},
   "exception": null,
   "input_path": "__notebook__.ipynb",
   "output_path": "__notebook__.ipynb",
   "parameters": {},
   "start_time": "2021-01-01T00:07:47.643453",
   "version": "2.1.0"
  }
 },
 "nbformat": 4,
 "nbformat_minor": 4
}
