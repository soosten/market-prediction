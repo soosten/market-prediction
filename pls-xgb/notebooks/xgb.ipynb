{
 "cells": [
  {
   "cell_type": "markdown",
   "metadata": {
    "papermill": {
     "duration": 0.005977,
     "end_time": "2021-01-14T17:57:49.280175",
     "exception": false,
     "start_time": "2021-01-14T17:57:49.274198",
     "status": "completed"
    },
    "tags": []
   },
   "source": [
    "# JS - PLS XGB - Training"
   ]
  },
  {
   "cell_type": "code",
   "execution_count": null,
   "metadata": {
    "papermill": {
     "duration": 5.037258,
     "end_time": "2021-01-14T17:57:54.322692",
     "exception": false,
     "start_time": "2021-01-14T17:57:49.285434",
     "status": "completed"
    },
    "tags": []
   },
   "outputs": [],
   "source": [
    "import joblib\n",
    "import os\n",
    "\n",
    "import numpy as np\n",
    "import pandas as pd\n",
    "\n",
    "import matplotlib.pyplot as plt\n",
    "import seaborn as sns\n",
    "\n",
    "from sklearn.cross_decomposition import PLSRegression\n",
    "from sklearn.impute import SimpleImputer\n",
    "from sklearn.metrics import precision_recall_curve, roc_curve, roc_auc_score\n",
    "from sklearn.model_selection import GridSearchCV, PredefinedSplit\n",
    "from sklearn.pipeline import make_pipeline\n",
    "from sklearn.preprocessing import StandardScaler\n",
    "\n",
    "from xgboost import XGBClassifier"
   ]
  },
  {
   "cell_type": "code",
   "execution_count": null,
   "metadata": {
    "papermill": {
     "duration": 143.730614,
     "end_time": "2021-01-14T18:00:18.059159",
     "exception": false,
     "start_time": "2021-01-14T17:57:54.328545",
     "status": "completed"
    },
    "tags": []
   },
   "outputs": [],
   "source": [
    "# read data as 32 bit floats\n",
    "file = os.path.join(os.pardir, \"input\", \"jane-street-market-prediction\", \"train.csv\")\n",
    "dtype = {c: np.float32 for c in pd.read_csv(file, nrows=1).columns}\n",
    "full_df = pd.read_csv(file, engine=\"c\", dtype=dtype)\n",
    "\n",
    "# split into training and validation\n",
    "train_df = full_df[full_df[\"date\"].between(85, 375)]\n",
    "valid_df = full_df[full_df[\"date\"].between(425, 500)]\n",
    "\n",
    "# build features and labels\n",
    "features = [f\"feature_{x}\" for x in range(130)]\n",
    "train_X = train_df[features].to_numpy()\n",
    "valid_X = valid_df[features].to_numpy()\n",
    "train_y = train_df[\"resp\"].gt(0.0).astype(np.float32).to_numpy()\n",
    "valid_y = valid_df[\"resp\"].gt(0.0).astype(np.float32).to_numpy()"
   ]
  },
  {
   "cell_type": "code",
   "execution_count": null,
   "metadata": {
    "papermill": {
     "duration": 80.237097,
     "end_time": "2021-01-14T18:01:38.302345",
     "exception": false,
     "start_time": "2021-01-14T18:00:18.065248",
     "status": "completed"
    },
    "tags": []
   },
   "outputs": [],
   "source": [
    "# impute and normalize data\n",
    "si = SimpleImputer(strategy=\"mean\")\n",
    "ss = StandardScaler()\n",
    "train_X = si.fit_transform(train_X)\n",
    "train_X = ss.fit_transform(train_X)\n",
    "valid_X = si.transform(valid_X)\n",
    "valid_X = ss.transform(valid_X)\n",
    "\n",
    "# compute R2 scores of PLS model for different\n",
    "# number of PLS components\n",
    "# train_scores = np.empty(130)\n",
    "# valid_scores = np.empty(130)\n",
    "# components = np.arange(1, 131)\n",
    "# for ix, comp in enumerate(components):\n",
    "#     pls = PLSRegression(n_components=comp)\n",
    "#     pls.fit(train_X, train_df[\"resp\"])\n",
    "#     train_scores[ix] = pls.score(train_X, train_df[\"resp\"])\n",
    "#     valid_scores[ix] = pls.score(valid_X, valid_df[\"resp\"])\n",
    "\n",
    "# plot the scores\n",
    "# plt.figure(figsize=(8, 5))\n",
    "# sns.lineplot(x=components, y=train_scores, label=\"Training\")\n",
    "# sns.lineplot(x=components, y=valid_scores, label=\"Validation\")\n",
    "# plt.xlabel(\"Components\")    \n",
    "# plt.ylabel(\"Score\")\n",
    "# plt.grid(True)\n",
    "# plt.show()\n",
    "\n",
    "# refit the model on the number of components a little\n",
    "# after the elbow and transform the data\n",
    "pls = PLSRegression(n_components=40)\n",
    "pls.fit(train_X, train_df[\"resp\"])\n",
    "train_X = pls.transform(train_X)\n",
    "valid_X = pls.transform(valid_X)\n",
    "\n",
    "# save preprocessing pipeline\n",
    "pp = make_pipeline(si, ss, pls)"
   ]
  },
  {
   "cell_type": "code",
   "execution_count": null,
   "metadata": {
    "papermill": {
     "duration": 29.549694,
     "end_time": "2021-01-14T18:02:07.857906",
     "exception": false,
     "start_time": "2021-01-14T18:01:38.308212",
     "status": "completed"
    },
    "tags": []
   },
   "outputs": [],
   "source": [
    "# parameters to optimize on validation set\n",
    "params = {\"n_estimators\": [250],\n",
    "          \"max_depth\": [7],\n",
    "          \"learning_rate\": [0.05],\n",
    "          \"subsample\": [0.85],\n",
    "          \"colsample_bytree\": [0.95],\n",
    "          \"reg_alpha\": [18],\n",
    "          \"reg_lambda\": [0]\n",
    "         }\n",
    "\n",
    "# base model\n",
    "clf = XGBClassifier(tree_method=\"gpu_hist\", random_state=13)\n",
    "\n",
    "# setup the data for parameter search\n",
    "full_X = np.vstack([train_X, valid_X])\n",
    "full_y = np.append(train_y, valid_y)\n",
    "test_fold = np.append(np.full(train_X.shape[0], -1, dtype=np.int), np.zeros(valid_X.shape[0], dtype=np.int))\n",
    "ps = PredefinedSplit(test_fold)\n",
    "\n",
    "# find the parameters with best AUC score\n",
    "cv = GridSearchCV(clf, params, cv=ps, scoring=\"roc_auc\", refit=False)\n",
    "cv.fit(full_X, full_y)\n",
    "\n",
    "# show the best parameters\n",
    "print(f\"Highest AUC = {round(cv.best_score_, 4)} with parameters:\")\n",
    "for k, v in cv.best_params_.items():\n",
    "    print(f\"  {k} = {v}\")\n",
    "\n",
    "# need to refit the best model manually since the built-in refitting will refit on full_X, full_y\n",
    "# first recover the training history by refitting with early stopping\n",
    "model = XGBClassifier(tree_method=\"gpu_hist\", random_state=13, **cv.best_params_)\n",
    "model.fit(train_X, train_y, verbose=False)"
   ]
  },
  {
   "cell_type": "code",
   "execution_count": null,
   "metadata": {
    "papermill": {
     "duration": 6.165745,
     "end_time": "2021-01-14T18:02:14.030717",
     "exception": false,
     "start_time": "2021-01-14T18:02:07.864972",
     "status": "completed"
    },
    "tags": []
   },
   "outputs": [],
   "source": [
    "probs = model.predict_proba(valid_X)\n",
    "probs = probs[:, 1]\n",
    "\n",
    "# precision vs recall\n",
    "precisions, recalls, thresholds = precision_recall_curve(valid_y, probs)\n",
    "\n",
    "plt.figure(figsize=(8, 5))\n",
    "plt.plot(thresholds, precisions[:-1], \"tab:blue\", label=\"Precision\")\n",
    "plt.plot(thresholds, recalls[:-1], \"tab:orange\", label=\"Recall\")\n",
    "plt.legend()\n",
    "plt.xlabel(\"Threshold\")\n",
    "plt.title(\"Validation Precision/recall at threshold\")\n",
    "plt.axis([0, 1, 0, 1])\n",
    "plt.grid(True)\n",
    "plt.show()\n",
    "\n",
    "plt.figure(figsize=(8, 5))\n",
    "plt.plot(recalls, precisions, \"tab:blue\")\n",
    "plt.xlabel(\"Recall\")\n",
    "plt.ylabel(\"Precision\")\n",
    "plt.title(\"Validation  Precision at recall\")\n",
    "plt.axis([0, 1, 0, 1])\n",
    "plt.grid(True)\n",
    "plt.show()\n",
    "\n",
    "# ROC curve\n",
    "false_positives, true_positives, thresholds = roc_curve(valid_y, probs)\n",
    "plt.figure(figsize=(8, 5))\n",
    "plt.plot(false_positives, true_positives, \"tab:blue\")\n",
    "plt.plot([0, 1], [0, 1], \"tab:gray\")\n",
    "plt.xlabel(\"False positive rate\")\n",
    "plt.ylabel(\"True positive rate\")\n",
    "plt.title(\"Validation ROC curve\")\n",
    "plt.axis([0, 1, 0, 1])\n",
    "plt.grid(True)\n",
    "plt.show()\n",
    "\n",
    "# AUC\n",
    "print(f\"Validation AUC: {roc_auc_score(valid_y, probs)}\")"
   ]
  },
  {
   "cell_type": "code",
   "execution_count": null,
   "metadata": {
    "papermill": {
     "duration": 18.940866,
     "end_time": "2021-01-14T18:02:32.980932",
     "exception": false,
     "start_time": "2021-01-14T18:02:14.040066",
     "status": "completed"
    },
    "tags": []
   },
   "outputs": [],
   "source": [
    "probs = model.predict_proba(train_X)\n",
    "probs = probs[:, 1]\n",
    "\n",
    "# precision vs recall\n",
    "precisions, recalls, thresholds = precision_recall_curve(train_y, probs)\n",
    "\n",
    "plt.figure(figsize=(8, 5))\n",
    "plt.plot(thresholds, precisions[:-1], \"tab:blue\", label=\"Precision\")\n",
    "plt.plot(thresholds, recalls[:-1], \"tab:orange\", label=\"Recall\")\n",
    "plt.legend()\n",
    "plt.xlabel(\"Threshold\")\n",
    "plt.title(\"Training Precision/recall at threshold\")\n",
    "plt.axis([0, 1, 0, 1])\n",
    "plt.grid(True)\n",
    "plt.show()\n",
    "\n",
    "plt.figure(figsize=(8, 5))\n",
    "plt.plot(recalls, precisions, \"tab:blue\")\n",
    "plt.xlabel(\"Recall\")\n",
    "plt.ylabel(\"Precision\")\n",
    "plt.title(\"Training  Precision at recall\")\n",
    "plt.axis([0, 1, 0, 1])\n",
    "plt.grid(True)\n",
    "plt.show()\n",
    "\n",
    "# ROC curve\n",
    "false_positives, true_positives, thresholds = roc_curve(train_y, probs)\n",
    "plt.figure(figsize=(8, 5))\n",
    "plt.plot(false_positives, true_positives, \"tab:blue\")\n",
    "plt.plot([0, 1], [0, 1], \"tab:gray\")\n",
    "plt.xlabel(\"False positive rate\")\n",
    "plt.ylabel(\"True positive rate\")\n",
    "plt.title(\"Training ROC curve\")\n",
    "plt.axis([0, 1, 0, 1])\n",
    "plt.grid(True)\n",
    "plt.show()\n",
    "\n",
    "# AUC\n",
    "print(f\"Training AUC: {roc_auc_score(train_y, probs)}\")"
   ]
  },
  {
   "cell_type": "code",
   "execution_count": null,
   "metadata": {
    "papermill": {
     "duration": 0.658952,
     "end_time": "2021-01-14T18:02:33.651815",
     "exception": false,
     "start_time": "2021-01-14T18:02:32.992863",
     "status": "completed"
    },
    "tags": []
   },
   "outputs": [],
   "source": [
    "# save model\n",
    "joblib.dump(pp, \"preprocessor.pkl\")\n",
    "model.save_model(\"model.xgb\")"
   ]
  }
 ],
 "metadata": {
  "kernelspec": {
   "display_name": "Python 3",
   "language": "python",
   "name": "python3"
  },
  "language_info": {
   "codemirror_mode": {
    "name": "ipython",
    "version": 3
   },
   "file_extension": ".py",
   "mimetype": "text/x-python",
   "name": "python",
   "nbconvert_exporter": "python",
   "pygments_lexer": "ipython3",
   "version": "3.8.5"
  },
  "papermill": {
   "duration": 289.859428,
   "end_time": "2021-01-14T18:02:35.143516",
   "environment_variables": {},
   "exception": null,
   "input_path": "__notebook__.ipynb",
   "output_path": "__notebook__.ipynb",
   "parameters": {},
   "start_time": "2021-01-14T17:57:45.284088",
   "version": "2.1.0"
  }
 },
 "nbformat": 4,
 "nbformat_minor": 4
}
