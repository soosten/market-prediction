{
 "cells": [
  {
   "cell_type": "markdown",
   "metadata": {
    "papermill": {
     "duration": 0.008168,
     "end_time": "2021-01-05T21:58:18.655920",
     "exception": false,
     "start_time": "2021-01-05T21:58:18.647752",
     "status": "completed"
    },
    "tags": []
   },
   "source": [
    "# JS - Partial Least Squares + Gradient Boosted Trees"
   ]
  },
  {
   "cell_type": "code",
   "execution_count": null,
   "metadata": {
    "papermill": {
     "duration": 6.635686,
     "end_time": "2021-01-05T21:58:25.299789",
     "exception": false,
     "start_time": "2021-01-05T21:58:18.664103",
     "status": "completed"
    },
    "tags": []
   },
   "outputs": [],
   "source": [
    "import joblib\n",
    "import json\n",
    "import os\n",
    "\n",
    "import numpy as np\n",
    "import pandas as pd\n",
    "\n",
    "import matplotlib.pyplot as plt\n",
    "import seaborn as sns\n",
    "\n",
    "from sklearn.cross_decomposition import PLSRegression\n",
    "from sklearn.impute import SimpleImputer\n",
    "from sklearn.metrics import precision_recall_curve, roc_curve, roc_auc_score\n",
    "from sklearn.model_selection import GridSearchCV, PredefinedSplit\n",
    "from sklearn.pipeline import make_pipeline\n",
    "from sklearn.preprocessing import StandardScaler\n",
    "\n",
    "from xgboost import XGBClassifier"
   ]
  },
  {
   "cell_type": "code",
   "execution_count": null,
   "metadata": {
    "papermill": {
     "duration": 0.02194,
     "end_time": "2021-01-05T21:58:25.329449",
     "exception": false,
     "start_time": "2021-01-05T21:58:25.307509",
     "status": "completed"
    },
    "tags": []
   },
   "outputs": [],
   "source": [
    "# number of PLS components to keep\n",
    "COMPONENTS = 40\n",
    "\n",
    "# parameters to try for models\n",
    "# n_estimators = number of consecutive boosters\n",
    "# max_depth = maximum depth of each tree\n",
    "# learning_rate = shrinkage\n",
    "# subsample = fraction of samples per tree\n",
    "# colsample_bytree = fraction of features per tree\n",
    "# reg_alpha = regularization on weights\n",
    "# reg_lambda = l2 regularization on weights\n",
    "PARAMS = {\"n_estimators\": [200],\n",
    "          \"max_depth\": [6, 7, 8],\n",
    "          \"learning_rate\": [0.05, 0.1, 0.15],\n",
    "          \"subsample\": [0.7, 0.8, 0.9],\n",
    "          \"colsample_bytree\": [0.7, 0.8, 0.9],\n",
    "          \"reg_alpha\": [80.0, 100.0, 120.0],\n",
    "          #\"reg_lambda\": [1.0, 10.0, 50.0]\n",
    "         }"
   ]
  },
  {
   "cell_type": "code",
   "execution_count": null,
   "metadata": {
    "papermill": {
     "duration": 147.516195,
     "end_time": "2021-01-05T22:00:52.853123",
     "exception": false,
     "start_time": "2021-01-05T21:58:25.336928",
     "status": "completed"
    },
    "tags": []
   },
   "outputs": [],
   "source": [
    "# read data as 32 bit floats\n",
    "file = os.path.join(os.pardir, \"input\", \"jane-street-market-prediction\", \"train.csv\")\n",
    "dtype = {c: np.float32 for c in pd.read_csv(file, nrows=1).columns}\n",
    "full_df = pd.read_csv(file, engine=\"c\", dtype=dtype)\n",
    "\n",
    "# split into training and validation\n",
    "train_df = full_df[full_df[\"date\"].between(86, 375)]\n",
    "valid_df = full_df[full_df[\"date\"].between(425, 500)]\n",
    "\n",
    "# build features and labels\n",
    "features = [f\"feature_{x}\" for x in range(130)]\n",
    "train_X = train_df[features].to_numpy()\n",
    "valid_X = valid_df[features].to_numpy()\n",
    "train_y = train_df[\"resp\"].gt(0.0).astype(np.float32).to_numpy()\n",
    "valid_y = valid_df[\"resp\"].gt(0.0).astype(np.float32).to_numpy()"
   ]
  },
  {
   "cell_type": "code",
   "execution_count": null,
   "metadata": {
    "papermill": {
     "duration": 84.592582,
     "end_time": "2021-01-05T22:02:17.453798",
     "exception": false,
     "start_time": "2021-01-05T22:00:52.861216",
     "status": "completed"
    },
    "tags": []
   },
   "outputs": [],
   "source": [
    "# preprocessing pipeline: impute with mean,\n",
    "# z-score, project onto PLS features\n",
    "si = SimpleImputer(strategy=\"mean\")\n",
    "train_X = si.fit_transform(train_X)\n",
    "\n",
    "ss = StandardScaler()\n",
    "train_X = ss.fit_transform(train_X)\n",
    "\n",
    "pls = PLSRegression(n_components=COMPONENTS)\n",
    "pls.fit(train_X, train_y) #(train_df[\"resp\"] - train_df[\"resp\"].mean()) / train_df[\"resp\"].std())\n",
    "train_X = pls.transform(train_X)\n",
    "\n",
    "pp = make_pipeline(si, ss, pls)\n",
    "valid_X = pp.transform(valid_X)"
   ]
  },
  {
   "cell_type": "code",
   "execution_count": null,
   "metadata": {
    "papermill": {
     "duration": 2559.488841,
     "end_time": "2021-01-05T22:44:56.950686",
     "exception": false,
     "start_time": "2021-01-05T22:02:17.461845",
     "status": "completed"
    },
    "tags": []
   },
   "outputs": [],
   "source": [
    "# base model\n",
    "clf = XGBClassifier(tree_method=\"gpu_hist\", random_state=13)\n",
    "\n",
    "# setup the data for parameter search\n",
    "full_X = np.vstack([train_X, valid_X])\n",
    "full_y = np.append(train_y, valid_y)\n",
    "test_fold = np.append(np.full(train_X.shape[0], -1, dtype=np.int), np.zeros(valid_X.shape[0], dtype=np.int))\n",
    "ps = PredefinedSplit(test_fold)\n",
    "\n",
    "# find the parameters with best AUC score\n",
    "cv = GridSearchCV(clf, PARAMS, cv=ps, scoring=\"roc_auc\", refit=False)\n",
    "cv.fit(full_X, full_y)\n",
    "\n",
    "# show the best parameters\n",
    "print(f\"Highest AUC = {round(cv.best_score_, 4)} with parameters:\")\n",
    "for k, v in cv.best_params_.items():\n",
    "    print(f\"  {k} = {v}\")\n",
    "\n",
    "# need to refit the best model manually params, since the\n",
    "# built-in refitting will refit on full_X, full_y\n",
    "model = XGBClassifier(tree_method=\"gpu_hist\", random_state=13, **cv.best_params_)\n",
    "model.fit(train_X, train_y, verbose=False)"
   ]
  },
  {
   "cell_type": "code",
   "execution_count": null,
   "metadata": {
    "papermill": {
     "duration": 5.370381,
     "end_time": "2021-01-05T22:45:02.332492",
     "exception": false,
     "start_time": "2021-01-05T22:44:56.962111",
     "status": "completed"
    },
    "tags": []
   },
   "outputs": [],
   "source": [
    "probs = model.predict_proba(valid_X)\n",
    "probs = probs[:, 1]\n",
    "\n",
    "# precision vs recall\n",
    "precisions, recalls, thresholds = precision_recall_curve(valid_y, probs)\n",
    "\n",
    "plt.figure(figsize=(8, 5))\n",
    "plt.plot(thresholds, precisions[:-1], \"tab:blue\", label=\"Precision\")\n",
    "plt.plot(thresholds, recalls[:-1], \"tab:orange\", label=\"Recall\")\n",
    "plt.legend()\n",
    "plt.xlabel(\"Threshold\")\n",
    "plt.title(\"Validation Precision/recall at threshold\")\n",
    "plt.axis([0, 1, 0, 1])\n",
    "plt.grid(True)\n",
    "plt.show()\n",
    "\n",
    "plt.figure(figsize=(8, 5))\n",
    "plt.plot(recalls, precisions, \"tab:blue\")\n",
    "plt.xlabel(\"Recall\")\n",
    "plt.ylabel(\"Precision\")\n",
    "plt.title(\"Validation  Precision at recall\")\n",
    "plt.axis([0, 1, 0, 1])\n",
    "plt.grid(True)\n",
    "plt.show()\n",
    "\n",
    "# ROC curve\n",
    "false_positives, true_positives, thresholds = roc_curve(valid_y, probs)\n",
    "plt.figure(figsize=(8, 5))\n",
    "plt.plot(false_positives, true_positives, \"tab:blue\")\n",
    "plt.plot([0, 1], [0, 1], \"tab:gray\")\n",
    "plt.xlabel(\"False positive rate\")\n",
    "plt.ylabel(\"True positive rate\")\n",
    "plt.title(\"Validation ROC curve\")\n",
    "plt.axis([0, 1, 0, 1])\n",
    "plt.grid(True)\n",
    "plt.show()\n",
    "\n",
    "# AUC\n",
    "print(f\"Validation AUC: {roc_auc_score(valid_y, probs)}\")"
   ]
  },
  {
   "cell_type": "code",
   "execution_count": null,
   "metadata": {
    "papermill": {
     "duration": 16.949197,
     "end_time": "2021-01-05T22:45:19.294497",
     "exception": false,
     "start_time": "2021-01-05T22:45:02.345300",
     "status": "completed"
    },
    "tags": []
   },
   "outputs": [],
   "source": [
    "probs = model.predict_proba(train_X)\n",
    "probs = probs[:, 1]\n",
    "\n",
    "# precision vs recall\n",
    "precisions, recalls, thresholds = precision_recall_curve(train_y, probs)\n",
    "\n",
    "plt.figure(figsize=(8, 5))\n",
    "plt.plot(thresholds, precisions[:-1], \"tab:blue\", label=\"Precision\")\n",
    "plt.plot(thresholds, recalls[:-1], \"tab:orange\", label=\"Recall\")\n",
    "plt.legend()\n",
    "plt.xlabel(\"Threshold\")\n",
    "plt.title(\"Training Precision/recall at threshold\")\n",
    "plt.axis([0, 1, 0, 1])\n",
    "plt.grid(True)\n",
    "plt.show()\n",
    "\n",
    "plt.figure(figsize=(8, 5))\n",
    "plt.plot(recalls, precisions, \"tab:blue\")\n",
    "plt.xlabel(\"Recall\")\n",
    "plt.ylabel(\"Precision\")\n",
    "plt.title(\"Training  Precision at recall\")\n",
    "plt.axis([0, 1, 0, 1])\n",
    "plt.grid(True)\n",
    "plt.show()\n",
    "\n",
    "# ROC curve\n",
    "false_positives, true_positives, thresholds = roc_curve(train_y, probs)\n",
    "plt.figure(figsize=(8, 5))\n",
    "plt.plot(false_positives, true_positives, \"tab:blue\")\n",
    "plt.plot([0, 1], [0, 1], \"tab:gray\")\n",
    "plt.xlabel(\"False positive rate\")\n",
    "plt.ylabel(\"True positive rate\")\n",
    "plt.title(\"Training ROC curve\")\n",
    "plt.axis([0, 1, 0, 1])\n",
    "plt.grid(True)\n",
    "plt.show()\n",
    "\n",
    "# AUC\n",
    "print(f\"Training AUC: {roc_auc_score(train_y, probs)}\")"
   ]
  },
  {
   "cell_type": "code",
   "execution_count": null,
   "metadata": {
    "papermill": {
     "duration": 0.728067,
     "end_time": "2021-01-05T22:45:20.038446",
     "exception": false,
     "start_time": "2021-01-05T22:45:19.310379",
     "status": "completed"
    },
    "tags": []
   },
   "outputs": [],
   "source": [
    "# save model\n",
    "joblib.dump(pp, \"preprocessor.pkl\")\n",
    "model.save_model(\"model.xgb\")"
   ]
  }
 ],
 "metadata": {
  "kernelspec": {
   "display_name": "Python 3",
   "language": "python",
   "name": "python3"
  },
  "language_info": {
   "codemirror_mode": {
    "name": "ipython",
    "version": 3
   },
   "file_extension": ".py",
   "mimetype": "text/x-python",
   "name": "python",
   "nbconvert_exporter": "python",
   "pygments_lexer": "ipython3",
   "version": "3.8.5"
  },
  "papermill": {
   "duration": 2827.861945,
   "end_time": "2021-01-05T22:45:21.491355",
   "environment_variables": {},
   "exception": null,
   "input_path": "__notebook__.ipynb",
   "output_path": "__notebook__.ipynb",
   "parameters": {},
   "start_time": "2021-01-05T21:58:13.629410",
   "version": "2.1.0"
  }
 },
 "nbformat": 4,
 "nbformat_minor": 4
}
