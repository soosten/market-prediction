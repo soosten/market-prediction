{
 "cells": [
  {
   "cell_type": "markdown",
   "metadata": {
    "papermill": {
     "duration": 0.005835,
     "end_time": "2020-12-31T17:22:18.597665",
     "exception": false,
     "start_time": "2020-12-31T17:22:18.591830",
     "status": "completed"
    },
    "tags": []
   },
   "source": [
    "# JS - PLS XGB - Submission"
   ]
  },
  {
   "cell_type": "code",
   "execution_count": null,
   "metadata": {
    "papermill": {
     "duration": 4.6385,
     "end_time": "2020-12-31T17:22:23.241122",
     "exception": false,
     "start_time": "2020-12-31T17:22:18.602622",
     "status": "completed"
    },
    "tags": []
   },
   "outputs": [],
   "source": [
    "import joblib\n",
    "import json\n",
    "import os\n",
    "\n",
    "import numpy as np\n",
    "import pandas as pd\n",
    "\n",
    "import matplotlib.pyplot as plt\n",
    "import seaborn as sns\n",
    "\n",
    "import xgboost as xgb"
   ]
  },
  {
   "cell_type": "code",
   "execution_count": null,
   "metadata": {
    "papermill": {
     "duration": 2.958736,
     "end_time": "2020-12-31T17:22:26.205374",
     "exception": false,
     "start_time": "2020-12-31T17:22:23.246638",
     "status": "completed"
    },
    "tags": []
   },
   "outputs": [],
   "source": [
    "# load the model\n",
    "model_folder = os.path.join(os.pardir, \"input\", \"js-pls-xgb-training\")\n",
    "\n",
    "pp = joblib.load(os.path.join(model_folder, \"preprocessor.pkl\"))\n",
    "\n",
    "model = xgb.XGBClassifier()\n",
    "model.load_model(os.path.join(model_folder, \"model.xgb\"))\n",
    "\n",
    "# get the optimal threshold\n",
    "utility_folder = os.path.join(os.pardir, \"input\", \"js-pls-xgb-utility\")\n",
    "\n",
    "with open(os.path.join(utility_folder, \"threshold.json\")) as f:\n",
    "    threshold_json = json.loads(f.read())\n",
    "\n",
    "threshold = float(threshold_json[\"threshold\"])"
   ]
  },
  {
   "cell_type": "code",
   "execution_count": null,
   "metadata": {
    "papermill": {
     "duration": 0.015533,
     "end_time": "2020-12-31T17:22:26.226573",
     "exception": false,
     "start_time": "2020-12-31T17:22:26.211040",
     "status": "completed"
    },
    "tags": []
   },
   "outputs": [],
   "source": [
    "# function to return predictions for the current trade\n",
    "def predict(sample):\n",
    "    X = sample.to_numpy()\n",
    "    X = pp.transform(X)\n",
    "    prob = model.predict_proba(X)\n",
    "    return 1 if prob[0, 1] > threshold else 0"
   ]
  },
  {
   "cell_type": "code",
   "execution_count": null,
   "metadata": {
    "papermill": {
     "duration": 193.657905,
     "end_time": "2020-12-31T17:25:39.900340",
     "exception": false,
     "start_time": "2020-12-31T17:22:26.242435",
     "status": "completed"
    },
    "tags": []
   },
   "outputs": [],
   "source": [
    "import janestreet\n",
    "env = janestreet.make_env()\n",
    "iter_test = env.iter_test()\n",
    "\n",
    "# initialize things with first sample\n",
    "sample, pred = next(iter_test)\n",
    "features = [c for c in sample.columns if \"feature\" in c]\n",
    "pred.action = predict(sample[features])\n",
    "env.predict(pred)\n",
    "\n",
    "# loop over remaining samples\n",
    "for (sample, pred) in iter_test:\n",
    "    pred.action = predict(sample[features]) if sample[\"weight\"].item() > 0.0 else 0\n",
    "    env.predict(pred)"
   ]
  }
 ],
 "metadata": {
  "kernelspec": {
   "display_name": "Python 3",
   "language": "python",
   "name": "python3"
  },
  "language_info": {
   "codemirror_mode": {
    "name": "ipython",
    "version": 3
   },
   "file_extension": ".py",
   "mimetype": "text/x-python",
   "name": "python",
   "nbconvert_exporter": "python",
   "pygments_lexer": "ipython3",
   "version": "3.8.5"
  },
  "papermill": {
   "duration": 206.838959,
   "end_time": "2020-12-31T17:25:41.072413",
   "environment_variables": {},
   "exception": null,
   "input_path": "__notebook__.ipynb",
   "output_path": "__notebook__.ipynb",
   "parameters": {},
   "start_time": "2020-12-31T17:22:14.233454",
   "version": "2.1.0"
  }
 },
 "nbformat": 4,
 "nbformat_minor": 4
}
