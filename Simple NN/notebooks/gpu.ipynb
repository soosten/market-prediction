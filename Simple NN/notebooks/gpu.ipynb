{
 "cells": [
  {
   "cell_type": "markdown",
   "metadata": {
    "papermill": {
     "duration": 0.009152,
     "end_time": "2020-12-29T23:08:36.586015",
     "exception": false,
     "start_time": "2020-12-29T23:08:36.576863",
     "status": "completed"
    },
    "tags": []
   },
   "source": [
    "# Jane Street - GPU"
   ]
  },
  {
   "cell_type": "code",
   "execution_count": null,
   "metadata": {
    "papermill": {
     "duration": 6.217968,
     "end_time": "2020-12-29T23:08:42.812273",
     "exception": false,
     "start_time": "2020-12-29T23:08:36.594305",
     "status": "completed"
    },
    "tags": []
   },
   "outputs": [],
   "source": [
    "import os\n",
    "\n",
    "import numpy as np\n",
    "import pandas as pd\n",
    "\n",
    "import matplotlib.pyplot as plt\n",
    "import seaborn as sns\n",
    "\n",
    "from sklearn.metrics import precision_recall_curve, roc_curve\n",
    "\n",
    "import tensorflow as tf\n",
    "from tensorflow import keras\n",
    "from tensorflow.keras import layers\n",
    "\n",
    "from tensorflow.keras.callbacks import EarlyStopping, ReduceLROnPlateau\n",
    "from tensorflow.keras.losses import BinaryCrossentropy\n",
    "from tensorflow.keras.metrics import AUC, PrecisionAtRecall\n",
    "from tensorflow.keras.optimizers import Adam, SGD\n",
    "\n",
    "# set tensorflow's random seed\n",
    "tf.random.set_seed(13)"
   ]
  },
  {
   "cell_type": "code",
   "execution_count": null,
   "metadata": {
    "papermill": {
     "duration": 153.928284,
     "end_time": "2020-12-29T23:11:16.749179",
     "exception": false,
     "start_time": "2020-12-29T23:08:42.820895",
     "status": "completed"
    },
    "tags": []
   },
   "outputs": [],
   "source": [
    "# read data as 32 bit floats\n",
    "file = os.path.join(os.pardir, \"input\", \"jane-street-market-prediction\", \"train.csv\")\n",
    "dtype = {c: np.float32 for c in pd.read_csv(file, nrows=1).columns}\n",
    "full_df = pd.read_csv(file, engine=\"c\", dtype=dtype)"
   ]
  },
  {
   "cell_type": "code",
   "execution_count": null,
   "metadata": {
    "papermill": {
     "duration": 4.96224,
     "end_time": "2020-12-29T23:11:21.723465",
     "exception": false,
     "start_time": "2020-12-29T23:11:16.761225",
     "status": "completed"
    },
    "tags": []
   },
   "outputs": [],
   "source": [
    "# split into training and validation\n",
    "train_df = full_df[full_df[\"date\"].between(86, 375)]\n",
    "valid_df = full_df[full_df[\"date\"].between(425, 500)]\n",
    "\n",
    "# fill missing values with median\n",
    "median = train_df.median()\n",
    "train_df = train_df.fillna(median)\n",
    "valid_df = valid_df.fillna(median)\n",
    "\n",
    "# store imputation values\n",
    "median.to_csv(\"impute.csv\")\n",
    "\n",
    "# build features and labels\n",
    "features = [c for c in train_df.columns if \"feature\" in c]\n",
    "train_X = train_df[features].to_numpy()\n",
    "valid_X = valid_df[features].to_numpy()\n",
    "train_y = train_df[\"resp\"].gt(0.0).astype(np.float32).to_numpy()\n",
    "valid_y = valid_df[\"resp\"].gt(0.0).astype(np.float32).to_numpy()\n",
    "\n",
    "print(f\"Class imbalance: {train_y.mean()}\")"
   ]
  },
  {
   "cell_type": "code",
   "execution_count": null,
   "metadata": {
    "papermill": {
     "duration": 0.017811,
     "end_time": "2020-12-29T23:11:21.75117",
     "exception": false,
     "start_time": "2020-12-29T23:11:21.733359",
     "status": "completed"
    },
    "tags": []
   },
   "outputs": [],
   "source": [
    "# model training parameters\n",
    "BATCH_SIZE = 512\n",
    "LEARNING_RATE = 0.001\n",
    "EPOCHS = 200\n",
    "LABEL_SMOOTHING = 0.0\n",
    "NOISE = 0.1\n",
    "\n",
    "# show precision at this recall in metrics\n",
    "METRIC_RECALL = 0.55"
   ]
  },
  {
   "cell_type": "code",
   "execution_count": null,
   "metadata": {
    "papermill": {
     "duration": 6.530171,
     "end_time": "2020-12-29T23:11:28.290676",
     "exception": false,
     "start_time": "2020-12-29T23:11:21.760505",
     "status": "completed"
    },
    "tags": []
   },
   "outputs": [],
   "source": [
    "# input & normalization\n",
    "norm = layers.experimental.preprocessing.Normalization()\n",
    "norm.adapt(train_X)\n",
    "inputs = layers.Input(shape=[len(features)])\n",
    "flow = norm(inputs)\n",
    "\n",
    "flow = layers.GaussianNoise(stddev=NOISE)(flow)\n",
    "\n",
    "flow = layers.Dense(units=70)(flow)\n",
    "flow = layers.Activation(keras.activations.swish)(flow)\n",
    "flow = layers.Dropout(rate=0.5)(flow)\n",
    "\n",
    "flow = layers.Dense(units=1)(flow)\n",
    "outputs = layers.Activation(\"sigmoid\")(flow)\n",
    "\n",
    "# optimization parameters\n",
    "loss = BinaryCrossentropy(label_smoothing=LABEL_SMOOTHING)\n",
    "optimizer = Adam(learning_rate=LEARNING_RATE)\n",
    "metrics = [PrecisionAtRecall(recall=METRIC_RECALL, name=\"p@r\"), AUC(name=\"auc\")]\n",
    "\n",
    "# compile the model and print a summary\n",
    "model = keras.Model(inputs=inputs, outputs=outputs)\n",
    "model.compile(loss=loss, optimizer=optimizer, metrics=metrics)\n",
    "model.summary()"
   ]
  },
  {
   "cell_type": "code",
   "execution_count": null,
   "metadata": {
    "papermill": {
     "duration": 123.455491,
     "end_time": "2020-12-29T23:13:31.756412",
     "exception": false,
     "start_time": "2020-12-29T23:11:28.300921",
     "status": "completed"
    },
    "tags": []
   },
   "outputs": [],
   "source": [
    "# define callbacks for learning rate schedule and early stopping\n",
    "stopping = EarlyStopping(monitor=\"val_auc\",\n",
    "                         mode=\"max\",\n",
    "                         patience=20,\n",
    "                         min_delta=0.001,\n",
    "                         restore_best_weights=True)\n",
    "\n",
    "rate = ReduceLROnPlateau(monitor=\"val_auc\",\n",
    "                         mode=\"max\",\n",
    "                         factor=0.5,\n",
    "                         patience=5,\n",
    "                         min_lr=0.0005,\n",
    "                         min_delta=0.001)\n",
    "\n",
    "hist = model.fit(train_X, train_y,\n",
    "                 epochs=EPOCHS,\n",
    "                 batch_size=BATCH_SIZE,\n",
    "                 validation_data=(valid_X, valid_y),\n",
    "                 callbacks=[rate, stopping])"
   ]
  },
  {
   "cell_type": "code",
   "execution_count": null,
   "metadata": {
    "papermill": {
     "duration": 1.566849,
     "end_time": "2020-12-29T23:13:34.020812",
     "exception": false,
     "start_time": "2020-12-29T23:13:32.453963",
     "status": "completed"
    },
    "tags": []
   },
   "outputs": [],
   "source": [
    "hist_df = pd.DataFrame(hist.history)\n",
    "\n",
    "# loss\n",
    "plt.figure(figsize=(8, 5))\n",
    "sns.lineplot(data=hist_df[\"loss\"], label=\"Training\")\n",
    "sns.lineplot(data=hist_df[\"val_loss\"], label=\"Validation\")\n",
    "plt.title(\"Loss\")\n",
    "plt.grid(True)\n",
    "plt.xlabel(\"Epoch\")\n",
    "plt.ylabel(\"\")\n",
    "plt.show()\n",
    "\n",
    "# precision at recall\n",
    "plt.figure(figsize=(8, 5))\n",
    "sns.lineplot(data=hist_df[\"p@r\"], label=\"Training\")\n",
    "sns.lineplot(data=hist_df[\"val_p@r\"], label=\"Validation\")\n",
    "plt.title(f\"Precision at {int(100 * METRIC_RECALL)}% recall\")\n",
    "plt.grid(True)\n",
    "plt.xlabel(\"Epoch\")\n",
    "plt.ylabel(\"\")\n",
    "plt.show()\n",
    "\n",
    "# area under ROC curve\n",
    "plt.figure(figsize=(8, 5))\n",
    "sns.lineplot(data=hist_df[\"auc\"], label=\"Training\")\n",
    "sns.lineplot(data=hist_df[\"val_auc\"], label=\"Validation\")\n",
    "plt.title(\"Area under the ROC curve\")\n",
    "plt.grid(True)\n",
    "plt.xlabel(\"Epoch\")\n",
    "plt.ylabel(\"\")\n",
    "plt.show()"
   ]
  },
  {
   "cell_type": "code",
   "execution_count": null,
   "metadata": {
    "papermill": {
     "duration": 18.234516,
     "end_time": "2020-12-29T23:13:52.968634",
     "exception": false,
     "start_time": "2020-12-29T23:13:34.734118",
     "status": "completed"
    },
    "tags": []
   },
   "outputs": [],
   "source": [
    "probs = model.predict(valid_X)\n",
    "\n",
    "# precision vs recall\n",
    "precisions, recalls, thresholds = precision_recall_curve(valid_y, probs)\n",
    "\n",
    "plt.figure(figsize=(8, 5))\n",
    "plt.plot(thresholds, precisions[:-1], \"tab:blue\", label=\"Precision\")\n",
    "plt.plot(thresholds, recalls[:-1], \"tab:orange\", label=\"Recall\")\n",
    "plt.legend()\n",
    "plt.xlabel(\"Threshold\")\n",
    "plt.title(\"Precision/recall at threshold\")\n",
    "plt.axis([0, 1, 0, 1])\n",
    "plt.grid(True)\n",
    "plt.show()\n",
    "\n",
    "plt.figure(figsize=(8, 5))\n",
    "plt.plot(recalls, precisions, \"tab:blue\")\n",
    "plt.xlabel(\"Recall\")\n",
    "plt.ylabel(\"Precision\")\n",
    "plt.title(\"Precision at recall\")\n",
    "plt.axis([0, 1, 0, 1])\n",
    "plt.grid(True)\n",
    "plt.show()\n",
    "\n",
    "# ROC curve\n",
    "false_positives, true_positives, thresholds = roc_curve(valid_y, probs)\n",
    "plt.figure(figsize=(8, 5))\n",
    "plt.plot(false_positives, true_positives, \"tab:blue\")\n",
    "plt.plot([0, 1], [0, 1], \"tab:gray\")\n",
    "plt.xlabel(\"False positive rate\")\n",
    "plt.ylabel(\"True positive rate\")\n",
    "plt.title(\"ROC curve\")\n",
    "plt.axis([0, 1, 0, 1])\n",
    "plt.grid(True)\n",
    "plt.show()"
   ]
  },
  {
   "cell_type": "code",
   "execution_count": null,
   "metadata": {
    "papermill": {
     "duration": 0.749827,
     "end_time": "2020-12-29T23:13:54.411893",
     "exception": false,
     "start_time": "2020-12-29T23:13:53.662066",
     "status": "completed"
    },
    "tags": []
   },
   "outputs": [],
   "source": [
    "with open(\"model.json\", \"w\") as f:\n",
    "    f.write(model.to_json())\n",
    "\n",
    "model.save_weights(\"model.h5\")"
   ]
  }
 ],
 "metadata": {
  "kernelspec": {
   "display_name": "Python 3",
   "language": "python",
   "name": "python3"
  },
  "language_info": {
   "codemirror_mode": {
    "name": "ipython",
    "version": 3
   },
   "file_extension": ".py",
   "mimetype": "text/x-python",
   "name": "python",
   "nbconvert_exporter": "python",
   "pygments_lexer": "ipython3",
   "version": "3.8.5"
  }
 },
 "nbformat": 4,
 "nbformat_minor": 4
}
