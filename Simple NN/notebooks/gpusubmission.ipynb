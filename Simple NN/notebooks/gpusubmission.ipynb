{
 "cells": [
  {
   "cell_type": "markdown",
   "metadata": {
    "papermill": {
     "duration": 0.006035,
     "end_time": "2020-12-30T20:18:06.333432",
     "exception": false,
     "start_time": "2020-12-30T20:18:06.327397",
     "status": "completed"
    },
    "tags": []
   },
   "source": [
    "# Jane Street - GPU Submission\n",
    "This is the actual notebook submitted to the competition. First, we load the trained models and use them to implement the `predict()` function."
   ]
  },
  {
   "cell_type": "code",
   "execution_count": null,
   "metadata": {
    "papermill": {
     "duration": 4.528579,
     "end_time": "2020-12-30T20:18:10.868037",
     "exception": false,
     "start_time": "2020-12-30T20:18:06.339458",
     "status": "completed"
    },
    "tags": []
   },
   "outputs": [],
   "source": [
    "import json\n",
    "import os\n",
    "\n",
    "import numpy as np\n",
    "import pandas as pd\n",
    "\n",
    "import tensorflow as tf\n",
    "from tensorflow import keras"
   ]
  },
  {
   "cell_type": "code",
   "execution_count": null,
   "metadata": {
    "papermill": {
     "duration": 2.937306,
     "end_time": "2020-12-30T20:18:13.811114",
     "exception": false,
     "start_time": "2020-12-30T20:18:10.873808",
     "status": "completed"
    },
    "tags": []
   },
   "outputs": [],
   "source": [
    "# load the model\n",
    "model_folder = os.path.join(os.pardir, \"input\", \"jane-street-gpu\")\n",
    "\n",
    "with open(os.path.join(model_folder, \"model.json\"), \"r\") as f:\n",
    "    model_json = f.read()\n",
    "\n",
    "model = keras.models.model_from_json(model_json)\n",
    "model.load_weights(os.path.join(model_folder, \"model.h5\"))\n",
    "\n",
    "# compile the model\n",
    "model.call = tf.function(model.call, experimental_relax_shapes=True)\n",
    "\n",
    "# get the optimal threshold\n",
    "utility_folder = os.path.join(os.pardir, \"input\", \"jane-street-gpu-utility\")\n",
    "\n",
    "with open(os.path.join(utility_folder, \"threshold.json\")) as f:\n",
    "    threshold_json = json.loads(f.read())\n",
    "\n",
    "threshold = float(threshold_json[\"threshold\"])\n",
    "\n",
    "# get the medians to impute missing values\n",
    "median = pd.read_csv(os.path.join(model_folder, \"impute.csv\"), index_col=0, squeeze=True)"
   ]
  },
  {
   "cell_type": "code",
   "execution_count": null,
   "metadata": {
    "papermill": {
     "duration": 0.014881,
     "end_time": "2020-12-30T20:18:13.831495",
     "exception": false,
     "start_time": "2020-12-30T20:18:13.816614",
     "status": "completed"
    },
    "tags": []
   },
   "outputs": [],
   "source": [
    "# function to return predictions for the current trade\n",
    "def predict(sample):\n",
    "    X = sample.to_numpy()\n",
    "    nan = np.isnan(X)\n",
    "    X[nan] = median[nan.squeeze()]\n",
    "    prob = model(X, training=False).numpy().item()\n",
    "    return 1 if prob > threshold else 0"
   ]
  },
  {
   "cell_type": "markdown",
   "metadata": {
    "papermill": {
     "duration": 0.00479,
     "end_time": "2020-12-30T20:18:13.841285",
     "exception": false,
     "start_time": "2020-12-30T20:18:13.836495",
     "status": "completed"
    },
    "tags": []
   },
   "source": [
    "Then we use the Jane Street API to make the predictions. In this setup the iterator `iter_test` yields single samples `test_df` in chronological order. The predict function needs to decide whether to accept or reject the trade at this time-point using only the current sample and the previous samples stored in `hist_df`. Set `pred_df` to 1 to accept the trade or to 0 to reject the trade."
   ]
  },
  {
   "cell_type": "code",
   "execution_count": null,
   "metadata": {
    "papermill": {
     "duration": 189.83065,
     "end_time": "2020-12-30T20:21:23.677290",
     "exception": false,
     "start_time": "2020-12-30T20:18:13.846640",
     "status": "completed"
    },
    "tags": []
   },
   "outputs": [],
   "source": [
    "import janestreet\n",
    "env = janestreet.make_env()\n",
    "iter_test = env.iter_test()\n",
    "\n",
    "# initialize things with first sample\n",
    "sample, pred = next(iter_test)\n",
    "features = [c for c in sample.columns if \"feature\" in c]\n",
    "median = median[features].to_numpy()\n",
    "pred.action = predict(sample[features])\n",
    "env.predict(pred)\n",
    "\n",
    "# loop over remaining samples\n",
    "for (sample, pred) in iter_test:\n",
    "    pred.action = predict(sample[features]) if sample[\"weight\"].item() > 0.0 else 0\n",
    "    env.predict(pred)"
   ]
  }
 ],
 "metadata": {
  "kernelspec": {
   "display_name": "Python 3",
   "language": "python",
   "name": "python3"
  },
  "language_info": {
   "codemirror_mode": {
    "name": "ipython",
    "version": 3
   },
   "file_extension": ".py",
   "mimetype": "text/x-python",
   "name": "python",
   "nbconvert_exporter": "python",
   "pygments_lexer": "ipython3",
   "version": "3.8.5"
  },
  "papermill": {
   "duration": 202.84244,
   "end_time": "2020-12-30T20:21:24.831942",
   "environment_variables": {},
   "exception": null,
   "input_path": "__notebook__.ipynb",
   "output_path": "__notebook__.ipynb",
   "parameters": {},
   "start_time": "2020-12-30T20:18:01.989502",
   "version": "2.1.0"
  }
 },
 "nbformat": 4,
 "nbformat_minor": 4
}
