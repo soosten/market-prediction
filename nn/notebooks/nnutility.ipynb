{
 "cells": [
  {
   "cell_type": "markdown",
   "metadata": {
    "papermill": {
     "duration": 0.004347,
     "end_time": "2020-12-31T17:09:17.613021",
     "exception": false,
     "start_time": "2020-12-31T17:09:17.608674",
     "status": "completed"
    },
    "tags": []
   },
   "source": [
    "# JS - NN - Utility\n",
    "\n",
    "For the $i$-th day, the model is given the score\n",
    "$$p_i = \\sum_j \\mbox{weight}_{ij} \\cdot \\mbox{resp}_{ij}$$\n",
    "where the sum ranges over all accepted trades for the day. The final score of the model over all days is then\n",
    "$$u = \\min(\\max(t, 0), 6) \\cdot \\sum_i p_i $$\n",
    "with\n",
    "$$t = \\frac{\\sum_i p_i}{\\sqrt{\\sum_i p_i^2}} \\sqrt{\\frac{250}{\\mbox{total number of days}}}.$$\n",
    "\n",
    "In this notebook we investigate how to maximize the utility given a probability that $resp_{ij}$ is positive or an estimate for $resp_{ij}$."
   ]
  },
  {
   "cell_type": "code",
   "execution_count": null,
   "metadata": {
    "papermill": {
     "duration": 6.516976,
     "end_time": "2020-12-31T17:09:24.133495",
     "exception": false,
     "start_time": "2020-12-31T17:09:17.616519",
     "status": "completed"
    },
    "tags": []
   },
   "outputs": [],
   "source": [
    "import json\n",
    "import os\n",
    "\n",
    "import numpy as np\n",
    "import pandas as pd\n",
    "\n",
    "import matplotlib.pyplot as plt\n",
    "import seaborn as sns\n",
    "\n",
    "import tensorflow as tf\n",
    "import tensorflow.keras as keras"
   ]
  },
  {
   "cell_type": "code",
   "execution_count": null,
   "metadata": {
    "papermill": {
     "duration": 0.216655,
     "end_time": "2020-12-31T17:09:24.354201",
     "exception": false,
     "start_time": "2020-12-31T17:09:24.137546",
     "status": "completed"
    },
    "tags": []
   },
   "outputs": [],
   "source": [
    "# load the model\n",
    "model_folder = os.path.join(os.pardir, \"input\", \"js-nn-training\")\n",
    "\n",
    "with open(os.path.join(model_folder, \"model.json\"), \"r\") as f:\n",
    "    model_json = f.read()\n",
    "\n",
    "model = keras.models.model_from_json(model_json)\n",
    "model.load_weights(os.path.join(model_folder, \"model.h5\"))\n",
    "\n",
    "impute = pd.read_csv(os.path.join(model_folder, \"impute.csv\"), index_col=0, squeeze=True)"
   ]
  },
  {
   "cell_type": "code",
   "execution_count": null,
   "metadata": {
    "papermill": {
     "duration": 139.37626,
     "end_time": "2020-12-31T17:11:43.734537",
     "exception": false,
     "start_time": "2020-12-31T17:09:24.358277",
     "status": "completed"
    },
    "tags": []
   },
   "outputs": [],
   "source": [
    "# read data as 32 bit floats\n",
    "file = os.path.join(os.pardir, \"input\", \"jane-street-market-prediction\", \"train.csv\")\n",
    "dtype = {c: np.float32 for c in pd.read_csv(file, nrows=1).columns}\n",
    "full_df = pd.read_csv(file, engine=\"c\", dtype=dtype)\n",
    "\n",
    "# split into training and validation\n",
    "valid_df = full_df[full_df[\"date\"].between(425, 500)]\n",
    "\n",
    "# fill missing values with median\n",
    "valid_df = valid_df.fillna(impute)\n",
    "\n",
    "# build features and labels\n",
    "features = [c for c in valid_df.columns if \"feature\" in c]\n",
    "X = valid_df[features].to_numpy()\n",
    "\n",
    "resp = valid_df[\"resp\"].to_numpy()\n",
    "weight = valid_df[\"weight\"].to_numpy()\n",
    "date = valid_df[\"date\"].astype(np.int).to_numpy()\n",
    "\n",
    "# get model predictions\n",
    "probs = model.predict(X).squeeze()"
   ]
  },
  {
   "cell_type": "code",
   "execution_count": null,
   "metadata": {
    "papermill": {
     "duration": 558.268413,
     "end_time": "2020-12-31T17:21:02.007181",
     "exception": false,
     "start_time": "2020-12-31T17:11:43.738768",
     "status": "completed"
    },
    "tags": []
   },
   "outputs": [],
   "source": [
    "# utility function as defined above\n",
    "def utility(threshold):\n",
    "    action = np.heaviside(probs - threshold, 0.0)\n",
    "    p = np.bincount(date, weight * resp * action)\n",
    "    \n",
    "    if np.sum(p ** 2) == 0.0:\n",
    "        return 0.0\n",
    "    \n",
    "    t = np.sum(p) / np.sqrt(np.sum(p ** 2)) * np.sqrt(250 / p.size)\n",
    "    u = min(max(t, 0), 6) * np.sum(p)\n",
    "    \n",
    "    return u\n",
    "\n",
    "# compute utilities at different thresholds and select the best one\n",
    "thresholds = np.arange(0.01, 1.0, 1e-5)\n",
    "utilities = np.array([utility(thresh) for thresh in thresholds])\n",
    "utilities = (utilities - utilities.min()) / (utilities.max() - utilities.min())\n",
    "best = thresholds[np.argmax(utilities)]\n",
    "best = np.round(best, 5)\n",
    "\n",
    "# save the best threshold\n",
    "with open(os.path.join(os.curdir, \"threshold.json\"), \"w\") as file:\n",
    "    json.dump({\"threshold\": str(best)}, file)\n",
    "    \n",
    "# plot utility curve and print best threshold\n",
    "print(f\"Optimal threshold at p = {best}\")\n",
    "\n",
    "plt.figure(figsize=(8, 5))\n",
    "plt.plot(thresholds, utilities, \"tab:blue\")\n",
    "plt.xlabel(\"Threshold\")\n",
    "plt.xlabel(\"Utility\")\n",
    "plt.title(\"Utility at threshold\")\n",
    "plt.axis([0, 1, 0, 1])\n",
    "plt.grid(True)\n",
    "plt.show()"
   ]
  }
 ],
 "metadata": {
  "kernelspec": {
   "display_name": "Python 3",
   "language": "python",
   "name": "python3"
  },
  "language_info": {
   "codemirror_mode": {
    "name": "ipython",
    "version": 3
   },
   "file_extension": ".py",
   "mimetype": "text/x-python",
   "name": "python",
   "nbconvert_exporter": "python",
   "pygments_lexer": "ipython3",
   "version": "3.8.5"
  },
  "papermill": {
   "duration": 708.943936,
   "end_time": "2020-12-31T17:21:02.119474",
   "environment_variables": {},
   "exception": null,
   "input_path": "__notebook__.ipynb",
   "output_path": "__notebook__.ipynb",
   "parameters": {},
   "start_time": "2020-12-31T17:09:13.175538",
   "version": "2.1.0"
  }
 },
 "nbformat": 4,
 "nbformat_minor": 4
}
