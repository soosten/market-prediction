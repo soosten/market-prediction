{
 "cells": [
  {
   "cell_type": "markdown",
   "metadata": {
    "papermill": {
     "duration": 0.008545,
     "end_time": "2020-12-31T05:18:48.287572",
     "exception": false,
     "start_time": "2020-12-31T05:18:48.279027",
     "status": "completed"
    },
    "tags": []
   },
   "source": [
    "# Jane Street - GPU"
   ]
  },
  {
   "cell_type": "code",
   "execution_count": null,
   "metadata": {
    "papermill": {
     "duration": 6.389276,
     "end_time": "2020-12-31T05:18:54.687189",
     "exception": false,
     "start_time": "2020-12-31T05:18:48.297913",
     "status": "completed"
    },
    "tags": []
   },
   "outputs": [],
   "source": [
    "import os\n",
    "\n",
    "import numpy as np\n",
    "import pandas as pd\n",
    "\n",
    "import matplotlib.pyplot as plt\n",
    "import seaborn as sns\n",
    "\n",
    "from sklearn.metrics import precision_recall_curve, roc_curve, roc_auc_score\n",
    "\n",
    "import tensorflow as tf\n",
    "from tensorflow import keras\n",
    "from tensorflow.keras import layers\n",
    "\n",
    "from tensorflow.keras.callbacks import EarlyStopping, ReduceLROnPlateau\n",
    "from tensorflow.keras.losses import BinaryCrossentropy\n",
    "from tensorflow.keras.metrics import AUC, PrecisionAtRecall\n",
    "from tensorflow.keras.optimizers import Adam, SGD\n",
    "\n",
    "# set tensorflow's random seed\n",
    "tf.random.set_seed(13)"
   ]
  },
  {
   "cell_type": "code",
   "execution_count": null,
   "metadata": {
    "papermill": {
     "duration": 152.991358,
     "end_time": "2020-12-31T05:21:27.688059",
     "exception": false,
     "start_time": "2020-12-31T05:18:54.696701",
     "status": "completed"
    },
    "tags": []
   },
   "outputs": [],
   "source": [
    "# read data as 32 bit floats\n",
    "file = os.path.join(os.pardir, \"input\", \"jane-street-market-prediction\", \"train.csv\")\n",
    "dtype = {c: np.float32 for c in pd.read_csv(file, nrows=1).columns}\n",
    "full_df = pd.read_csv(file, engine=\"c\", dtype=dtype)"
   ]
  },
  {
   "cell_type": "code",
   "execution_count": null,
   "metadata": {
    "papermill": {
     "duration": 1.815119,
     "end_time": "2020-12-31T05:21:29.512785",
     "exception": false,
     "start_time": "2020-12-31T05:21:27.697666",
     "status": "completed"
    },
    "tags": []
   },
   "outputs": [],
   "source": [
    "# split into training and validation\n",
    "train_df = full_df[full_df[\"date\"].between(86, 375)]\n",
    "valid_df = full_df[full_df[\"date\"].between(425, 500)]\n",
    "\n",
    "# fill missing values with median\n",
    "mean = train_df.mean()\n",
    "train_df = train_df.fillna(mean)\n",
    "valid_df = valid_df.fillna(mean)\n",
    "\n",
    "# store imputation values\n",
    "mean.to_csv(\"impute.csv\")\n",
    "\n",
    "# build features and labels\n",
    "features = [c for c in train_df.columns if \"feature\" in c]\n",
    "train_X = train_df[features].to_numpy()\n",
    "valid_X = valid_df[features].to_numpy()\n",
    "train_y = train_df[\"resp\"].gt(0.0).astype(np.float32).to_numpy()\n",
    "valid_y = valid_df[\"resp\"].gt(0.0).astype(np.float32).to_numpy()\n",
    "\n",
    "print(f\"Class imbalance: {train_y.mean()}\")"
   ]
  },
  {
   "cell_type": "code",
   "execution_count": null,
   "metadata": {
    "papermill": {
     "duration": 0.017929,
     "end_time": "2020-12-31T05:21:29.540233",
     "exception": false,
     "start_time": "2020-12-31T05:21:29.522304",
     "status": "completed"
    },
    "tags": []
   },
   "outputs": [],
   "source": [
    "# model training parameters\n",
    "BATCH_SIZE = 512\n",
    "LEARNING_RATE = 1e-3\n",
    "EPOCHS = 200\n",
    "LABEL_SMOOTHING = 0.0\n",
    "NOISE = 0.1\n",
    "\n",
    "# show precision at this recall in metrics\n",
    "METRIC_RECALL = 0.55"
   ]
  },
  {
   "cell_type": "code",
   "execution_count": null,
   "metadata": {
    "papermill": {
     "duration": 5.20129,
     "end_time": "2020-12-31T05:21:34.750775",
     "exception": false,
     "start_time": "2020-12-31T05:21:29.549485",
     "status": "completed"
    },
    "tags": []
   },
   "outputs": [],
   "source": [
    "# input & normalization\n",
    "norm = layers.experimental.preprocessing.Normalization()\n",
    "norm.adapt(train_X)\n",
    "inputs = layers.Input(shape=[len(features)])\n",
    "flow = norm(inputs)\n",
    "\n",
    "flow = layers.GaussianNoise(stddev=NOISE)(flow)\n",
    "\n",
    "flow = layers.Dense(units=70)(flow)\n",
    "flow = layers.Activation(keras.activations.swish)(flow)\n",
    "flow = layers.Dropout(rate=0.5)(flow)\n",
    "\n",
    "flow = layers.Dense(units=1)(flow)\n",
    "outputs = layers.Activation(\"sigmoid\")(flow)\n",
    "\n",
    "# optimization parameters\n",
    "loss = BinaryCrossentropy(label_smoothing=LABEL_SMOOTHING)\n",
    "optimizer = Adam(learning_rate=LEARNING_RATE)\n",
    "metrics = [PrecisionAtRecall(recall=METRIC_RECALL, name=\"p@r\"), AUC(name=\"auc\")]\n",
    "\n",
    "# compile the model and print a summary\n",
    "model = keras.Model(inputs=inputs, outputs=outputs)\n",
    "model.compile(loss=loss, optimizer=optimizer, metrics=metrics)\n",
    "model.summary()"
   ]
  },
  {
   "cell_type": "code",
   "execution_count": null,
   "metadata": {
    "papermill": {
     "duration": 493.720359,
     "end_time": "2020-12-31T05:29:48.480524",
     "exception": false,
     "start_time": "2020-12-31T05:21:34.760165",
     "status": "completed"
    },
    "tags": []
   },
   "outputs": [],
   "source": [
    "# define callbacks for learning rate schedule and early stopping\n",
    "stopping = EarlyStopping(monitor=\"val_loss\",\n",
    "                         patience=20,\n",
    "                         min_delta=5e-5,\n",
    "                         restore_best_weights=True)\n",
    "\n",
    "rate = ReduceLROnPlateau(monitor=\"val_loss\",\n",
    "                         factor=0.1,\n",
    "                         patience=10,\n",
    "                         min_lr=0.0005,\n",
    "                         min_delta=0.001)\n",
    "\n",
    "hist = model.fit(train_X, train_y,\n",
    "                 epochs=EPOCHS,\n",
    "                 batch_size=BATCH_SIZE,\n",
    "                 validation_data=(valid_X, valid_y),\n",
    "                 callbacks=[rate, stopping])"
   ]
  },
  {
   "cell_type": "code",
   "execution_count": null,
   "metadata": {
    "papermill": {
     "duration": 4.715328,
     "end_time": "2020-12-31T05:29:56.057972",
     "exception": false,
     "start_time": "2020-12-31T05:29:51.342644",
     "status": "completed"
    },
    "tags": []
   },
   "outputs": [],
   "source": [
    "hist_df = pd.DataFrame(hist.history)\n",
    "\n",
    "# loss\n",
    "plt.figure(figsize=(8, 5))\n",
    "sns.lineplot(data=hist_df[\"loss\"], label=\"Training\")\n",
    "sns.lineplot(data=hist_df[\"val_loss\"], label=\"Validation\")\n",
    "plt.title(\"Loss\")\n",
    "plt.grid(True)\n",
    "plt.xlabel(\"Epoch\")\n",
    "plt.ylabel(\"\")\n",
    "plt.show()\n",
    "\n",
    "# precision at recall\n",
    "plt.figure(figsize=(8, 5))\n",
    "sns.lineplot(data=hist_df[\"p@r\"], label=\"Training\")\n",
    "sns.lineplot(data=hist_df[\"val_p@r\"], label=\"Validation\")\n",
    "plt.title(f\"Precision at {int(100 * METRIC_RECALL)}% recall\")\n",
    "plt.grid(True)\n",
    "plt.xlabel(\"Epoch\")\n",
    "plt.ylabel(\"\")\n",
    "plt.show()\n",
    "\n",
    "# area under ROC curve\n",
    "plt.figure(figsize=(8, 5))\n",
    "sns.lineplot(data=hist_df[\"auc\"], label=\"Training\")\n",
    "sns.lineplot(data=hist_df[\"val_auc\"], label=\"Validation\")\n",
    "plt.title(\"Area under the ROC curve\")\n",
    "plt.grid(True)\n",
    "plt.xlabel(\"Epoch\")\n",
    "plt.ylabel(\"\")\n",
    "plt.show()"
   ]
  },
  {
   "cell_type": "code",
   "execution_count": null,
   "metadata": {
    "papermill": {
     "duration": 13.394437,
     "end_time": "2020-12-31T05:30:12.192353",
     "exception": false,
     "start_time": "2020-12-31T05:29:58.797916",
     "status": "completed"
    },
    "tags": []
   },
   "outputs": [],
   "source": [
    "probs = model.predict(valid_X)\n",
    "\n",
    "# precision vs recall\n",
    "precisions, recalls, thresholds = precision_recall_curve(valid_y, probs)\n",
    "\n",
    "plt.figure(figsize=(8, 5))\n",
    "plt.plot(thresholds, precisions[:-1], \"tab:blue\", label=\"Precision\")\n",
    "plt.plot(thresholds, recalls[:-1], \"tab:orange\", label=\"Recall\")\n",
    "plt.legend()\n",
    "plt.xlabel(\"Threshold\")\n",
    "plt.title(\"Precision/recall at threshold\")\n",
    "plt.axis([0, 1, 0, 1])\n",
    "plt.grid(True)\n",
    "plt.show()\n",
    "\n",
    "plt.figure(figsize=(8, 5))\n",
    "plt.plot(recalls, precisions, \"tab:blue\")\n",
    "plt.xlabel(\"Recall\")\n",
    "plt.ylabel(\"Precision\")\n",
    "plt.title(\"Precision at recall\")\n",
    "plt.axis([0, 1, 0, 1])\n",
    "plt.grid(True)\n",
    "plt.show()\n",
    "\n",
    "# ROC curve\n",
    "false_positives, true_positives, thresholds = roc_curve(valid_y, probs)\n",
    "plt.figure(figsize=(8, 5))\n",
    "plt.plot(false_positives, true_positives, \"tab:blue\")\n",
    "plt.plot([0, 1], [0, 1], \"tab:gray\")\n",
    "plt.xlabel(\"False positive rate\")\n",
    "plt.ylabel(\"True positive rate\")\n",
    "plt.title(\"ROC curve\")\n",
    "plt.axis([0, 1, 0, 1])\n",
    "plt.grid(True)\n",
    "plt.show()\n",
    "\n",
    "# AUC\n",
    "print(f\"Final AUC: {roc_auc_score(valid_y, probs)}\")"
   ]
  },
  {
   "cell_type": "code",
   "execution_count": null,
   "metadata": {
    "papermill": {
     "duration": 2.81038,
     "end_time": "2020-12-31T05:30:18.063836",
     "exception": false,
     "start_time": "2020-12-31T05:30:15.253456",
     "status": "completed"
    },
    "tags": []
   },
   "outputs": [],
   "source": [
    "with open(\"model.json\", \"w\") as f:\n",
    "    f.write(model.to_json())\n",
    "\n",
    "model.save_weights(\"model.h5\")"
   ]
  }
 ],
 "metadata": {
  "kernelspec": {
   "display_name": "Python 3",
   "language": "python",
   "name": "python3"
  },
  "language_info": {
   "codemirror_mode": {
    "name": "ipython",
    "version": 3
   },
   "file_extension": ".py",
   "mimetype": "text/x-python",
   "name": "python",
   "nbconvert_exporter": "python",
   "pygments_lexer": "ipython3",
   "version": "3.8.5"
  },
  "papermill": {
   "duration": 698.922278,
   "end_time": "2020-12-31T05:30:22.151139",
   "environment_variables": {},
   "exception": null,
   "input_path": "__notebook__.ipynb",
   "output_path": "__notebook__.ipynb",
   "parameters": {},
   "start_time": "2020-12-31T05:18:43.228861",
   "version": "2.1.0"
  }
 },
 "nbformat": 4,
 "nbformat_minor": 4
}
