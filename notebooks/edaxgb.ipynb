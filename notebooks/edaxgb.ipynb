{
 "cells": [
  {
   "cell_type": "markdown",
   "metadata": {
    "papermill": {
     "duration": 0.008775,
     "end_time": "2021-03-01T21:47:36.045274",
     "exception": false,
     "start_time": "2021-03-01T21:47:36.036499",
     "status": "completed"
    },
    "tags": []
   },
   "source": [
    "# Jane Street - EDA XGB\n",
    "This notebook trains an ensemble of gradient-boosted trees on the subset of features selected in the EDA notebook."
   ]
  },
  {
   "cell_type": "code",
   "execution_count": 1,
   "metadata": {
    "execution": {
     "iopub.execute_input": "2021-03-01T21:47:36.070140Z",
     "iopub.status.busy": "2021-03-01T21:47:36.069565Z",
     "iopub.status.idle": "2021-03-01T21:49:14.458696Z",
     "shell.execute_reply": "2021-03-01T21:49:14.457504Z"
    },
    "papermill": {
     "duration": 98.40565,
     "end_time": "2021-03-01T21:49:14.458899",
     "exception": false,
     "start_time": "2021-03-01T21:47:36.053249",
     "status": "completed"
    },
    "tags": []
   },
   "outputs": [
    {
     "name": "stdout",
     "output_type": "stream",
     "text": [
      "Found existing installation: xgboost 1.3.3\r\n",
      "Uninstalling xgboost-1.3.3:\r\n",
      "  Successfully uninstalled xgboost-1.3.3\r\n",
      "Collecting xgboost==1.2.1\r\n",
      "  Downloading xgboost-1.2.1-py3-none-manylinux2010_x86_64.whl (148.9 MB)\r\n",
      "\u001b[K     |████████████████████████████████| 148.9 MB 66 kB/s \r\n",
      "\u001b[?25hRequirement already satisfied: numpy in /opt/conda/lib/python3.7/site-packages (from xgboost==1.2.1) (1.19.5)\r\n",
      "Requirement already satisfied: scipy in /opt/conda/lib/python3.7/site-packages (from xgboost==1.2.1) (1.5.4)\r\n",
      "Installing collected packages: xgboost\r\n",
      "Successfully installed xgboost-1.2.1\r\n"
     ]
    }
   ],
   "source": [
    "# downgrade xgboost\n",
    "!pip uninstall xgboost -y\n",
    "!pip install xgboost==1.2.1\n",
    "\n",
    "import joblib\n",
    "import json\n",
    "import os\n",
    "\n",
    "import numpy as np\n",
    "import pandas as pd\n",
    "\n",
    "import matplotlib.pyplot as plt\n",
    "import seaborn as sns\n",
    "\n",
    "from mlxtend.feature_selection import ColumnSelector\n",
    "\n",
    "from sklearn.impute import SimpleImputer\n",
    "from sklearn.metrics import precision_recall_curve, roc_curve, roc_auc_score\n",
    "from sklearn.model_selection import GridSearchCV, PredefinedSplit\n",
    "from sklearn.pipeline import make_pipeline\n",
    "\n",
    "from xgboost import XGBClassifier"
   ]
  },
  {
   "cell_type": "markdown",
   "metadata": {
    "papermill": {
     "duration": 0.402163,
     "end_time": "2021-03-01T21:49:15.265172",
     "exception": false,
     "start_time": "2021-03-01T21:49:14.863009",
     "status": "completed"
    },
    "tags": []
   },
   "source": [
    "Read the data and extract the features and target variables."
   ]
  },
  {
   "cell_type": "code",
   "execution_count": 2,
   "metadata": {
    "execution": {
     "iopub.execute_input": "2021-03-01T21:49:16.082388Z",
     "iopub.status.busy": "2021-03-01T21:49:16.081780Z",
     "iopub.status.idle": "2021-03-01T21:51:18.491426Z",
     "shell.execute_reply": "2021-03-01T21:51:18.491852Z"
    },
    "papermill": {
     "duration": 122.826354,
     "end_time": "2021-03-01T21:51:18.492031",
     "exception": false,
     "start_time": "2021-03-01T21:49:15.665677",
     "status": "completed"
    },
    "tags": []
   },
   "outputs": [],
   "source": [
    "# read data as 32 bit floats\n",
    "file = os.path.join(os.pardir, \"input\", \"jane-street-market-prediction\", \"train.csv\")\n",
    "dtype = {c: np.float32 for c in pd.read_csv(file, nrows=1).columns}\n",
    "full_df = pd.read_csv(file, engine=\"c\", dtype=dtype)\n",
    "\n",
    "# split into training and validation\n",
    "train_df = full_df[full_df[\"date\"].between(0, 400)]\n",
    "valid_df = full_df[full_df[\"date\"].between(425, 500)]\n",
    "\n",
    "# build features and labels\n",
    "features = [f\"feature_{x}\" for x in range(130)]\n",
    "train_X = train_df[features].to_numpy()\n",
    "valid_X = valid_df[features].to_numpy()\n",
    "train_y = train_df[\"resp\"].gt(0.0).astype(np.uint8).to_numpy()\n",
    "valid_y = valid_df[\"resp\"].gt(0.0).astype(np.uint8).to_numpy()"
   ]
  },
  {
   "cell_type": "markdown",
   "metadata": {
    "papermill": {
     "duration": 0.40022,
     "end_time": "2021-03-01T21:51:19.295104",
     "exception": false,
     "start_time": "2021-03-01T21:51:18.894884",
     "status": "completed"
    },
    "tags": []
   },
   "source": [
    "Preprocess the data by selecting the features identified in the EDA notebook and imputing any missing values with the value -200. The EDA notebook shows that none of the features take on a value close to -200, so this lets the trees identify missing features."
   ]
  },
  {
   "cell_type": "code",
   "execution_count": 3,
   "metadata": {
    "execution": {
     "iopub.execute_input": "2021-03-01T21:51:20.099690Z",
     "iopub.status.busy": "2021-03-01T21:51:20.098650Z",
     "iopub.status.idle": "2021-03-01T21:51:21.340718Z",
     "shell.execute_reply": "2021-03-01T21:51:21.340261Z"
    },
    "papermill": {
     "duration": 1.647697,
     "end_time": "2021-03-01T21:51:21.340858",
     "exception": false,
     "start_time": "2021-03-01T21:51:19.693161",
     "status": "completed"
    },
    "tags": []
   },
   "outputs": [],
   "source": [
    "# impute and normalize data\n",
    "cs = ColumnSelector(cols=(0,  1,  3,  5,  8,  11, 17, 19, 20, 21, 23,\n",
    "                          27, 29, 30, 31, 33, 34, 37, 39, 41, 42, 43,\n",
    "                          44, 45, 47, 53, 60, 62, 64, 79, 83, 85, 87,\n",
    "                          88, 90, 91, 94, 95, 97, 100, 103, 106))\n",
    "si = SimpleImputer(strategy=\"constant\", fill_value=-200)\n",
    "pp = make_pipeline(cs, si)\n",
    "\n",
    "train_X = pp.fit_transform(train_X)\n",
    "valid_X = pp.transform(valid_X)"
   ]
  },
  {
   "cell_type": "markdown",
   "metadata": {
    "papermill": {
     "duration": 0.401606,
     "end_time": "2021-03-01T21:51:22.140475",
     "exception": false,
     "start_time": "2021-03-01T21:51:21.738869",
     "status": "completed"
    },
    "tags": []
   },
   "source": [
    "Train an ensemble of gradient-boosted trees. We stop training once the validation AUC has not improved for 50 rounds. We choose the model's parameters by optimizing the validation AUC using successive grid searches."
   ]
  },
  {
   "cell_type": "code",
   "execution_count": 4,
   "metadata": {
    "execution": {
     "iopub.execute_input": "2021-03-01T21:51:23.049776Z",
     "iopub.status.busy": "2021-03-01T21:51:23.043328Z",
     "iopub.status.idle": "2021-03-01T21:51:56.938622Z",
     "shell.execute_reply": "2021-03-01T21:51:56.939127Z"
    },
    "papermill": {
     "duration": 34.399213,
     "end_time": "2021-03-01T21:51:56.939294",
     "exception": false,
     "start_time": "2021-03-01T21:51:22.540081",
     "status": "completed"
    },
    "tags": []
   },
   "outputs": [
    {
     "name": "stdout",
     "output_type": "stream",
     "text": [
      "Highest AUC = 0.5328 with parameters:\n",
      "  colsample_bytree = 0.9\n",
      "  gamma = 0\n",
      "  learning_rate = 0.1\n",
      "  max_depth = 6\n",
      "  min_child_weight = 1\n",
      "  reg_alpha = 225\n",
      "  reg_lambda = 0.75\n",
      "  subsample = 1.0\n",
      "\n",
      "Refitting best model...\n",
      "[0]\tvalidation_0-auc:0.51576\n",
      "Will train until validation_0-auc hasn't improved in 50 rounds.\n",
      "[1]\tvalidation_0-auc:0.51828\n",
      "[2]\tvalidation_0-auc:0.51775\n",
      "[3]\tvalidation_0-auc:0.51807\n",
      "[4]\tvalidation_0-auc:0.51812\n",
      "[5]\tvalidation_0-auc:0.51812\n",
      "[6]\tvalidation_0-auc:0.51870\n",
      "[7]\tvalidation_0-auc:0.51877\n",
      "[8]\tvalidation_0-auc:0.51895\n",
      "[9]\tvalidation_0-auc:0.51914\n",
      "[10]\tvalidation_0-auc:0.51928\n",
      "[11]\tvalidation_0-auc:0.51940\n",
      "[12]\tvalidation_0-auc:0.52027\n",
      "[13]\tvalidation_0-auc:0.52069\n",
      "[14]\tvalidation_0-auc:0.52096\n",
      "[15]\tvalidation_0-auc:0.52148\n",
      "[16]\tvalidation_0-auc:0.52160\n",
      "[17]\tvalidation_0-auc:0.52182\n",
      "[18]\tvalidation_0-auc:0.52219\n",
      "[19]\tvalidation_0-auc:0.52241\n",
      "[20]\tvalidation_0-auc:0.52270\n",
      "[21]\tvalidation_0-auc:0.52306\n",
      "[22]\tvalidation_0-auc:0.52314\n",
      "[23]\tvalidation_0-auc:0.52321\n",
      "[24]\tvalidation_0-auc:0.52347\n",
      "[25]\tvalidation_0-auc:0.52365\n",
      "[26]\tvalidation_0-auc:0.52379\n",
      "[27]\tvalidation_0-auc:0.52402\n",
      "[28]\tvalidation_0-auc:0.52426\n",
      "[29]\tvalidation_0-auc:0.52461\n",
      "[30]\tvalidation_0-auc:0.52479\n",
      "[31]\tvalidation_0-auc:0.52487\n",
      "[32]\tvalidation_0-auc:0.52505\n",
      "[33]\tvalidation_0-auc:0.52504\n",
      "[34]\tvalidation_0-auc:0.52506\n",
      "[35]\tvalidation_0-auc:0.52506\n",
      "[36]\tvalidation_0-auc:0.52510\n",
      "[37]\tvalidation_0-auc:0.52513\n",
      "[38]\tvalidation_0-auc:0.52528\n",
      "[39]\tvalidation_0-auc:0.52537\n",
      "[40]\tvalidation_0-auc:0.52570\n",
      "[41]\tvalidation_0-auc:0.52574\n",
      "[42]\tvalidation_0-auc:0.52593\n",
      "[43]\tvalidation_0-auc:0.52611\n",
      "[44]\tvalidation_0-auc:0.52623\n",
      "[45]\tvalidation_0-auc:0.52650\n",
      "[46]\tvalidation_0-auc:0.52644\n",
      "[47]\tvalidation_0-auc:0.52659\n",
      "[48]\tvalidation_0-auc:0.52688\n",
      "[49]\tvalidation_0-auc:0.52689\n",
      "[50]\tvalidation_0-auc:0.52708\n",
      "[51]\tvalidation_0-auc:0.52701\n",
      "[52]\tvalidation_0-auc:0.52701\n",
      "[53]\tvalidation_0-auc:0.52723\n",
      "[54]\tvalidation_0-auc:0.52740\n",
      "[55]\tvalidation_0-auc:0.52753\n",
      "[56]\tvalidation_0-auc:0.52775\n",
      "[57]\tvalidation_0-auc:0.52792\n",
      "[58]\tvalidation_0-auc:0.52801\n",
      "[59]\tvalidation_0-auc:0.52811\n",
      "[60]\tvalidation_0-auc:0.52805\n",
      "[61]\tvalidation_0-auc:0.52816\n",
      "[62]\tvalidation_0-auc:0.52814\n",
      "[63]\tvalidation_0-auc:0.52817\n",
      "[64]\tvalidation_0-auc:0.52826\n",
      "[65]\tvalidation_0-auc:0.52837\n",
      "[66]\tvalidation_0-auc:0.52848\n",
      "[67]\tvalidation_0-auc:0.52860\n",
      "[68]\tvalidation_0-auc:0.52854\n",
      "[69]\tvalidation_0-auc:0.52861\n",
      "[70]\tvalidation_0-auc:0.52854\n",
      "[71]\tvalidation_0-auc:0.52843\n",
      "[72]\tvalidation_0-auc:0.52842\n",
      "[73]\tvalidation_0-auc:0.52839\n",
      "[74]\tvalidation_0-auc:0.52849\n",
      "[75]\tvalidation_0-auc:0.52861\n",
      "[76]\tvalidation_0-auc:0.52860\n",
      "[77]\tvalidation_0-auc:0.52870\n",
      "[78]\tvalidation_0-auc:0.52887\n",
      "[79]\tvalidation_0-auc:0.52904\n",
      "[80]\tvalidation_0-auc:0.52907\n",
      "[81]\tvalidation_0-auc:0.52924\n",
      "[82]\tvalidation_0-auc:0.52927\n",
      "[83]\tvalidation_0-auc:0.52924\n",
      "[84]\tvalidation_0-auc:0.52918\n",
      "[85]\tvalidation_0-auc:0.52924\n",
      "[86]\tvalidation_0-auc:0.52927\n",
      "[87]\tvalidation_0-auc:0.52936\n",
      "[88]\tvalidation_0-auc:0.52943\n",
      "[89]\tvalidation_0-auc:0.52941\n",
      "[90]\tvalidation_0-auc:0.52927\n",
      "[91]\tvalidation_0-auc:0.52921\n",
      "[92]\tvalidation_0-auc:0.52927\n",
      "[93]\tvalidation_0-auc:0.52933\n",
      "[94]\tvalidation_0-auc:0.52936\n",
      "[95]\tvalidation_0-auc:0.52948\n",
      "[96]\tvalidation_0-auc:0.52939\n",
      "[97]\tvalidation_0-auc:0.52947\n",
      "[98]\tvalidation_0-auc:0.52936\n",
      "[99]\tvalidation_0-auc:0.52942\n",
      "[100]\tvalidation_0-auc:0.52947\n",
      "[101]\tvalidation_0-auc:0.52955\n",
      "[102]\tvalidation_0-auc:0.52958\n",
      "[103]\tvalidation_0-auc:0.52957\n",
      "[104]\tvalidation_0-auc:0.52958\n",
      "[105]\tvalidation_0-auc:0.52959\n",
      "[106]\tvalidation_0-auc:0.52956\n",
      "[107]\tvalidation_0-auc:0.52955\n",
      "[108]\tvalidation_0-auc:0.52961\n",
      "[109]\tvalidation_0-auc:0.52961\n",
      "[110]\tvalidation_0-auc:0.52961\n",
      "[111]\tvalidation_0-auc:0.52980\n",
      "[112]\tvalidation_0-auc:0.52980\n",
      "[113]\tvalidation_0-auc:0.52979\n",
      "[114]\tvalidation_0-auc:0.52983\n",
      "[115]\tvalidation_0-auc:0.52994\n",
      "[116]\tvalidation_0-auc:0.52994\n",
      "[117]\tvalidation_0-auc:0.52998\n",
      "[118]\tvalidation_0-auc:0.52986\n",
      "[119]\tvalidation_0-auc:0.52996\n",
      "[120]\tvalidation_0-auc:0.52999\n",
      "[121]\tvalidation_0-auc:0.53002\n",
      "[122]\tvalidation_0-auc:0.52999\n",
      "[123]\tvalidation_0-auc:0.53004\n",
      "[124]\tvalidation_0-auc:0.53004\n",
      "[125]\tvalidation_0-auc:0.53035\n",
      "[126]\tvalidation_0-auc:0.53048\n",
      "[127]\tvalidation_0-auc:0.53046\n",
      "[128]\tvalidation_0-auc:0.53048\n",
      "[129]\tvalidation_0-auc:0.53054\n",
      "[130]\tvalidation_0-auc:0.53057\n",
      "[131]\tvalidation_0-auc:0.53062\n",
      "[132]\tvalidation_0-auc:0.53059\n",
      "[133]\tvalidation_0-auc:0.53079\n",
      "[134]\tvalidation_0-auc:0.53077\n",
      "[135]\tvalidation_0-auc:0.53080\n",
      "[136]\tvalidation_0-auc:0.53081\n",
      "[137]\tvalidation_0-auc:0.53087\n",
      "[138]\tvalidation_0-auc:0.53094\n",
      "[139]\tvalidation_0-auc:0.53100\n",
      "[140]\tvalidation_0-auc:0.53120\n",
      "[141]\tvalidation_0-auc:0.53114\n",
      "[142]\tvalidation_0-auc:0.53115\n",
      "[143]\tvalidation_0-auc:0.53111\n",
      "[144]\tvalidation_0-auc:0.53112\n",
      "[145]\tvalidation_0-auc:0.53111\n",
      "[146]\tvalidation_0-auc:0.53112\n",
      "[147]\tvalidation_0-auc:0.53118\n",
      "[148]\tvalidation_0-auc:0.53136\n",
      "[149]\tvalidation_0-auc:0.53149\n",
      "[150]\tvalidation_0-auc:0.53147\n",
      "[151]\tvalidation_0-auc:0.53150\n",
      "[152]\tvalidation_0-auc:0.53148\n",
      "[153]\tvalidation_0-auc:0.53149\n",
      "[154]\tvalidation_0-auc:0.53149\n",
      "[155]\tvalidation_0-auc:0.53135\n",
      "[156]\tvalidation_0-auc:0.53133\n",
      "[157]\tvalidation_0-auc:0.53129\n",
      "[158]\tvalidation_0-auc:0.53146\n",
      "[159]\tvalidation_0-auc:0.53144\n",
      "[160]\tvalidation_0-auc:0.53150\n",
      "[161]\tvalidation_0-auc:0.53158\n",
      "[162]\tvalidation_0-auc:0.53165\n",
      "[163]\tvalidation_0-auc:0.53163\n",
      "[164]\tvalidation_0-auc:0.53172\n",
      "[165]\tvalidation_0-auc:0.53146\n",
      "[166]\tvalidation_0-auc:0.53143\n",
      "[167]\tvalidation_0-auc:0.53132\n",
      "[168]\tvalidation_0-auc:0.53142\n",
      "[169]\tvalidation_0-auc:0.53143\n",
      "[170]\tvalidation_0-auc:0.53129\n",
      "[171]\tvalidation_0-auc:0.53132\n",
      "[172]\tvalidation_0-auc:0.53136\n",
      "[173]\tvalidation_0-auc:0.53140\n",
      "[174]\tvalidation_0-auc:0.53142\n",
      "[175]\tvalidation_0-auc:0.53138\n",
      "[176]\tvalidation_0-auc:0.53141\n",
      "[177]\tvalidation_0-auc:0.53146\n",
      "[178]\tvalidation_0-auc:0.53163\n",
      "[179]\tvalidation_0-auc:0.53174\n",
      "[180]\tvalidation_0-auc:0.53178\n",
      "[181]\tvalidation_0-auc:0.53181\n",
      "[182]\tvalidation_0-auc:0.53179\n",
      "[183]\tvalidation_0-auc:0.53181\n",
      "[184]\tvalidation_0-auc:0.53181\n",
      "[185]\tvalidation_0-auc:0.53185\n",
      "[186]\tvalidation_0-auc:0.53186\n",
      "[187]\tvalidation_0-auc:0.53182\n",
      "[188]\tvalidation_0-auc:0.53189\n",
      "[189]\tvalidation_0-auc:0.53197\n",
      "[190]\tvalidation_0-auc:0.53197\n",
      "[191]\tvalidation_0-auc:0.53200\n",
      "[192]\tvalidation_0-auc:0.53194\n",
      "[193]\tvalidation_0-auc:0.53194\n",
      "[194]\tvalidation_0-auc:0.53199\n",
      "[195]\tvalidation_0-auc:0.53190\n",
      "[196]\tvalidation_0-auc:0.53191\n",
      "[197]\tvalidation_0-auc:0.53192\n",
      "[198]\tvalidation_0-auc:0.53205\n",
      "[199]\tvalidation_0-auc:0.53200\n",
      "[200]\tvalidation_0-auc:0.53198\n",
      "[201]\tvalidation_0-auc:0.53208\n",
      "[202]\tvalidation_0-auc:0.53212\n",
      "[203]\tvalidation_0-auc:0.53213\n",
      "[204]\tvalidation_0-auc:0.53205\n",
      "[205]\tvalidation_0-auc:0.53208\n",
      "[206]\tvalidation_0-auc:0.53212\n",
      "[207]\tvalidation_0-auc:0.53224\n",
      "[208]\tvalidation_0-auc:0.53222\n",
      "[209]\tvalidation_0-auc:0.53222\n",
      "[210]\tvalidation_0-auc:0.53210\n",
      "[211]\tvalidation_0-auc:0.53215\n",
      "[212]\tvalidation_0-auc:0.53220\n",
      "[213]\tvalidation_0-auc:0.53229\n",
      "[214]\tvalidation_0-auc:0.53235\n",
      "[215]\tvalidation_0-auc:0.53238\n",
      "[216]\tvalidation_0-auc:0.53237\n",
      "[217]\tvalidation_0-auc:0.53236\n",
      "[218]\tvalidation_0-auc:0.53243\n",
      "[219]\tvalidation_0-auc:0.53247\n",
      "[220]\tvalidation_0-auc:0.53256\n",
      "[221]\tvalidation_0-auc:0.53253\n",
      "[222]\tvalidation_0-auc:0.53251\n",
      "[223]\tvalidation_0-auc:0.53246\n",
      "[224]\tvalidation_0-auc:0.53248\n",
      "[225]\tvalidation_0-auc:0.53243\n",
      "[226]\tvalidation_0-auc:0.53252\n",
      "[227]\tvalidation_0-auc:0.53252\n",
      "[228]\tvalidation_0-auc:0.53249\n",
      "[229]\tvalidation_0-auc:0.53248\n",
      "[230]\tvalidation_0-auc:0.53249\n",
      "[231]\tvalidation_0-auc:0.53254\n",
      "[232]\tvalidation_0-auc:0.53257\n",
      "[233]\tvalidation_0-auc:0.53256\n",
      "[234]\tvalidation_0-auc:0.53253\n",
      "[235]\tvalidation_0-auc:0.53257\n",
      "[236]\tvalidation_0-auc:0.53258\n",
      "[237]\tvalidation_0-auc:0.53261\n",
      "[238]\tvalidation_0-auc:0.53261\n",
      "[239]\tvalidation_0-auc:0.53267\n",
      "[240]\tvalidation_0-auc:0.53266\n",
      "[241]\tvalidation_0-auc:0.53268\n",
      "[242]\tvalidation_0-auc:0.53270\n",
      "[243]\tvalidation_0-auc:0.53272\n",
      "[244]\tvalidation_0-auc:0.53270\n",
      "[245]\tvalidation_0-auc:0.53273\n",
      "[246]\tvalidation_0-auc:0.53272\n",
      "[247]\tvalidation_0-auc:0.53268\n",
      "[248]\tvalidation_0-auc:0.53270\n",
      "[249]\tvalidation_0-auc:0.53272\n",
      "[250]\tvalidation_0-auc:0.53269\n",
      "[251]\tvalidation_0-auc:0.53274\n",
      "[252]\tvalidation_0-auc:0.53276\n",
      "[253]\tvalidation_0-auc:0.53275\n",
      "[254]\tvalidation_0-auc:0.53280\n",
      "[255]\tvalidation_0-auc:0.53268\n",
      "[256]\tvalidation_0-auc:0.53275\n",
      "[257]\tvalidation_0-auc:0.53269\n",
      "[258]\tvalidation_0-auc:0.53264\n",
      "[259]\tvalidation_0-auc:0.53264\n",
      "[260]\tvalidation_0-auc:0.53269\n",
      "[261]\tvalidation_0-auc:0.53260\n",
      "[262]\tvalidation_0-auc:0.53256\n",
      "[263]\tvalidation_0-auc:0.53255\n",
      "[264]\tvalidation_0-auc:0.53265\n",
      "[265]\tvalidation_0-auc:0.53261\n",
      "[266]\tvalidation_0-auc:0.53263\n",
      "[267]\tvalidation_0-auc:0.53260\n",
      "[268]\tvalidation_0-auc:0.53254\n",
      "[269]\tvalidation_0-auc:0.53253\n",
      "[270]\tvalidation_0-auc:0.53246\n",
      "[271]\tvalidation_0-auc:0.53249\n",
      "[272]\tvalidation_0-auc:0.53250\n",
      "[273]\tvalidation_0-auc:0.53251\n",
      "[274]\tvalidation_0-auc:0.53253\n",
      "[275]\tvalidation_0-auc:0.53257\n",
      "[276]\tvalidation_0-auc:0.53260\n",
      "[277]\tvalidation_0-auc:0.53265\n",
      "[278]\tvalidation_0-auc:0.53265\n",
      "[279]\tvalidation_0-auc:0.53261\n",
      "[280]\tvalidation_0-auc:0.53265\n",
      "[281]\tvalidation_0-auc:0.53272\n",
      "[282]\tvalidation_0-auc:0.53262\n",
      "[283]\tvalidation_0-auc:0.53264\n",
      "[284]\tvalidation_0-auc:0.53261\n",
      "[285]\tvalidation_0-auc:0.53257\n",
      "[286]\tvalidation_0-auc:0.53257\n",
      "[287]\tvalidation_0-auc:0.53262\n",
      "[288]\tvalidation_0-auc:0.53262\n",
      "[289]\tvalidation_0-auc:0.53262\n",
      "[290]\tvalidation_0-auc:0.53261\n",
      "[291]\tvalidation_0-auc:0.53255\n",
      "[292]\tvalidation_0-auc:0.53251\n",
      "[293]\tvalidation_0-auc:0.53245\n",
      "[294]\tvalidation_0-auc:0.53249\n",
      "[295]\tvalidation_0-auc:0.53244\n",
      "[296]\tvalidation_0-auc:0.53241\n",
      "[297]\tvalidation_0-auc:0.53241\n",
      "[298]\tvalidation_0-auc:0.53253\n",
      "[299]\tvalidation_0-auc:0.53252\n",
      "[300]\tvalidation_0-auc:0.53253\n",
      "[301]\tvalidation_0-auc:0.53254\n",
      "[302]\tvalidation_0-auc:0.53250\n",
      "[303]\tvalidation_0-auc:0.53255\n",
      "[304]\tvalidation_0-auc:0.53253\n",
      "Stopping. Best iteration:\n",
      "[254]\tvalidation_0-auc:0.53280\n",
      "\n"
     ]
    },
    {
     "data": {
      "text/plain": [
       "XGBClassifier(base_score=0.5, booster='gbtree', colsample_bylevel=1,\n",
       "              colsample_bynode=1, colsample_bytree=0.9, gamma=0, gpu_id=0,\n",
       "              importance_type='gain', interaction_constraints='',\n",
       "              learning_rate=0.1, max_delta_step=0, max_depth=6,\n",
       "              min_child_weight=1, missing=nan,\n",
       "              monotone_constraints='(0,0,0,0,0,0,0,0,0,0,0,0,0,0,0,0,0,0,0,0,0,0,0,0,0,0,0,0,0,0,0,0,0,0,0,0,0,0,0,0,0,0)',\n",
       "              n_estimators=254, n_jobs=0, num_parallel_tree=1, random_state=13,\n",
       "              reg_alpha=225, reg_lambda=0.75, scale_pos_weight=1, subsample=1.0,\n",
       "              tree_method='gpu_hist', validate_parameters=1, verbosity=None)"
      ]
     },
     "execution_count": 4,
     "metadata": {},
     "output_type": "execute_result"
    }
   ],
   "source": [
    "# successive sets of parameters tried\n",
    "params = {\"max_depth\": list(range(3, 10)),\n",
    "          \"min_child_weight\": list(range(1, 6))\n",
    "         }\n",
    "\n",
    "params = {\"max_depth\": [6],\n",
    "          \"min_child_weight\": [1],\n",
    "          \"gamma\": [x * 1e-5 for x in range(10)]\n",
    "         }\n",
    "\n",
    "params = {\"max_depth\": [6],\n",
    "          \"min_child_weight\": [1],\n",
    "          \"gamma\": [0],\n",
    "          \"subsample\": [0.5, 0.6, 0.7, 0.8, 0.9, 1.0],\n",
    "          \"colsample_bytree\": [0.5, 0.6, 0.7, 0.8, 0.9, 1.0]\n",
    "         }\n",
    "\n",
    "params = {\"max_depth\": [6],\n",
    "          \"min_child_weight\": [1],\n",
    "          \"gamma\": [0],\n",
    "          \"subsample\": [1.0],\n",
    "          \"colsample_bytree\": [1.0],\n",
    "          \"reg_alpha\": [160, 180, 200, 220, 240],\n",
    "          \"reg_lambda\": [0.5, 0.6, 0.7, 0.8]\n",
    "         }\n",
    "\n",
    "params = {\"max_depth\": [6],\n",
    "          \"min_child_weight\": [1],\n",
    "          \"gamma\": [0],\n",
    "          \"subsample\": [1.0],\n",
    "          \"colsample_bytree\": [1.0],\n",
    "          \"reg_alpha\": [200],\n",
    "          \"reg_lambda\": [0.7],\n",
    "          \"learning_rate\": [x * 0.05 for x in range(1, 11)]\n",
    "         }\n",
    "\n",
    "params = {\"max_depth\": [5, 6, 7],\n",
    "          \"min_child_weight\": [1],\n",
    "          \"gamma\": [0],\n",
    "          \"subsample\": [0.8, 0.9, 1.0],\n",
    "          \"colsample_bytree\": [0.8, 0.9, 1.0],\n",
    "          \"reg_alpha\": [175, 200, 225],\n",
    "          \"reg_lambda\": [0.6, 0.7, 0.8],\n",
    "          \"learning_rate\": [0.01, 0.05, 0.1]\n",
    "         }\n",
    "\n",
    "params = {\"max_depth\": [6],\n",
    "          \"min_child_weight\": [1],\n",
    "          \"gamma\": [0],\n",
    "          \"subsample\": [0.95, 1.0],\n",
    "          \"colsample_bytree\": [0.85, 0.9, 0.95],\n",
    "          \"reg_alpha\": [200, 225, 250],\n",
    "          \"reg_lambda\": [0.75, 0.8, 0.85, 0.9],\n",
    "          \"learning_rate\": [0.1, 0.15, 0.2]\n",
    "         }\n",
    "\n",
    "params = {\"max_depth\": [6],\n",
    "          \"min_child_weight\": [1, 2],\n",
    "          \"gamma\": [0],\n",
    "          \"subsample\": [1.0],\n",
    "          \"colsample_bytree\": [0.9],\n",
    "          \"reg_alpha\": [210, 217, 225, 233, 240],\n",
    "          \"reg_lambda\": [0.6, 0.65, 0.7, 0.75],\n",
    "          \"learning_rate\": [0.075, 0.1, 0.125]\n",
    "         }\n",
    "\n",
    "params = {\"max_depth\": [6],\n",
    "          \"min_child_weight\": [1],\n",
    "          \"gamma\": [0],\n",
    "          \"subsample\": [1.0],\n",
    "          \"colsample_bytree\": [0.9],\n",
    "          \"reg_alpha\": [225],\n",
    "          \"reg_lambda\": [0.75],\n",
    "          \"learning_rate\": [0.1]\n",
    "         }\n",
    "    \n",
    "# early stopping\n",
    "fit_params = {\"early_stopping_rounds\": 50,\n",
    "              \"eval_metric\": \"auc\",\n",
    "              \"eval_set\": [(valid_X, valid_y)],\n",
    "              \"verbose\": False}\n",
    "\n",
    "# base model\n",
    "clf = XGBClassifier(n_estimators=1000, tree_method=\"gpu_hist\", random_state=13)\n",
    "\n",
    "# setup the data for parameter search\n",
    "full_X = np.vstack([train_X, valid_X])\n",
    "full_y = np.append(train_y, valid_y)\n",
    "test_fold = np.append(np.full(train_X.shape[0], -1, dtype=np.int), np.zeros(valid_X.shape[0], dtype=np.int))\n",
    "ps = PredefinedSplit(test_fold)\n",
    "\n",
    "# find the parameters with best AUC score\n",
    "cv = GridSearchCV(clf, params, cv=ps, scoring=\"roc_auc\", refit=False)\n",
    "cv.fit(full_X, full_y, **fit_params)\n",
    "\n",
    "# show the best parameters\n",
    "print(f\"Highest AUC = {round(cv.best_score_, 4)} with parameters:\")\n",
    "for k, v in cv.best_params_.items():\n",
    "    print(f\"  {k} = {v}\")\n",
    "print(\"\\nRefitting best model...\")\n",
    "\n",
    "# need to refit the best model manually since the built-in refitting will refit on full_X, full_y\n",
    "# first recover the training history by refitting with early stopping\n",
    "model = XGBClassifier(n_estimators=1000, tree_method=\"gpu_hist\", random_state=13, **cv.best_params_)\n",
    "fit_params[\"verbose\"] = True\n",
    "model.fit(train_X, train_y, **fit_params)\n",
    "\n",
    "# finally refit the model with the best number of estimators\n",
    "model.set_params(n_estimators=model.best_iteration)\n",
    "model.fit(train_X, train_y)"
   ]
  },
  {
   "cell_type": "markdown",
   "metadata": {
    "papermill": {
     "duration": 0.477801,
     "end_time": "2021-03-01T21:51:57.896328",
     "exception": false,
     "start_time": "2021-03-01T21:51:57.418527",
     "status": "completed"
    },
    "tags": []
   },
   "source": [
    "Plot some performance metrics for the resulting classifier on the validation set."
   ]
  },
  {
   "cell_type": "code",
   "execution_count": 5,
   "metadata": {
    "execution": {
     "iopub.execute_input": "2021-03-01T21:51:58.883633Z",
     "iopub.status.busy": "2021-03-01T21:51:58.882789Z",
     "iopub.status.idle": "2021-03-01T21:52:04.098998Z",
     "shell.execute_reply": "2021-03-01T21:52:04.098554Z"
    },
    "papermill": {
     "duration": 5.722801,
     "end_time": "2021-03-01T21:52:04.099160",
     "exception": false,
     "start_time": "2021-03-01T21:51:58.376359",
     "status": "completed"
    },
    "tags": []
   },
   "outputs": [
    {
     "data": {
      "image/png": "[encoded data removed]",
      "text/plain": [
       "<Figure size 576x360 with 1 Axes>"
      ]
     },
     "metadata": {
      "needs_background": "light"
     },
     "output_type": "display_data"
    },
    {
     "data": {
      "image/png": "[encoded data removed]",
      "text/plain": [
       "<Figure size 576x360 with 1 Axes>"
      ]
     },
     "metadata": {
      "needs_background": "light"
     },
     "output_type": "display_data"
    },
    {
     "data": {
      "image/png": "[encoded data removed]",
      "text/plain": [
       "<Figure size 576x360 with 1 Axes>"
      ]
     },
     "metadata": {
      "needs_background": "light"
     },
     "output_type": "display_data"
    },
    {
     "name": "stdout",
     "output_type": "stream",
     "text": [
      "Validation AUC: 0.5327474555570855\n"
     ]
    }
   ],
   "source": [
    "probs = model.predict_proba(valid_X)\n",
    "probs = probs[:, 1]\n",
    "\n",
    "# precision vs recall\n",
    "precisions, recalls, thresholds = precision_recall_curve(valid_y, probs)\n",
    "\n",
    "plt.figure(figsize=(8, 5))\n",
    "plt.plot(thresholds, precisions[:-1], \"tab:blue\", label=\"Precision\")\n",
    "plt.plot(thresholds, recalls[:-1], \"tab:orange\", label=\"Recall\")\n",
    "plt.legend()\n",
    "plt.xlabel(\"Threshold\")\n",
    "plt.title(\"Validation precision/recall at threshold\")\n",
    "plt.axis([0, 1, 0, 1])\n",
    "plt.grid(True)\n",
    "plt.show()\n",
    "\n",
    "plt.figure(figsize=(8, 5))\n",
    "plt.plot(recalls, precisions, \"tab:blue\")\n",
    "plt.xlabel(\"Recall\")\n",
    "plt.ylabel(\"Precision\")\n",
    "plt.title(\"Validation  precision at recall\")\n",
    "plt.axis([0, 1, 0, 1])\n",
    "plt.grid(True)\n",
    "plt.show()\n",
    "\n",
    "# ROC curve\n",
    "false_positives, true_positives, thresholds = roc_curve(valid_y, probs)\n",
    "plt.figure(figsize=(8, 5))\n",
    "plt.plot(false_positives, true_positives, \"tab:blue\")\n",
    "plt.plot([0, 1], [0, 1], \"tab:gray\")\n",
    "plt.xlabel(\"False positive rate\")\n",
    "plt.ylabel(\"True positive rate\")\n",
    "plt.title(\"Validation ROC curve\")\n",
    "plt.axis([0, 1, 0, 1])\n",
    "plt.grid(True)\n",
    "plt.show()\n",
    "\n",
    "# AUC\n",
    "print(f\"Validation AUC: {roc_auc_score(valid_y, probs)}\")"
   ]
  },
  {
   "cell_type": "markdown",
   "metadata": {
    "papermill": {
     "duration": 0.486449,
     "end_time": "2021-03-01T21:52:05.070464",
     "exception": false,
     "start_time": "2021-03-01T21:52:04.584015",
     "status": "completed"
    },
    "tags": []
   },
   "source": [
    "Plot the same metrics on the training data to get an idea of how much overfitting occured."
   ]
  },
  {
   "cell_type": "code",
   "execution_count": 6,
   "metadata": {
    "execution": {
     "iopub.execute_input": "2021-03-01T21:52:06.069539Z",
     "iopub.status.busy": "2021-03-01T21:52:06.068738Z",
     "iopub.status.idle": "2021-03-01T21:52:27.701511Z",
     "shell.execute_reply": "2021-03-01T21:52:27.701017Z"
    },
    "papermill": {
     "duration": 22.147746,
     "end_time": "2021-03-01T21:52:27.701640",
     "exception": false,
     "start_time": "2021-03-01T21:52:05.553894",
     "status": "completed"
    },
    "tags": []
   },
   "outputs": [
    {
     "data": {
      "image/png": "[encoded data removed]",
      "text/plain": [
       "<Figure size 576x360 with 1 Axes>"
      ]
     },
     "metadata": {
      "needs_background": "light"
     },
     "output_type": "display_data"
    },
    {
     "data": {
      "image/png": "[encoded data removed]",
      "text/plain": [
       "<Figure size 576x360 with 1 Axes>"
      ]
     },
     "metadata": {
      "needs_background": "light"
     },
     "output_type": "display_data"
    },
    {
     "data": {
      "image/png": "[encoded data removed]",
      "text/plain": [
       "<Figure size 576x360 with 1 Axes>"
      ]
     },
     "metadata": {
      "needs_background": "light"
     },
     "output_type": "display_data"
    },
    {
     "name": "stdout",
     "output_type": "stream",
     "text": [
      "Training AUC: 0.5971912584024601\n"
     ]
    }
   ],
   "source": [
    "probs = model.predict_proba(train_X)\n",
    "probs = probs[:, 1]\n",
    "\n",
    "# precision vs recall\n",
    "precisions, recalls, thresholds = precision_recall_curve(train_y, probs)\n",
    "\n",
    "plt.figure(figsize=(8, 5))\n",
    "plt.plot(thresholds, precisions[:-1], \"tab:blue\", label=\"Precision\")\n",
    "plt.plot(thresholds, recalls[:-1], \"tab:orange\", label=\"Recall\")\n",
    "plt.legend()\n",
    "plt.xlabel(\"Threshold\")\n",
    "plt.title(\"Training precision/recall at threshold\")\n",
    "plt.axis([0, 1, 0, 1])\n",
    "plt.grid(True)\n",
    "plt.show()\n",
    "\n",
    "plt.figure(figsize=(8, 5))\n",
    "plt.plot(recalls, precisions, \"tab:blue\")\n",
    "plt.xlabel(\"Recall\")\n",
    "plt.ylabel(\"Precision\")\n",
    "plt.title(\"Training precision at recall\")\n",
    "plt.axis([0, 1, 0, 1])\n",
    "plt.grid(True)\n",
    "plt.show()\n",
    "\n",
    "# ROC curve\n",
    "false_positives, true_positives, thresholds = roc_curve(train_y, probs)\n",
    "plt.figure(figsize=(8, 5))\n",
    "plt.plot(false_positives, true_positives, \"tab:blue\")\n",
    "plt.plot([0, 1], [0, 1], \"tab:gray\")\n",
    "plt.xlabel(\"False positive rate\")\n",
    "plt.ylabel(\"True positive rate\")\n",
    "plt.title(\"Training ROC curve\")\n",
    "plt.axis([0, 1, 0, 1])\n",
    "plt.grid(True)\n",
    "plt.show()\n",
    "\n",
    "# AUC\n",
    "print(f\"Training AUC: {roc_auc_score(train_y, probs)}\")"
   ]
  },
  {
   "cell_type": "markdown",
   "metadata": {
    "papermill": {
     "duration": 0.483541,
     "end_time": "2021-03-01T21:52:28.673160",
     "exception": false,
     "start_time": "2021-03-01T21:52:28.189619",
     "status": "completed"
    },
    "tags": []
   },
   "source": [
    "Save the model and the preprocessing pipeline."
   ]
  },
  {
   "cell_type": "code",
   "execution_count": 7,
   "metadata": {
    "execution": {
     "iopub.execute_input": "2021-03-01T21:52:29.898082Z",
     "iopub.status.busy": "2021-03-01T21:52:29.897233Z",
     "iopub.status.idle": "2021-03-01T21:52:29.902713Z",
     "shell.execute_reply": "2021-03-01T21:52:29.902268Z"
    },
    "papermill": {
     "duration": 0.547529,
     "end_time": "2021-03-01T21:52:29.902827",
     "exception": false,
     "start_time": "2021-03-01T21:52:29.355298",
     "status": "completed"
    },
    "tags": []
   },
   "outputs": [],
   "source": [
    "joblib.dump(pp, \"preprocessor.pkl\")\n",
    "model.save_model(\"model.xgb\")"
   ]
  }
 ],
 "metadata": {
  "kernelspec": {
   "display_name": "Python 3",
   "language": "python",
   "name": "python3"
  },
  "language_info": {
   "codemirror_mode": {
    "name": "ipython",
    "version": 3
   },
   "file_extension": ".py",
   "mimetype": "text/x-python",
   "name": "python",
   "nbconvert_exporter": "python",
   "pygments_lexer": "ipython3",
   "version": "3.7.9"
  },
  "papermill": {
   "duration": 300.807026,
   "end_time": "2021-03-01T21:52:32.340005",
   "environment_variables": {},
   "exception": null,
   "input_path": "__notebook__.ipynb",
   "output_path": "__notebook__.ipynb",
   "parameters": {},
   "start_time": "2021-03-01T21:47:31.532979",
   "version": "2.1.0"
  }
 },
 "nbformat": 4,
 "nbformat_minor": 4
}
