{
 "cells": [
  {
   "cell_type": "markdown",
   "metadata": {
    "papermill": {
     "duration": 0.005678,
     "end_time": "2021-03-02T12:12:17.006164",
     "exception": false,
     "start_time": "2021-03-02T12:12:17.000486",
     "status": "completed"
    },
    "tags": []
   },
   "source": [
    "# Jane Street - Tuned Submission\n",
    "This notebook is the first of two actually submitted to the competition. It loads the tuned ensemble from the Tuner notebook and makes the prediction using Jane Street's API."
   ]
  },
  {
   "cell_type": "code",
   "execution_count": 1,
   "metadata": {
    "execution": {
     "iopub.execute_input": "2021-03-02T12:12:17.020889Z",
     "iopub.status.busy": "2021-03-02T12:12:17.020205Z",
     "iopub.status.idle": "2021-03-02T12:12:26.098470Z",
     "shell.execute_reply": "2021-03-02T12:12:26.097902Z"
    },
    "papermill": {
     "duration": 9.087688,
     "end_time": "2021-03-02T12:12:26.098794",
     "exception": false,
     "start_time": "2021-03-02T12:12:17.011106",
     "status": "completed"
    },
    "tags": []
   },
   "outputs": [],
   "source": [
    "import joblib\n",
    "import json\n",
    "import os\n",
    "\n",
    "import numpy as np\n",
    "import pandas as pd\n",
    "\n",
    "import matplotlib.pyplot as plt\n",
    "import seaborn as sns\n",
    "\n",
    "import tensorflow as tf\n",
    "from tensorflow import keras\n",
    "\n",
    "from xgboost import XGBClassifier\n",
    "\n",
    "import janestreet"
   ]
  },
  {
   "cell_type": "markdown",
   "metadata": {
    "papermill": {
     "duration": 0.004482,
     "end_time": "2021-03-02T12:12:26.109524",
     "exception": false,
     "start_time": "2021-03-02T12:12:26.105042",
     "status": "completed"
    },
    "tags": []
   },
   "source": [
    "Load the models, ensemble weights, and optimizing decision threshold."
   ]
  },
  {
   "cell_type": "code",
   "execution_count": 2,
   "metadata": {
    "execution": {
     "iopub.execute_input": "2021-03-02T12:12:26.127596Z",
     "iopub.status.busy": "2021-03-02T12:12:26.127081Z",
     "iopub.status.idle": "2021-03-02T12:12:39.805447Z",
     "shell.execute_reply": "2021-03-02T12:12:39.804392Z"
    },
    "papermill": {
     "duration": 13.69146,
     "end_time": "2021-03-02T12:12:39.805586",
     "exception": false,
     "start_time": "2021-03-02T12:12:26.114126",
     "status": "completed"
    },
    "tags": []
   },
   "outputs": [],
   "source": [
    "# load NN model\n",
    "model_folder = os.path.join(os.pardir, \"input\", \"jane-street-nn\")\n",
    "\n",
    "with open(os.path.join(model_folder, \"model.json\"), \"r\") as f:\n",
    "    nn = keras.models.model_from_json(f.read())\n",
    "\n",
    "nn.load_weights(os.path.join(model_folder, \"model.h5\"))\n",
    "nn.call = tf.function(nn.call, experimental_relax_shapes=True)\n",
    "\n",
    "nn_pp = joblib.load(os.path.join(model_folder, \"preprocessor.pkl\"))\n",
    "\n",
    "\n",
    "# load EDA XGB model\n",
    "model_folder = os.path.join(os.pardir, \"input\", \"jane-street-eda-xgb\")\n",
    "\n",
    "edaxgb = XGBClassifier()\n",
    "edaxgb.load_model(os.path.join(model_folder, \"model.xgb\"))\n",
    "\n",
    "edaxgb_pp = joblib.load(os.path.join(model_folder, \"preprocessor.pkl\"))\n",
    "\n",
    "\n",
    "# load PLS XGB model\n",
    "model_folder = os.path.join(os.pardir, \"input\", \"jane-street-pls-xgb\")\n",
    "\n",
    "plsxgb = XGBClassifier()\n",
    "plsxgb.load_model(os.path.join(model_folder, \"model.xgb\"))\n",
    "\n",
    "plsxgb_pp = joblib.load(os.path.join(model_folder, \"preprocessor.pkl\"))\n",
    "\n",
    "\n",
    "# get the optimal weights and threshold\n",
    "tuner_folder = os.path.join(os.pardir, \"input\", \"jane-street-tuner\")\n",
    "\n",
    "with open(os.path.join(tuner_folder, \"weights.json\")) as f:\n",
    "    weights = json.loads(f.read())\n",
    "\n",
    "with open(os.path.join(tuner_folder, \"threshold.json\")) as f:\n",
    "    threshold_json = json.loads(f.read())\n",
    "\n",
    "threshold = float(threshold_json[\"threshold\"])"
   ]
  },
  {
   "cell_type": "markdown",
   "metadata": {
    "papermill": {
     "duration": 0.004574,
     "end_time": "2021-03-02T12:12:39.815196",
     "exception": false,
     "start_time": "2021-03-02T12:12:39.810622",
     "status": "completed"
    },
    "tags": []
   },
   "source": [
    "Define a function that takes a new sample and returns the ensemble's prediction."
   ]
  },
  {
   "cell_type": "code",
   "execution_count": 3,
   "metadata": {
    "execution": {
     "iopub.execute_input": "2021-03-02T12:12:39.830487Z",
     "iopub.status.busy": "2021-03-02T12:12:39.829741Z",
     "iopub.status.idle": "2021-03-02T12:12:39.832585Z",
     "shell.execute_reply": "2021-03-02T12:12:39.832132Z"
    },
    "papermill": {
     "duration": 0.012865,
     "end_time": "2021-03-02T12:12:39.832705",
     "exception": false,
     "start_time": "2021-03-02T12:12:39.819840",
     "status": "completed"
    },
    "tags": []
   },
   "outputs": [],
   "source": [
    "def predict(sample):\n",
    "    X = sample.to_numpy()\n",
    "    \n",
    "    nn_pred = nn(nn_pp.transform(X), training=False)\n",
    "    nn_pred = weights[\"nn\"] * nn_pred.numpy().item()\n",
    "    \n",
    "    plsxgb_pred = plsxgb.predict_proba(plsxgb_pp.transform(X))\n",
    "    plsxgb_pred = weights[\"pls-xgb\"] * plsxgb_pred[0, 1]\n",
    "    \n",
    "    edaxgb_pred = edaxgb.predict_proba(edaxgb_pp.transform(X))\n",
    "    edaxgb_pred = weights[\"eda-xgb\"] * edaxgb_pred[0, 1]\n",
    "    \n",
    "    ensemble_pred = nn_pred + edaxgb_pred + plsxgb_pred\n",
    "    return 1 if ensemble_pred > threshold else 0"
   ]
  },
  {
   "cell_type": "markdown",
   "metadata": {
    "papermill": {
     "duration": 0.004465,
     "end_time": "2021-03-02T12:12:39.841733",
     "exception": false,
     "start_time": "2021-03-02T12:12:39.837268",
     "status": "completed"
    },
    "tags": []
   },
   "source": [
    "Make the predictions for the new samples using Jane Street's API."
   ]
  },
  {
   "cell_type": "code",
   "execution_count": 4,
   "metadata": {
    "execution": {
     "iopub.execute_input": "2021-03-02T12:12:39.857676Z",
     "iopub.status.busy": "2021-03-02T12:12:39.857134Z",
     "iopub.status.idle": "2021-03-02T12:15:45.389380Z",
     "shell.execute_reply": "2021-03-02T12:15:45.388238Z"
    },
    "papermill": {
     "duration": 185.543142,
     "end_time": "2021-03-02T12:15:45.389532",
     "exception": false,
     "start_time": "2021-03-02T12:12:39.846390",
     "status": "completed"
    },
    "tags": []
   },
   "outputs": [],
   "source": [
    "env = janestreet.make_env()\n",
    "features = [f\"feature_{x}\" for x in range(130)]\n",
    "\n",
    "for (sample, pred) in env.iter_test():\n",
    "    pred.action = predict(sample[features]) if sample[\"weight\"].item() > 0.0 else 0\n",
    "    env.predict(pred)"
   ]
  }
 ],
 "metadata": {
  "kernelspec": {
   "display_name": "Python 3",
   "language": "python",
   "name": "python3"
  },
  "language_info": {
   "codemirror_mode": {
    "name": "ipython",
    "version": 3
   },
   "file_extension": ".py",
   "mimetype": "text/x-python",
   "name": "python",
   "nbconvert_exporter": "python",
   "pygments_lexer": "ipython3",
   "version": "3.8.5"
  },
  "papermill": {
   "duration": 215.720302,
   "end_time": "2021-03-02T12:15:47.982776",
   "environment_variables": {},
   "exception": null,
   "input_path": "__notebook__.ipynb",
   "output_path": "__notebook__.ipynb",
   "parameters": {},
   "start_time": "2021-03-02T12:12:12.262474",
   "version": "2.1.0"
  }
 },
 "nbformat": 4,
 "nbformat_minor": 4
}
