{
 "cells": [
  {
   "cell_type": "markdown",
   "metadata": {
    "papermill": {
     "duration": 0.006302,
     "end_time": "2020-12-30T16:11:13.422501",
     "exception": false,
     "start_time": "2020-12-30T16:11:13.416199",
     "status": "completed"
    },
    "tags": []
   },
   "source": [
    "# Jane Street - GPU Submission\n",
    "This is the actual notebook submitted to the competition. First, we load the trained models and use them to implement the `predict()` function."
   ]
  },
  {
   "cell_type": "code",
   "execution_count": 1,
   "metadata": {
    "execution": {
     "iopub.execute_input": "2020-12-30T16:11:13.439748Z",
     "iopub.status.busy": "2020-12-30T16:11:13.439126Z",
     "iopub.status.idle": "2020-12-30T16:11:17.792241Z",
     "shell.execute_reply": "2020-12-30T16:11:17.791213Z"
    },
    "papermill": {
     "duration": 4.364425,
     "end_time": "2020-12-30T16:11:17.792359",
     "exception": false,
     "start_time": "2020-12-30T16:11:13.427934",
     "status": "completed"
    },
    "tags": []
   },
   "outputs": [],
   "source": [
    "import json\n",
    "import os\n",
    "\n",
    "import numpy as np\n",
    "import pandas as pd\n",
    "\n",
    "from tensorflow import keras"
   ]
  },
  {
   "cell_type": "code",
   "execution_count": 2,
   "metadata": {
    "execution": {
     "iopub.execute_input": "2020-12-30T16:11:17.811552Z",
     "iopub.status.busy": "2020-12-30T16:11:17.810963Z",
     "iopub.status.idle": "2020-12-30T16:11:20.742364Z",
     "shell.execute_reply": "2020-12-30T16:11:20.741440Z"
    },
    "papermill": {
     "duration": 2.944754,
     "end_time": "2020-12-30T16:11:20.742511",
     "exception": false,
     "start_time": "2020-12-30T16:11:17.797757",
     "status": "completed"
    },
    "tags": []
   },
   "outputs": [],
   "source": [
    "# load the model\n",
    "model_folder = os.path.join(os.pardir, \"input\", \"jane-street-gpu\")\n",
    "\n",
    "with open(os.path.join(model_folder, \"model.json\"), \"r\") as f:\n",
    "    model_json = f.read()\n",
    "\n",
    "model = keras.models.model_from_json(model_json)\n",
    "model.load_weights(os.path.join(model_folder, \"model.h5\"))\n",
    "\n",
    "# get the optimal threshold\n",
    "utility_folder = os.path.join(os.pardir, \"input\", \"jane-street-gpu-utility\")\n",
    "\n",
    "with open(os.path.join(utility_folder, \"threshold.json\")) as f:\n",
    "    threshold_json = json.loads(f.read())\n",
    "\n",
    "threshold = float(threshold_json[\"threshold\"])\n",
    "\n",
    "# get the medians to impute missing values\n",
    "median = pd.read_csv(os.path.join(model_folder, \"impute.csv\"), index_col=0, squeeze=True)"
   ]
  },
  {
   "cell_type": "code",
   "execution_count": 3,
   "metadata": {
    "execution": {
     "iopub.execute_input": "2020-12-30T16:11:20.758870Z",
     "iopub.status.busy": "2020-12-30T16:11:20.758231Z",
     "iopub.status.idle": "2020-12-30T16:11:20.762198Z",
     "shell.execute_reply": "2020-12-30T16:11:20.761720Z"
    },
    "papermill": {
     "duration": 0.014452,
     "end_time": "2020-12-30T16:11:20.762297",
     "exception": false,
     "start_time": "2020-12-30T16:11:20.747845",
     "status": "completed"
    },
    "tags": []
   },
   "outputs": [],
   "source": [
    "# function to return predictions for the current trade\n",
    "def predict(sample):\n",
    "    X = sample.to_numpy()\n",
    "    nan = np.isnan(X)\n",
    "    X[nan] = median[nan.squeeze()]\n",
    "    prob = model(X, training=False).numpy().item()\n",
    "    return 1 if prob > threshold else 0"
   ]
  },
  {
   "cell_type": "markdown",
   "metadata": {
    "papermill": {
     "duration": 0.004797,
     "end_time": "2020-12-30T16:11:20.772355",
     "exception": false,
     "start_time": "2020-12-30T16:11:20.767558",
     "status": "completed"
    },
    "tags": []
   },
   "source": [
    "Then we use the Jane Street API to make the predictions. In this setup the iterator `iter_test` yields single samples `test_df` in chronological order. The predict function needs to decide whether to accept or reject the trade at this time-point using only the current sample and the previous samples stored in `hist_df`. Set `pred_df` to 1 to accept the trade or to 0 to reject the trade."
   ]
  },
  {
   "cell_type": "code",
   "execution_count": 4,
   "metadata": {
    "execution": {
     "iopub.execute_input": "2020-12-30T16:11:20.789846Z",
     "iopub.status.busy": "2020-12-30T16:11:20.789105Z",
     "iopub.status.idle": "2020-12-30T16:15:08.754078Z",
     "shell.execute_reply": "2020-12-30T16:15:08.752762Z"
    },
    "papermill": {
     "duration": 227.976817,
     "end_time": "2020-12-30T16:15:08.754222",
     "exception": false,
     "start_time": "2020-12-30T16:11:20.777405",
     "status": "completed"
    },
    "tags": []
   },
   "outputs": [],
   "source": [
    "import janestreet\n",
    "env = janestreet.make_env()\n",
    "iter_test = env.iter_test()\n",
    "\n",
    "# initialize things with first sample\n",
    "sample, pred = next(iter_test)\n",
    "features = [c for c in sample.columns if \"feature\" in c]\n",
    "median = median[features].to_numpy()\n",
    "pred.action = predict(sample[features])\n",
    "env.predict(pred)\n",
    "\n",
    "# loop over remaining samples\n",
    "for (sample, pred) in iter_test:\n",
    "    pred.action = predict(sample[features]) if sample[\"weight\"].item() > 0.0 else 0\n",
    "    env.predict(pred)"
   ]
  }
 ],
 "metadata": {
  "kernelspec": {
   "display_name": "Python 3",
   "language": "python",
   "name": "python3"
  },
  "language_info": {
   "codemirror_mode": {
    "name": "ipython",
    "version": 3
   },
   "file_extension": ".py",
   "mimetype": "text/x-python",
   "name": "python",
   "nbconvert_exporter": "python",
   "pygments_lexer": "ipython3",
   "version": "3.8.5"
  },
  "papermill": {
   "duration": 241.786411,
   "end_time": "2020-12-30T16:15:10.736637",
   "environment_variables": {},
   "exception": null,
   "input_path": "__notebook__.ipynb",
   "output_path": "__notebook__.ipynb",
   "parameters": {},
   "start_time": "2020-12-30T16:11:08.950226",
   "version": "2.1.0"
  }
 },
 "nbformat": 4,
 "nbformat_minor": 4
}
