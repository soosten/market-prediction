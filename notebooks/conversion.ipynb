{
 "cells": [
  {
   "cell_type": "markdown",
   "metadata": {},
   "source": [
    "# Jane Street - Conversion\n",
    "This notebook take the data from the  __[Jane Street Market Prediction](https://www.kaggle.com/c/jane-street-market-prediction)__ competition and converts it into a dataset suitable for TPUs."
   ]
  },
  {
   "cell_type": "code",
   "execution_count": null,
   "metadata": {},
   "outputs": [],
   "source": [
    "import json\n",
    "import os\n",
    "from shutil import make_archive\n",
    "\n",
    "import numpy as np\n",
    "import pandas as pd\n",
    "import tensorflow as tf\n",
    "\n",
    "# create a temporary folder to create the dataset in\n",
    "temp = os.path.join(os.pardir, \"temp\", \"tempdata\")\n",
    "os.makedirs(temp, exist_ok=True)"
   ]
  },
  {
   "cell_type": "code",
   "execution_count": null,
   "metadata": {},
   "outputs": [],
   "source": [
    "# number of days available\n",
    "TOTAL_DAYS = 500\n",
    "\n",
    "# number of days to put in each tf record\n",
    "# one day corresponds to ~3 MB on disk\n",
    "DAYS_PER_FILE = 20\n",
    "\n",
    "# number of folds to split the data into\n",
    "FOLDS = 5\n",
    "\n",
    "# impute missing values with this value\n",
    "# EDA showed that none of the features are never very \n",
    "# negative (<= -10) so we impute missing value with -100\n",
    "NAN_VALUE = -100.0"
   ]
  },
  {
   "cell_type": "code",
   "execution_count": null,
   "metadata": {},
   "outputs": [],
   "source": [
    "# load data, convert to 32-bit floats and replace missing values by median\n",
    "file = os.path.join(os.pardir, \"input\", \"jane-street-market-prediction\", \"train.csv\")\n",
    "dtype = {c: np.float32 for c in pd.read_csv(file, nrows=1).columns}\n",
    "df = pd.read_csv(file, engine=\"c\", dtype=dtype)\n",
    "df.fillna(NAN_VALUE, inplace=True)\n",
    "\n",
    "columns = {col: ix for (ix, col) in enumerate(df.columns)}\n",
    "with open(os.path.join(temp, \"columns.json\"), \"w\") as file:\n",
    "    json.dump(columns, file)\n",
    "\n",
    "stats = {\"nan_value\": str(NAN_VALUE)}"
   ]
  },
  {
   "cell_type": "code",
   "execution_count": null,
   "metadata": {},
   "outputs": [],
   "source": [
    "days_per_fold = TOTAL_DAYS // FOLDS\n",
    "files_per_fold = TOTAL_DAYS // (FOLDS * DAYS_PER_FILE)\n",
    "\n",
    "for fold in range(FOLDS):\n",
    "    # make a directory for files in this fold\n",
    "    os.makedirs(os.path.join(temp, f\"fold{fold}\"), exist_ok=True)\n",
    "    \n",
    "    # split data into data for this fold and remainder\n",
    "    fold_cols = df[\"date\"].between(fold * days_per_fold, (fold + 1) * days_per_fold - 1)\n",
    "    fold_df, rest_df = df[fold_cols], df[~fold_cols]\n",
    "    \n",
    "    # store the statistics of the remaining data\n",
    "    stats[fold] = {\"samples\": len(rest_df),\n",
    "                   \"mean\": str(rest_df.mean()),\n",
    "                   \"std\": str(rest_df.std())}\n",
    "\n",
    "    # write the days for this fold into tf records\n",
    "    for file in range(files_per_fold):\n",
    "        first = fold * days_per_fold + file * DAYS_PER_FILE\n",
    "        last = first + DAYS_PER_FILE - 1\n",
    "        file_df = fold_df[fold_df[\"date\"].between(first, last)]\n",
    "\n",
    "        # convert to TF dataset\n",
    "        ds = tf.data.Dataset.from_tensor_slices(file_df.to_numpy())\n",
    "            \n",
    "        # serialize the tensors in the data set\n",
    "        ds = ds.map(tf.io.serialize_tensor)\n",
    "\n",
    "        # write the serialized data to TF record\n",
    "        record_path = os.path.join(temp, f\"fold{fold}\", f\"{file}.tfrec\")\n",
    "        record = tf.data.experimental.TFRecordWriter(record_path)\n",
    "        record.write(ds)"
   ]
  },
  {
   "cell_type": "code",
   "execution_count": null,
   "metadata": {},
   "outputs": [],
   "source": [
    "with open(os.path.join(temp, \"stats.json\"), \"w\") as file:\n",
    "    json.dump(stats, file)\n",
    "\n",
    "make_archive(os.path.join(os.curdir, \"data\"), \"zip\", temp)"
   ]
  }
 ],
 "metadata": {
  "kernelspec": {
   "display_name": "Python 3",
   "language": "python",
   "name": "python3"
  },
  "language_info": {
   "codemirror_mode": {
    "name": "ipython",
    "version": 3
   },
   "file_extension": ".py",
   "mimetype": "text/x-python",
   "name": "python",
   "nbconvert_exporter": "python",
   "pygments_lexer": "ipython3",
   "version": "3.8.5"
  }
 },
 "nbformat": 4,
 "nbformat_minor": 4
}
