{
 "cells": [
  {
   "cell_type": "markdown",
   "metadata": {},
   "source": [
    "# Jane Street Market Prediction - Data Conversion\n",
    "This notebook take the data from the  __[Jane Street Market Prediction](https://www.kaggle.com/c/jane-street-market-prediction)__ competition and converts it into a dataset suitable for TPUs."
   ]
  },
  {
   "cell_type": "code",
   "execution_count": null,
   "metadata": {},
   "outputs": [],
   "source": [
    "import json\n",
    "import os\n",
    "from shutil import make_archive\n",
    "\n",
    "import numpy as np\n",
    "import pandas as pd\n",
    "import tensorflow as tf"
   ]
  },
  {
   "cell_type": "markdown",
   "metadata": {},
   "source": [
    "Decide how many days to put in each file and what percentage of files should be put in the train/valid/test folders respectively. One day corresponds to about 3 MB of data."
   ]
  },
  {
   "cell_type": "code",
   "execution_count": null,
   "metadata": {},
   "outputs": [],
   "source": [
    "DAYS_PER_FILE = 5\n",
    "SPLIT = {\"train\": 80, \"valid\": 15, \"test\": 5}"
   ]
  },
  {
   "cell_type": "markdown",
   "metadata": {},
   "source": [
    "Create the temporary directories for the dataset files."
   ]
  },
  {
   "cell_type": "code",
   "execution_count": null,
   "metadata": {},
   "outputs": [],
   "source": [
    "temp = os.path.join(os.pardir, \"temp\", \"tempdata\")\n",
    "os.makedirs(os.path.join(temp, \"train\"), exist_ok=True)\n",
    "os.makedirs(os.path.join(temp, \"valid\"), exist_ok=True)\n",
    "os.makedirs(os.path.join(temp, \"test\"), exist_ok=True)"
   ]
  },
  {
   "cell_type": "markdown",
   "metadata": {},
   "source": [
    "Read the CSV files, convert to 32 bit floats, and impute missing values with the median for that feature."
   ]
  },
  {
   "cell_type": "code",
   "execution_count": null,
   "metadata": {},
   "outputs": [],
   "source": [
    "comp_folder = os.path.join(os.pardir, \"input\", \"jane-street-market-prediction\")\n",
    "df = pd.read_csv(os.path.join(comp_folder, \"train.csv\"))\n",
    "df = df.astype({c: np.float32 for c in df.select_dtypes(include=\"float64\").columns})\n",
    "df.fillna(df.median(), inplace=True)"
   ]
  },
  {
   "cell_type": "markdown",
   "metadata": {},
   "source": [
    "Store a dictionary translating column names to indices in `columns.json`."
   ]
  },
  {
   "cell_type": "code",
   "execution_count": null,
   "metadata": {},
   "outputs": [],
   "source": [
    "columns = {col: ix for (ix, col) in enumerate(df.columns)}\n",
    "with open(os.path.join(temp, \"columns.json\"), \"w\") as file:\n",
    "    json.dump(columns, file)"
   ]
  },
  {
   "cell_type": "markdown",
   "metadata": {},
   "source": [
    "Split the dataframe in to shards of `DAYS_PER_FILE` days and write them into tf records in the temporary directory structure."
   ]
  },
  {
   "cell_type": "code",
   "execution_count": null,
   "metadata": {},
   "outputs": [],
   "source": [
    "files = 500 // DAYS_PER_FILE\n",
    "for file in range(files):\n",
    "    # determine which days to put in this file\n",
    "    days = range(DAYS_PER_FILE * file, DAYS_PER_FILE * (file + 1))\n",
    "    \n",
    "    # convert the corresponding part of the data frame to tensor\n",
    "    tensor = tf.convert_to_tensor(df[df[\"date\"].isin(days)], dtype=tf.float32)\n",
    "\n",
    "    # convert the tensor to a TF dataset\n",
    "    ds = tf.data.Dataset.from_tensor_slices(tensor)\n",
    "    \n",
    "    # serialize the tensors in the data set\n",
    "    ds = ds.map(tf.io.serialize_tensor)\n",
    "    \n",
    "    # decide on a folder for this file\n",
    "    if file < 0.01 * SPLIT[\"train\"] * files:\n",
    "        folder = \"train\"\n",
    "    elif file < 0.01 * (SPLIT[\"train\"] + SPLIT[\"valid\"]) * files:\n",
    "        folder = \"valid\"\n",
    "    else:\n",
    "        folder = \"test\"\n",
    "    \n",
    "    # write the serialized data to TF record\n",
    "    record_path = os.path.join(temp, folder, f\"{file}.tfrec\")\n",
    "    record = tf.data.experimental.TFRecordWriter(record_path)\n",
    "    record.write(ds)"
   ]
  },
  {
   "cell_type": "markdown",
   "metadata": {},
   "source": [
    "Compress the temporary dataset directory into a zip archive in the output directory."
   ]
  },
  {
   "cell_type": "code",
   "execution_count": null,
   "metadata": {},
   "outputs": [],
   "source": [
    "arc = make_archive(os.path.join(os.curdir, \"data\"), \"zip\", temp)\n",
    "print(f\"Data written to {arc}\")"
   ]
  }
 ],
 "metadata": {
  "kernelspec": {
   "display_name": "Python 3",
   "language": "python",
   "name": "python3"
  },
  "language_info": {
   "codemirror_mode": {
    "name": "ipython",
    "version": 3
   },
   "file_extension": ".py",
   "mimetype": "text/x-python",
   "name": "python",
   "nbconvert_exporter": "python",
   "pygments_lexer": "ipython3",
   "version": "3.8.5"
  }
 },
 "nbformat": 4,
 "nbformat_minor": 4
}
