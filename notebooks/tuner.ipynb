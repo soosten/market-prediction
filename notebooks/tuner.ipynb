{
 "cells": [
  {
   "cell_type": "markdown",
   "metadata": {
    "papermill": {
     "duration": 0.005246,
     "end_time": "2021-01-14T20:22:43.729983",
     "exception": false,
     "start_time": "2021-01-14T20:22:43.724737",
     "status": "completed"
    },
    "tags": []
   },
   "source": [
    "# Jane Street - Tuner"
   ]
  },
  {
   "cell_type": "code",
   "execution_count": 1,
   "metadata": {
    "execution": {
     "iopub.execute_input": "2021-01-14T20:22:43.743661Z",
     "iopub.status.busy": "2021-01-14T20:22:43.742648Z",
     "iopub.status.idle": "2021-01-14T20:22:51.645244Z",
     "shell.execute_reply": "2021-01-14T20:22:51.645773Z"
    },
    "papermill": {
     "duration": 7.911374,
     "end_time": "2021-01-14T20:22:51.645946",
     "exception": false,
     "start_time": "2021-01-14T20:22:43.734572",
     "status": "completed"
    },
    "tags": []
   },
   "outputs": [],
   "source": [
    "import joblib\n",
    "import json\n",
    "import os\n",
    "\n",
    "import numpy as np\n",
    "import pandas as pd\n",
    "\n",
    "import matplotlib.pyplot as plt\n",
    "import seaborn as sns\n",
    "\n",
    "import tensorflow as tf\n",
    "from tensorflow import keras\n",
    "\n",
    "from xgboost import XGBClassifier"
   ]
  },
  {
   "cell_type": "code",
   "execution_count": 2,
   "metadata": {
    "execution": {
     "iopub.execute_input": "2021-01-14T20:22:51.659347Z",
     "iopub.status.busy": "2021-01-14T20:22:51.658300Z",
     "iopub.status.idle": "2021-01-14T20:23:00.343816Z",
     "shell.execute_reply": "2021-01-14T20:23:00.343254Z"
    },
    "papermill": {
     "duration": 8.693079,
     "end_time": "2021-01-14T20:23:00.343935",
     "exception": false,
     "start_time": "2021-01-14T20:22:51.650856",
     "status": "completed"
    },
    "tags": []
   },
   "outputs": [],
   "source": [
    "# load NN model\n",
    "model_folder = os.path.join(os.pardir, \"input\", \"jane-street-nn\")\n",
    "\n",
    "with open(os.path.join(model_folder, \"model.json\"), \"r\") as f:\n",
    "    nn = keras.models.model_from_json(f.read())\n",
    "\n",
    "nn.load_weights(os.path.join(model_folder, \"model.h5\"))\n",
    "nn.call = tf.function(nn.call, experimental_relax_shapes=True)\n",
    "\n",
    "nn_pp = joblib.load(os.path.join(model_folder, \"preprocessor.pkl\"))\n",
    "\n",
    "\n",
    "# load EDA XGB model\n",
    "model_folder = os.path.join(os.pardir, \"input\", \"jane-street-eda-xgb\")\n",
    "\n",
    "edaxgb = XGBClassifier()\n",
    "edaxgb.load_model(os.path.join(model_folder, \"model.xgb\"))\n",
    "\n",
    "edaxgb_pp = joblib.load(os.path.join(model_folder, \"preprocessor.pkl\"))\n",
    "\n",
    "\n",
    "# load PLS XGB model\n",
    "model_folder = os.path.join(os.pardir, \"input\", \"jane-street-pls-xgb\")\n",
    "\n",
    "plsxgb = XGBClassifier()\n",
    "plsxgb.load_model(os.path.join(model_folder, \"model.xgb\"))\n",
    "\n",
    "plsxgb_pp = joblib.load(os.path.join(model_folder, \"preprocessor.pkl\"))\n",
    "\n",
    "\n",
    "# ensemble weights and threshold\n",
    "weights = {\"nn\": 1 / 3, \"eda-xgb\": 1 / 3, \"pls-xgb\": 1 / 3}\n",
    "threshold = 0.5"
   ]
  },
  {
   "cell_type": "code",
   "execution_count": 3,
   "metadata": {
    "execution": {
     "iopub.execute_input": "2021-01-14T20:23:00.363645Z",
     "iopub.status.busy": "2021-01-14T20:23:00.362625Z",
     "iopub.status.idle": "2021-01-14T20:25:38.929171Z",
     "shell.execute_reply": "2021-01-14T20:25:38.929707Z"
    },
    "papermill": {
     "duration": 158.580942,
     "end_time": "2021-01-14T20:25:38.929885",
     "exception": false,
     "start_time": "2021-01-14T20:23:00.348943",
     "status": "completed"
    },
    "tags": []
   },
   "outputs": [],
   "source": [
    "# read data as 32 bit floats\n",
    "file = os.path.join(os.pardir, \"input\", \"jane-street-market-prediction\", \"train.csv\")\n",
    "dtype = {c: np.float32 for c in pd.read_csv(file, nrows=1).columns}\n",
    "full_df = pd.read_csv(file, engine=\"c\", dtype=dtype)\n",
    "features = [c for c in full_df.columns if \"feature\" in c]\n",
    "\n",
    "# NN predictions\n",
    "valid_df = full_df[full_df[\"date\"].between(425, 500)]\n",
    "X = valid_df[features].to_numpy()\n",
    "X = nn_pp.transform(X)\n",
    "nnprobs = nn.predict(X).squeeze()\n",
    "\n",
    "# EDA XGB predictions\n",
    "valid_df = full_df[full_df[\"date\"].between(425, 500)]\n",
    "X = valid_df[features].to_numpy()\n",
    "X = edaxgb_pp.transform(X)\n",
    "edaxgbprobs = edaxgb.predict_proba(X)\n",
    "edaxgbprobs = edaxgbprobs[:, 1]\n",
    "\n",
    "# PLS XGB predictions\n",
    "valid_df = full_df[full_df[\"date\"].between(425, 500)]\n",
    "X = valid_df[features].to_numpy()\n",
    "X = plsxgb_pp.transform(X)\n",
    "plsxgbprobs = plsxgb.predict_proba(X)\n",
    "plsxgbprobs = plsxgbprobs[:, 1]"
   ]
  },
  {
   "cell_type": "code",
   "execution_count": null,
   "metadata": {},
   "outputs": [],
   "source": [
    "# ensemble probs\n",
    "weights = {\"nn\": 1/3, \"eda-xgb\": 1/3, \"pls-xgb\": 1/3}\n",
    "probs = weights[\"nn\"] * nnprobs + weights[\"eda-xgb\"] * edaxgbprobs \\\n",
    "      + weights[\"pls-xgb\"] * plsxgbprobs"
   ]
  },
  {
   "cell_type": "code",
   "execution_count": 4,
   "metadata": {
    "execution": {
     "iopub.execute_input": "2021-01-14T20:25:38.944084Z",
     "iopub.status.busy": "2021-01-14T20:25:38.943082Z",
     "iopub.status.idle": "2021-01-14T20:32:39.701639Z",
     "shell.execute_reply": "2021-01-14T20:32:39.701071Z"
    },
    "papermill": {
     "duration": 420.766716,
     "end_time": "2021-01-14T20:32:39.701767",
     "exception": false,
     "start_time": "2021-01-14T20:25:38.935051",
     "status": "completed"
    },
    "tags": []
   },
   "outputs": [
    {
     "name": "stdout",
     "output_type": "stream",
     "text": [
      "Optimal threshold at p = 0.50174\n"
     ]
    },
    {
     "data": {
      "image/png": "[encoded data removed]",
      "text/plain": [
       "<Figure size 576x360 with 1 Axes>"
      ]
     },
     "metadata": {
      "needs_background": "light"
     },
     "output_type": "display_data"
    }
   ],
   "source": [
    "# relevant data to compute utility\n",
    "valid_df = full_df[full_df[\"date\"].between(425, 500)]\n",
    "resp = valid_df[\"resp\"].to_numpy()\n",
    "weight = valid_df[\"weight\"].to_numpy()\n",
    "date = valid_df[\"date\"].astype(np.int).to_numpy()\n",
    "\n",
    "# utility function as defined above\n",
    "def utility(threshold):\n",
    "    action = np.heaviside(probs - threshold, 0.0)\n",
    "    p = np.bincount(date, weight * resp * action)\n",
    "    \n",
    "    if np.sum(p ** 2) == 0.0:\n",
    "        return 0.0\n",
    "    \n",
    "    t = np.sum(p) / np.sqrt(np.sum(p ** 2)) * np.sqrt(250 / p.size)\n",
    "    u = min(max(t, 0), 6) * np.sum(p)\n",
    "    \n",
    "    return u\n",
    "\n",
    "# compute utilities at different thresholds and select the best one\n",
    "thresholds = np.arange(0.01, 1.0, 1e-5)\n",
    "utilities = np.array([utility(thresh) for thresh in thresholds])\n",
    "utilities = (utilities - utilities.min()) / (utilities.max() - utilities.min())\n",
    "best = thresholds[np.argmax(utilities)]\n",
    "best = np.round(best, 5)\n",
    "\n",
    "# save the best threshold\n",
    "with open(os.path.join(os.curdir, \"threshold.json\"), \"w\") as file:\n",
    "    json.dump({\"threshold\": str(best)}, file)\n",
    "    \n",
    "# plot utility curve and print best threshold\n",
    "plt.figure(figsize=(8, 5))\n",
    "plt.plot(thresholds, utilities, \"tab:blue\")\n",
    "plt.xlabel(\"Threshold\")\n",
    "plt.xlabel(\"Utility\")\n",
    "plt.title(\"Utility at threshold\")\n",
    "plt.axis([0, 1, 0, 1])\n",
    "plt.grid(True)\n",
    "plt.show()\n",
    "\n",
    "print(f\"Optimal threshold at p = {best}\")"
   ]
  }
 ],
 "metadata": {
  "kernelspec": {
   "display_name": "Python 3",
   "language": "python",
   "name": "python3"
  },
  "language_info": {
   "codemirror_mode": {
    "name": "ipython",
    "version": 3
   },
   "file_extension": ".py",
   "mimetype": "text/x-python",
   "name": "python",
   "nbconvert_exporter": "python",
   "pygments_lexer": "ipython3",
   "version": "3.8.5"
  },
  "papermill": {
   "duration": 602.113696,
   "end_time": "2021-01-14T20:32:41.004297",
   "environment_variables": {},
   "exception": null,
   "input_path": "__notebook__.ipynb",
   "output_path": "__notebook__.ipynb",
   "parameters": {},
   "start_time": "2021-01-14T20:22:38.890601",
   "version": "2.1.0"
  }
 },
 "nbformat": 4,
 "nbformat_minor": 4
}
