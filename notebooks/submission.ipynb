{
 "cells": [
  {
   "cell_type": "markdown",
   "metadata": {
    "papermill": {
     "duration": 0.005424,
     "end_time": "2021-01-14T20:37:24.877948",
     "exception": false,
     "start_time": "2021-01-14T20:37:24.872524",
     "status": "completed"
    },
    "tags": []
   },
   "source": [
    "# Jane Street - Submission"
   ]
  },
  {
   "cell_type": "code",
   "execution_count": 1,
   "metadata": {
    "execution": {
     "iopub.execute_input": "2021-01-14T20:37:24.894306Z",
     "iopub.status.busy": "2021-01-14T20:37:24.893566Z",
     "iopub.status.idle": "2021-01-14T20:37:35.856787Z",
     "shell.execute_reply": "2021-01-14T20:37:35.855537Z"
    },
    "papermill": {
     "duration": 10.974266,
     "end_time": "2021-01-14T20:37:35.856916",
     "exception": false,
     "start_time": "2021-01-14T20:37:24.882650",
     "status": "completed"
    },
    "tags": []
   },
   "outputs": [],
   "source": [
    "import joblib\n",
    "import os\n",
    "\n",
    "import numpy as np\n",
    "import pandas as pd\n",
    "\n",
    "import matplotlib.pyplot as plt\n",
    "import seaborn as sns\n",
    "\n",
    "import tensorflow as tf\n",
    "from tensorflow import keras\n",
    "\n",
    "from xgboost import XGBClassifier\n",
    "\n",
    "import janestreet"
   ]
  },
  {
   "cell_type": "code",
   "execution_count": 2,
   "metadata": {
    "execution": {
     "iopub.execute_input": "2021-01-14T20:37:35.878778Z",
     "iopub.status.busy": "2021-01-14T20:37:35.878144Z",
     "iopub.status.idle": "2021-01-14T20:37:48.311532Z",
     "shell.execute_reply": "2021-01-14T20:37:48.310876Z"
    },
    "papermill": {
     "duration": 12.449452,
     "end_time": "2021-01-14T20:37:48.311656",
     "exception": false,
     "start_time": "2021-01-14T20:37:35.862204",
     "status": "completed"
    },
    "tags": []
   },
   "outputs": [],
   "source": [
    "# load NN model\n",
    "model_folder = os.path.join(os.pardir, \"input\", \"jane-street-nn\")\n",
    "\n",
    "with open(os.path.join(model_folder, \"model.json\"), \"r\") as f:\n",
    "    nn = keras.models.model_from_json(f.read())\n",
    "\n",
    "nn.load_weights(os.path.join(model_folder, \"model.h5\"))\n",
    "nn.call = tf.function(nn.call, experimental_relax_shapes=True)\n",
    "\n",
    "nn_pp = joblib.load(os.path.join(model_folder, \"preprocessor.pkl\"))\n",
    "\n",
    "#impute = pd.read_csv(os.path.join(model_folder, \"impute.csv\"), index_col=0, squeeze=True)\n",
    "\n",
    "\n",
    "# load EDA XGB model\n",
    "model_folder = os.path.join(os.pardir, \"input\", \"jane-street-eda-xgb\")\n",
    "\n",
    "edaxgb = XGBClassifier()\n",
    "edaxgb.load_model(os.path.join(model_folder, \"model.xgb\"))\n",
    "\n",
    "edaxgb_pp = joblib.load(os.path.join(model_folder, \"preprocessor.pkl\"))\n",
    "\n",
    "\n",
    "# load PLS XGB model\n",
    "model_folder = os.path.join(os.pardir, \"input\", \"jane-street-pls-xgb\")\n",
    "\n",
    "plsxgb = XGBClassifier()\n",
    "plsxgb.load_model(os.path.join(model_folder, \"model.xgb\"))\n",
    "\n",
    "plsxgb_pp = joblib.load(os.path.join(model_folder, \"preprocessor.pkl\"))\n",
    "\n",
    "\n",
    "# ensemble weights and threshold\n",
    "weights = {\"nn\": 1 / 3, \"eda-xgb\": 1 / 3, \"pls-xgb\": 1 / 3}\n",
    "threshold = 0.5"
   ]
  },
  {
   "cell_type": "code",
   "execution_count": 3,
   "metadata": {
    "execution": {
     "iopub.execute_input": "2021-01-14T20:37:48.329247Z",
     "iopub.status.busy": "2021-01-14T20:37:48.328492Z",
     "iopub.status.idle": "2021-01-14T20:37:48.332838Z",
     "shell.execute_reply": "2021-01-14T20:37:48.332256Z"
    },
    "papermill": {
     "duration": 0.015927,
     "end_time": "2021-01-14T20:37:48.332948",
     "exception": false,
     "start_time": "2021-01-14T20:37:48.317021",
     "status": "completed"
    },
    "tags": []
   },
   "outputs": [],
   "source": [
    "# function to return predictions for the current trade\n",
    "def predict(sample):\n",
    "    X = sample.to_numpy()\n",
    "    \n",
    "    #nan = np.isnan(X)\n",
    "    #X[nan] = impute[nan.squeeze()]\n",
    "    #nn_pred = weights[\"nn\"] * nn(X, training=False).numpy().item()\n",
    "    \n",
    "    nn_pred = nn(nn_pp.transform(X), training=False)\n",
    "    nn_pred = weights[\"nn\"] * nn_pred.numpy().item()\n",
    "    \n",
    "    plsxgb_pred = plsxgb.predict_proba(plsxgb_pp.transform(X))\n",
    "    plsxgb_pred = weights[\"pls-xgb\"] * plsxgb_pred[0, 1]\n",
    "    \n",
    "    edaxgb_pred = edaxgb.predict_proba(edaxgb_pp.transform(X))\n",
    "    edaxgb_pred = weights[\"eda-xgb\"] * edaxgb_pred[0, 1]\n",
    "    \n",
    "    ensemble_pred = nn_pred + edaxgb_pred + plsxgb_pred\n",
    "    return 1 if ensemble_pred > threshold else 0"
   ]
  },
  {
   "cell_type": "code",
   "execution_count": 4,
   "metadata": {
    "execution": {
     "iopub.execute_input": "2021-01-14T20:37:48.350970Z",
     "iopub.status.busy": "2021-01-14T20:37:48.350230Z",
     "iopub.status.idle": "2021-01-14T20:42:19.405896Z",
     "shell.execute_reply": "2021-01-14T20:42:19.404270Z"
    },
    "papermill": {
     "duration": 271.067845,
     "end_time": "2021-01-14T20:42:19.406035",
     "exception": false,
     "start_time": "2021-01-14T20:37:48.338190",
     "status": "completed"
    },
    "tags": []
   },
   "outputs": [],
   "source": [
    "env = janestreet.make_env()\n",
    "features = [f\"feature_{x}\" for x in range(130)]\n",
    "\n",
    "for (sample, pred) in env.iter_test():\n",
    "    pred.action = predict(sample[features]) if sample[\"weight\"].item() > 0.0 else 0\n",
    "    env.predict(pred)"
   ]
  }
 ],
 "metadata": {
  "kernelspec": {
   "display_name": "Python 3",
   "language": "python",
   "name": "python3"
  },
  "language_info": {
   "codemirror_mode": {
    "name": "ipython",
    "version": 3
   },
   "file_extension": ".py",
   "mimetype": "text/x-python",
   "name": "python",
   "nbconvert_exporter": "python",
   "pygments_lexer": "ipython3",
   "version": "3.8.5"
  },
  "papermill": {
   "duration": 300.84975,
   "end_time": "2021-01-14T20:42:21.144775",
   "environment_variables": {},
   "exception": null,
   "input_path": "__notebook__.ipynb",
   "output_path": "__notebook__.ipynb",
   "parameters": {},
   "start_time": "2021-01-14T20:37:20.295025",
   "version": "2.1.0"
  }
 },
 "nbformat": 4,
 "nbformat_minor": 4
}
