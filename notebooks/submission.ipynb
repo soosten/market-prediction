{
 "cells": [
  {
   "cell_type": "markdown",
   "metadata": {
    "papermill": {
     "duration": 0.004429,
     "end_time": "2020-12-27T16:50:30.550339",
     "exception": false,
     "start_time": "2020-12-27T16:50:30.545910",
     "status": "completed"
    },
    "tags": []
   },
   "source": [
    "# Jane Street - Submission\n",
    "This is the actual notebook submitted to the competition. First, we load the trained models and use them to implement the `predict()` function."
   ]
  },
  {
   "cell_type": "code",
   "execution_count": 1,
   "metadata": {
    "execution": {
     "iopub.execute_input": "2020-12-27T16:50:30.574728Z",
     "iopub.status.busy": "2020-12-27T16:50:30.573980Z",
     "iopub.status.idle": "2020-12-27T16:50:37.892253Z",
     "shell.execute_reply": "2020-12-27T16:50:37.891051Z"
    },
    "papermill": {
     "duration": 7.338171,
     "end_time": "2020-12-27T16:50:37.892393",
     "exception": false,
     "start_time": "2020-12-27T16:50:30.554222",
     "status": "completed"
    },
    "tags": []
   },
   "outputs": [],
   "source": [
    "import json\n",
    "import os\n",
    "\n",
    "import pandas as pd\n",
    "\n",
    "from tensorflow import keras\n",
    "\n",
    "# load the model\n",
    "model_folder = os.path.join(os.pardir, \"input\", \"jane-street-tpu\")\n",
    "\n",
    "with open(os.path.join(model_folder, \"model.json\"), \"r\") as f:\n",
    "    model_json = f.read()\n",
    "\n",
    "model = keras.models.model_from_json(model_json)\n",
    "model.load_weights(os.path.join(model_folder, \"model.h5\"))\n",
    "\n",
    "with open(os.path.join(model_folder, \"params.json\")) as file:\n",
    "    params = json.loads(file.read())\n",
    "\n",
    "WINDOW_SIZE = params[\"window_size\"]\n",
    "\n",
    "\n",
    "# get the optimal threshold from the utility notebook\n",
    "util_file = os.path.join(os.pardir, \"input\", \"jane-street-utility\", \"threshold.json\")\n",
    "\n",
    "with open(util_file) as file:\n",
    "    threshold_json = json.loads(file.read())\n",
    "\n",
    "THRESHOLD = float(threshold_json[\"threshold\"])\n",
    "\n",
    "\n",
    "# load stats dictionary to get the nan value\n",
    "stats_file = os.path.join(os.pardir, \"input\", \"jane-street-data\", \"stats.json\")\n",
    "\n",
    "with open(stats_file) as file:\n",
    "    stats = json.loads(file.read())\n",
    "\n",
    "NAN_VALUE = float(stats[\"nan_value\"])\n",
    "\n",
    "\n",
    "# function to return predictions for the current trade\n",
    "def predict(df):\n",
    "    if len(df) < WINDOW_SIZE:\n",
    "        return 0\n",
    "    series = df.iloc[-WINDOW_SIZE:].to_numpy().reshape(1, WINDOW_SIZE, 130)\n",
    "    pred = model(series, training=False).numpy().item()\n",
    "    \n",
    "    return 1 if pred > THRESHOLD else 0"
   ]
  },
  {
   "cell_type": "markdown",
   "metadata": {
    "papermill": {
     "duration": 0.003316,
     "end_time": "2020-12-27T16:50:37.899860",
     "exception": false,
     "start_time": "2020-12-27T16:50:37.896544",
     "status": "completed"
    },
    "tags": []
   },
   "source": [
    "Then we use the Jane Street API to make the predictions. In this setup the iterator `iter_test` yields single samples `test_df` in chronological order. The predict function needs to decide whether to accept or reject the trade at this time-point using only the current sample and the previous samples stored in `hist_df`. Set `pred_df` to 1 to accept the trade or to 0 to reject the trade."
   ]
  },
  {
   "cell_type": "code",
   "execution_count": 2,
   "metadata": {
    "execution": {
     "iopub.execute_input": "2020-12-27T16:50:37.916987Z",
     "iopub.status.busy": "2020-12-27T16:50:37.916328Z",
     "iopub.status.idle": "2020-12-27T16:54:58.781080Z",
     "shell.execute_reply": "2020-12-27T16:54:58.779871Z"
    },
    "papermill": {
     "duration": 260.877892,
     "end_time": "2020-12-27T16:54:58.781242",
     "exception": false,
     "start_time": "2020-12-27T16:50:37.903350",
     "status": "completed"
    },
    "tags": []
   },
   "outputs": [],
   "source": [
    "import janestreet\n",
    "\n",
    "env = janestreet.make_env()\n",
    "iter_test = env.iter_test()\n",
    "\n",
    "# initialize things with first sample\n",
    "sample, pred = next(iter_test)\n",
    "\n",
    "feat_cols = [c for c in sample.columns if \"feature\" in c]\n",
    "last_date = sample[\"date\"].item() \n",
    "\n",
    "df = sample[feat_cols].fillna(NAN_VALUE)\n",
    "\n",
    "pred.action = 0\n",
    "env.predict(pred)\n",
    "\n",
    "\n",
    "# loop over remaining samples\n",
    "for (sample, pred) in iter_test:\n",
    "    # if new date, clear df\n",
    "    new_date = sample[\"date\"].item() \n",
    "    if new_date != last_date:\n",
    "        last_date = new_date\n",
    "        df.drop(df.index, inplace=True)\n",
    "        \n",
    "    # append new sample to df\n",
    "    sample.fillna(NAN_VALUE, inplace=True)\n",
    "    df = df.append(sample[feat_cols], ignore_index=True)\n",
    "    \n",
    "    # accept/reject current trade\n",
    "    pred.action = predict(df) if sample[\"weight\"].item() > 0.0 else 0\n",
    "    env.predict(pred)"
   ]
  }
 ],
 "metadata": {
  "kernelspec": {
   "display_name": "Python 3",
   "language": "python",
   "name": "python3"
  },
  "language_info": {
   "codemirror_mode": {
    "name": "ipython",
    "version": 3
   },
   "file_extension": ".py",
   "mimetype": "text/x-python",
   "name": "python",
   "nbconvert_exporter": "python",
   "pygments_lexer": "ipython3",
   "version": "3.8.5"
  },
  "papermill": {
   "duration": 273.820489,
   "end_time": "2020-12-27T16:54:59.911343",
   "environment_variables": {},
   "exception": null,
   "input_path": "__notebook__.ipynb",
   "output_path": "__notebook__.ipynb",
   "parameters": {},
   "start_time": "2020-12-27T16:50:26.090854",
   "version": "2.1.0"
  }
 },
 "nbformat": 4,
 "nbformat_minor": 4
}
