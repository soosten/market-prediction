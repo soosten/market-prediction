{
 "cells": [
  {
   "cell_type": "markdown",
   "metadata": {},
   "source": [
    "# Jane Street Market Prediction - Submission\n",
    "This is the actual notebook submitted to the competition. First, we load the trained models and use them to implement the `predict()` function."
   ]
  },
  {
   "cell_type": "code",
   "execution_count": null,
   "metadata": {},
   "outputs": [],
   "source": [
    "import os\n",
    "\n",
    "import pandas as pd\n",
    "\n",
    "# load models\n",
    "json_file = os.path.join(os.pardir, \"input\",\n",
    "                         \"game-of-life-training\",\n",
    "                         \"model.json\")\n",
    "weight_file = os.path.join(os.pardir, \"input\",\n",
    "                           \"game-of-life-training\",\n",
    "                           \"model.h5\")\n",
    "\n",
    "with open(json_file, \"r\") as f:\n",
    "    model_json = f.read()\n",
    "\n",
    "custom_objects = {\"TorusPadding\": TorusPadding}\n",
    "with keras.utils.custom_object_scope(custom_objects):    \n",
    "    raw_model = keras.models.model_from_json(model_json)\n",
    "    raw_model.load_weights(weight_file)\n",
    "\n",
    "# add a rounding layer to output 0s and 1s\n",
    "inputs = layers.Input(shape=[25, 25, 1], name=\"inputs\")\n",
    "raw_pred = raw_model(inputs)\n",
    "outputs = layers.Activation(tf.round)(raw_pred)\n",
    "\n",
    "model = keras.Model(inputs=inputs, outputs=outputs, name=\"inference\")\n",
    "model.compile()\n",
    "\n",
    "\n",
    "\n",
    "# tune thresholds for highest utility score on training set...\n",
    "# https://www.kaggle.com/gogo827jz/jane-street-super-fast-utility-score-function/\n",
    "def utility_score_pd(date, weight, resp, action):\n",
    "    count_i = len(pd.unique(date))\n",
    "    Pi = np.bincount(date, weight * resp * action)\n",
    "    t = np.sum(Pi) / np.sqrt(np.sum(Pi ** 2)) * np.sqrt(250 / count_i)\n",
    "    u = np.clip(t, 0, 6) * np.sum(Pi)\n",
    "    return u\n",
    "\n",
    "\n",
    "# function to return predictions for the current trade\n",
    "# in test_df, using historical data in hist_df\n",
    "def predict(test_df, hist_df):\n",
    "    return 0"
   ]
  },
  {
   "cell_type": "markdown",
   "metadata": {},
   "source": [
    "Then we use the Jane Street API to make the predictions. In this setup the iterator `iter_test` yields single samples `test_df` in chronological order. The predict function needs to decide whether to accept or reject the trade at this time-point using only the current sample and the previous samples stored in `hist_df`. Set `pred_df` to 1 to accept the trade or to 0 to reject the trade."
   ]
  },
  {
   "cell_type": "code",
   "execution_count": null,
   "metadata": {},
   "outputs": [],
   "source": [
    "import janestreet\n",
    "\n",
    "env = janestreet.make_env()\n",
    "iter_test = env.iter_test()\n",
    "\n",
    "hist_df = pd.DataFrame()\n",
    "\n",
    "for (test_df, pred_df) in iter_test:\n",
    "    # accept/reject current trade\n",
    "    pred_df.action = predict(test_df, hist_df)\n",
    "    env.predict(sample_prediction_df)\n",
    "    \n",
    "    # store the new sample in the history data frame\n",
    "    hist_df.append(test_df)"
   ]
  }
 ],
 "metadata": {
  "kernelspec": {
   "display_name": "Python 3",
   "language": "python",
   "name": "python3"
  },
  "language_info": {
   "codemirror_mode": {
    "name": "ipython",
    "version": 3
   },
   "file_extension": ".py",
   "mimetype": "text/x-python",
   "name": "python",
   "nbconvert_exporter": "python",
   "pygments_lexer": "ipython3",
   "version": "3.8.5"
  }
 },
 "nbformat": 4,
 "nbformat_minor": 4
}
