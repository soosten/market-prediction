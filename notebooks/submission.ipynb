{
 "cells": [
  {
   "cell_type": "markdown",
   "metadata": {},
   "source": [
    "# Jane Street Market Prediction - Submission\n",
    "This is the actual notebook submitted to the competition. First, we load the trained models and use them to implement the `predict()` function."
   ]
  },
  {
   "cell_type": "code",
   "execution_count": null,
   "metadata": {},
   "outputs": [],
   "source": [
    "import json\n",
    "import os\n",
    "\n",
    "import pandas as pd\n",
    "\n",
    "from tensorflow import keras\n",
    "\n",
    "# load model\n",
    "model_folder = os.path.join(os.pardir, \"input\", \"jane-street-market-prediction-tpu\")\n",
    "\n",
    "with open(os.path.join(model_folder, \"model.json\"), \"r\") as f:\n",
    "    model_json = f.read()\n",
    "\n",
    "model = keras.models.model_from_json(model_json)\n",
    "model.load_weights(os.path.join(model_folder, \"model.h5\"))\n",
    "\n",
    "with open(os.path.join(model_folder, \"params.json\")) as file:\n",
    "    params = json.loads(file.read())\n",
    "\n",
    "window_size = params[\"window_size\"]\n",
    "\n",
    "\n",
    "# function to return predictions for the current trade\n",
    "def predict(df):\n",
    "    if len(df) < window_size:\n",
    "        return 0\n",
    "\n",
    "    series = df.iloc[-window_size:].to_numpy().reshape(1, 40, 130)\n",
    "    pred = model.predict(series)\n",
    "    return pred"
   ]
  },
  {
   "cell_type": "markdown",
   "metadata": {},
   "source": [
    "Then we use the Jane Street API to make the predictions. In this setup the iterator `iter_test` yields single samples `test_df` in chronological order. The predict function needs to decide whether to accept or reject the trade at this time-point using only the current sample and the previous samples stored in `hist_df`. Set `pred_df` to 1 to accept the trade or to 0 to reject the trade."
   ]
  },
  {
   "cell_type": "code",
   "execution_count": null,
   "metadata": {},
   "outputs": [],
   "source": [
    "import janestreet\n",
    "\n",
    "env = janestreet.make_env()\n",
    "iter_test = env.iter_test()\n",
    "\n",
    "df = pd.DataFrame()\n",
    "last_date = -1\n",
    "\n",
    "for (sample, pred) in iter_test:\n",
    "    # if new date, clear df\n",
    "    new_date = sample[\"date\"].to_numpy() \n",
    "    if new_date != last_date:\n",
    "        last_date = new_date\n",
    "        df.drop(df.index, inplace=True)\n",
    "        \n",
    "    # append new sample to df\n",
    "    features = sample[[c for c in sample.columns if \"feature\" in c]]\n",
    "    df = df.append(features, ignore_index=True)\n",
    "    \n",
    "    # accept/reject current trade\n",
    "    pred.action = predict(df)\n",
    "    env.predict(pred)"
   ]
  }
 ],
 "metadata": {
  "kernelspec": {
   "display_name": "Python 3",
   "language": "python",
   "name": "python3"
  },
  "language_info": {
   "codemirror_mode": {
    "name": "ipython",
    "version": 3
   },
   "file_extension": ".py",
   "mimetype": "text/x-python",
   "name": "python",
   "nbconvert_exporter": "python",
   "pygments_lexer": "ipython3",
   "version": "3.8.5"
  }
 },
 "nbformat": 4,
 "nbformat_minor": 4
}
