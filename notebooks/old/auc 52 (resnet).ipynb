{
 "cells": [
  {
   "cell_type": "markdown",
   "metadata": {
    "papermill": {
     "duration": 0.011932,
     "end_time": "2020-12-17T16:32:21.800440",
     "exception": false,
     "start_time": "2020-12-17T16:32:21.788508",
     "status": "completed"
    },
    "tags": []
   },
   "source": [
    "# Jane Street Market Prediction - TPU Training\n",
    "\n",
    "To run this notebook on kaggle, open the interactive editor and select to `Google Cloud SDK` from the `Addons` dropdown menu. Follow the instructions to link a Google Cloud account. Then select `TPU v3-8` as the accelerator in the `Settings` pane on the right before running the notebook."
   ]
  },
  {
   "cell_type": "markdown",
   "metadata": {
    "papermill": {
     "duration": 0.011202,
     "end_time": "2020-12-17T16:32:21.822600",
     "exception": false,
     "start_time": "2020-12-17T16:32:21.811398",
     "status": "completed"
    },
    "tags": []
   },
   "source": [
    "Run some setup code."
   ]
  },
  {
   "cell_type": "code",
   "execution_count": 1,
   "metadata": {
    "execution": {
     "iopub.execute_input": "2020-12-17T16:32:21.858192Z",
     "iopub.status.busy": "2020-12-17T16:32:21.857154Z",
     "iopub.status.idle": "2020-12-17T16:32:34.355114Z",
     "shell.execute_reply": "2020-12-17T16:32:34.353472Z"
    },
    "papermill": {
     "duration": 12.521451,
     "end_time": "2020-12-17T16:32:34.355252",
     "exception": false,
     "start_time": "2020-12-17T16:32:21.833801",
     "status": "completed"
    },
    "tags": []
   },
   "outputs": [],
   "source": [
    "import json\n",
    "import os\n",
    "\n",
    "import numpy as np\n",
    "import pandas as pd\n",
    "\n",
    "import matplotlib.pyplot as plt\n",
    "import seaborn as sns\n",
    "\n",
    "from sklearn.metrics import precision_recall_curve, roc_curve\n",
    "\n",
    "import tensorflow as tf\n",
    "from tensorflow import keras\n",
    "from tensorflow.keras import layers\n",
    "\n",
    "from tensorflow.keras.callbacks import EarlyStopping, ReduceLROnPlateau\n",
    "from tensorflow.keras.losses import BinaryCrossentropy\n",
    "from tensorflow.keras.metrics import AUC, PrecisionAtRecall\n",
    "from tensorflow.keras.optimizers import SGD\n",
    "\n",
    "from kaggle_datasets import KaggleDatasets\n",
    "from kaggle_secrets import UserSecretsClient\n",
    "\n",
    "# make the x,y labels legible on plots\n",
    "plt.rc(\"axes\", labelsize=16)\n",
    "\n",
    "# set up the TPU\n",
    "tpu = tf.distribute.cluster_resolver.TPUClusterResolver()\n",
    "tf.config.experimental_connect_to_cluster(tpu)\n",
    "tf.tpu.experimental.initialize_tpu_system(tpu)\n",
    "tpu_strategy = tf.distribute.experimental.TPUStrategy(tpu)\n",
    "tpu_replicas = tpu_strategy.num_replicas_in_sync\n",
    "\n",
    "# get dataset credential from the Google Cloud SDK\n",
    "# and  pass credential to tensorflow\n",
    "# this needs to run after TPU intialization\n",
    "user_secrets = UserSecretsClient()\n",
    "user_credential = user_secrets.get_gcloud_credential()\n",
    "user_secrets.set_tensorflow_credential(user_credential)\n",
    "\n",
    "# set tensorflow's random seed\n",
    "tf.random.set_seed(13)"
   ]
  },
  {
   "cell_type": "markdown",
   "metadata": {
    "papermill": {
     "duration": 0.010409,
     "end_time": "2020-12-17T16:32:34.376753",
     "exception": false,
     "start_time": "2020-12-17T16:32:34.366344",
     "status": "completed"
    },
    "tags": []
   },
   "source": [
    "Settings."
   ]
  },
  {
   "cell_type": "code",
   "execution_count": 2,
   "metadata": {
    "execution": {
     "iopub.execute_input": "2020-12-17T16:32:34.406836Z",
     "iopub.status.busy": "2020-12-17T16:32:34.406148Z",
     "iopub.status.idle": "2020-12-17T16:32:34.408788Z",
     "shell.execute_reply": "2020-12-17T16:32:34.409333Z"
    },
    "papermill": {
     "duration": 0.021472,
     "end_time": "2020-12-17T16:32:34.409488",
     "exception": false,
     "start_time": "2020-12-17T16:32:34.388016",
     "status": "completed"
    },
    "tags": []
   },
   "outputs": [],
   "source": [
    "# training parameters\n",
    "EPOCHS = 200\n",
    "BATCH_SIZE = 32 * tpu_replicas\n",
    "LEARNING_RATE = 0.01\n",
    "MIN_RECALL = 0.55\n",
    "LABEL_SMOOTHING = 0\n",
    "\n",
    "# cross-validation parameters\n",
    "FOLDS = 5\n",
    "HOLDOUT = 4\n",
    "\n",
    "# model parameters\n",
    "WINDOW_SIZE = 40\n",
    "NOISE = 0.05\n",
    "\n",
    "# write relevant parameters to params.json for other notebooks\n",
    "params = {\"holdout\": HOLDOUT, \"window_size\": WINDOW_SIZE}\n",
    "with open(os.path.join(os.curdir, \"params.json\"), \"w\") as file:\n",
    "    json.dump(params, file)"
   ]
  },
  {
   "cell_type": "markdown",
   "metadata": {
    "papermill": {
     "duration": 0.011,
     "end_time": "2020-12-17T16:32:34.431976",
     "exception": false,
     "start_time": "2020-12-17T16:32:34.420976",
     "status": "completed"
    },
    "tags": []
   },
   "source": [
    "`get_dataset()` returns a dataset generated from the folds in the list `folds`."
   ]
  },
  {
   "cell_type": "code",
   "execution_count": 3,
   "metadata": {
    "execution": {
     "iopub.execute_input": "2020-12-17T16:32:34.459238Z",
     "iopub.status.busy": "2020-12-17T16:32:34.458432Z",
     "iopub.status.idle": "2020-12-17T16:32:34.488081Z",
     "shell.execute_reply": "2020-12-17T16:32:34.488580Z"
    },
    "papermill": {
     "duration": 0.045253,
     "end_time": "2020-12-17T16:32:34.488765",
     "exception": false,
     "start_time": "2020-12-17T16:32:34.443512",
     "status": "completed"
    },
    "tags": []
   },
   "outputs": [],
   "source": [
    "def get_dataset(folds, repeat=False, shuffle=False, cache=False):\n",
    "    # load a dictionary mapping feature names to columns\n",
    "    col_file = os.path.join(os.pardir, \"input\",\n",
    "                            \"jane-street-market-prediction-data\",\n",
    "                            \"columns.json\")\n",
    "    with open(col_file) as file:\n",
    "        cols = json.loads(file.read())\n",
    "\n",
    "    # shorthand notation for autotune option\n",
    "    auto = tf.data.experimental.AUTOTUNE\n",
    "\n",
    "    # opens a tf record in filename as a dataset that parses serialized\n",
    "    # tensors and returns sliding windows of WINDOW_SIZE samples\n",
    "    def open_windowed_ds(filename):\n",
    "        ds = tf.data.TFRecordDataset(filename)\n",
    "        ds = ds.map(lambda x: tf.io.parse_tensor(x, tf.float32), num_parallel_calls=auto)\n",
    "        ds = ds.window(WINDOW_SIZE, shift=1, drop_remainder=True)\n",
    "        ds = ds.flat_map(lambda x: x.batch(WINDOW_SIZE))\n",
    "        return ds\n",
    "\n",
    "    # create a dataset with filenames of tf records in files_ds\n",
    "    # then interleave the datasets obtained by calling\n",
    "    # open_windowed_ds(x) on each element of files_ds\n",
    "    data_path = KaggleDatasets().get_gcs_path()\n",
    "    patterns = [data_path + f\"/fold{fold}\" + \"/*.tfrec\" for fold in folds]\n",
    "    files = tf.io.gfile.glob(patterns)\n",
    "    files_ds = tf.data.Dataset.from_tensor_slices(files)\n",
    "    ds = files_ds.interleave(open_windowed_ds, num_parallel_calls=auto)\n",
    "\n",
    "    # filter out any time series spanning multiple dates\n",
    "    def single_date(series):\n",
    "        dates, ix = tf.unique(series[:, cols[\"date\"]])\n",
    "        return tf.equal(tf.size(dates), tf.constant(1))\n",
    "\n",
    "    ds = ds.filter(single_date)\n",
    "\n",
    "    # separate the series into a training sample consisting\n",
    "    # of the features and a label indicating whether the\n",
    "    # response at final time is positive\n",
    "    # need to explicitly reshape the tensors here for things\n",
    "    # to work properly on TPU\n",
    "    def collate(series):\n",
    "        X = series[:, cols[\"feature_0\"]:(cols[\"feature_129\"] + 1)]\n",
    "        y = (1.0 + tf.sign(series[-1, cols[\"resp\"]])) / 2.0\n",
    "        return tf.reshape(X, [WINDOW_SIZE, 130]), tf.reshape(y, [1])\n",
    "\n",
    "    ds = ds.map(collate, num_parallel_calls=auto)\n",
    "\n",
    "    # if shuffling, allow the dataset to ignore the order for speed\n",
    "    ignore_order = tf.data.Options()\n",
    "    ignore_order.experimental_deterministic = not shuffle\n",
    "    ds = ds.with_options(ignore_order)\n",
    "\n",
    "    # check if the dataset should repeat once exhausted\n",
    "    ds = ds.repeat() if repeat else ds\n",
    "    \n",
    "    # check if we should shuffle the dataset\n",
    "    ds = ds.shuffle(4 * BATCH_SIZE) if shuffle else ds\n",
    "\n",
    "    # set the batch size of the dataset\n",
    "    ds = ds.batch(BATCH_SIZE)\n",
    "    \n",
    "    # check if we should cache the dataset\n",
    "    ds = ds.cache() if cache else ds\n",
    "\n",
    "    # prefetch new batches in the background\n",
    "    ds = ds.prefetch(auto)\n",
    "\n",
    "    return ds\n",
    "\n",
    "\n",
    "# load a simpler non-windowed version of training set\n",
    "# to adapt the normalization layer - see comments in\n",
    "# get_dataset() for explanations\n",
    "def get_norm_dataset(folds):\n",
    "    col_file = os.path.join(os.pardir, \"input\",\n",
    "                            \"jane-street-market-prediction-data\",\n",
    "                            \"columns.json\")\n",
    "\n",
    "    with open(col_file) as file:\n",
    "        cols = json.loads(file.read())\n",
    "\n",
    "    def parse(serialized):\n",
    "        tensor = tf.io.parse_tensor(serialized, tf.float32)\n",
    "        X = tensor[cols[\"feature_0\"]:(cols[\"feature_129\"] + 1)]\n",
    "        return tf.reshape(X, [130])\n",
    "\n",
    "    auto = tf.data.experimental.AUTOTUNE\n",
    "    ignore_order = tf.data.Options()\n",
    "    ignore_order.experimental_deterministic = False\n",
    "\n",
    "    data_path = KaggleDatasets().get_gcs_path()\n",
    "    patterns = [data_path + f\"/fold{fold}\" + \"/*.tfrec\" for fold in folds]\n",
    "    ds = tf.data.TFRecordDataset(tf.io.gfile.glob(patterns), num_parallel_reads=auto)\n",
    "    \n",
    "    ds = ds.with_options(ignore_order)\n",
    "    ds = ds.map(parse, num_parallel_calls=auto)\n",
    "    ds = ds.batch(BATCH_SIZE)\n",
    "    ds = ds.prefetch(auto)\n",
    "    \n",
    "    return ds"
   ]
  },
  {
   "cell_type": "markdown",
   "metadata": {
    "papermill": {
     "duration": 0.011703,
     "end_time": "2020-12-17T16:32:34.511822",
     "exception": false,
     "start_time": "2020-12-17T16:32:34.500119",
     "status": "completed"
    },
    "tags": []
   },
   "source": [
    "Define the model."
   ]
  },
  {
   "cell_type": "code",
   "execution_count": 4,
   "metadata": {
    "execution": {
     "iopub.execute_input": "2020-12-17T16:32:34.561812Z",
     "iopub.status.busy": "2020-12-17T16:32:34.552519Z",
     "iopub.status.idle": "2020-12-17T16:33:15.717296Z",
     "shell.execute_reply": "2020-12-17T16:33:15.718219Z"
    },
    "papermill": {
     "duration": 41.194168,
     "end_time": "2020-12-17T16:33:15.718454",
     "exception": false,
     "start_time": "2020-12-17T16:32:34.524286",
     "status": "completed"
    },
    "tags": []
   },
   "outputs": [
    {
     "name": "stdout",
     "output_type": "stream",
     "text": [
      "Model: \"model\"\n",
      "__________________________________________________________________________________________________\n",
      "Layer (type)                    Output Shape         Param #     Connected to                     \n",
      "==================================================================================================\n",
      "input_1 (InputLayer)            [(None, 40, 130)]    0                                            \n",
      "__________________________________________________________________________________________________\n",
      "normalization (Normalization)   (None, 40, 130)      261         input_1[0][0]                    \n",
      "__________________________________________________________________________________________________\n",
      "gaussian_noise (GaussianNoise)  (None, 40, 130)      0           normalization[0][0]              \n",
      "__________________________________________________________________________________________________\n",
      "batch_normalization (BatchNorma (None, 40, 130)      520         gaussian_noise[0][0]             \n",
      "__________________________________________________________________________________________________\n",
      "conv1d_1 (Conv1D)               (None, 40, 256)      100096      batch_normalization[0][0]        \n",
      "__________________________________________________________________________________________________\n",
      "batch_normalization_1 (BatchNor (None, 40, 256)      1024        conv1d_1[0][0]                   \n",
      "__________________________________________________________________________________________________\n",
      "activation (Activation)         (None, 40, 256)      0           batch_normalization_1[0][0]      \n",
      "__________________________________________________________________________________________________\n",
      "spatial_dropout1d (SpatialDropo (None, 40, 256)      0           activation[0][0]                 \n",
      "__________________________________________________________________________________________________\n",
      "conv1d (Conv1D)                 (None, 40, 256)      33536       batch_normalization[0][0]        \n",
      "__________________________________________________________________________________________________\n",
      "conv1d_2 (Conv1D)               (None, 40, 256)      196864      spatial_dropout1d[0][0]          \n",
      "__________________________________________________________________________________________________\n",
      "add (Add)                       (None, 40, 256)      0           conv1d[0][0]                     \n",
      "                                                                 conv1d_2[0][0]                   \n",
      "__________________________________________________________________________________________________\n",
      "batch_normalization_2 (BatchNor (None, 40, 256)      1024        add[0][0]                        \n",
      "__________________________________________________________________________________________________\n",
      "activation_1 (Activation)       (None, 40, 256)      0           batch_normalization_2[0][0]      \n",
      "__________________________________________________________________________________________________\n",
      "spatial_dropout1d_1 (SpatialDro (None, 40, 256)      0           activation_1[0][0]               \n",
      "__________________________________________________________________________________________________\n",
      "conv1d_3 (Conv1D)               (None, 40, 256)      196864      spatial_dropout1d_1[0][0]        \n",
      "__________________________________________________________________________________________________\n",
      "batch_normalization_3 (BatchNor (None, 40, 256)      1024        conv1d_3[0][0]                   \n",
      "__________________________________________________________________________________________________\n",
      "activation_2 (Activation)       (None, 40, 256)      0           batch_normalization_3[0][0]      \n",
      "__________________________________________________________________________________________________\n",
      "spatial_dropout1d_2 (SpatialDro (None, 40, 256)      0           activation_2[0][0]               \n",
      "__________________________________________________________________________________________________\n",
      "conv1d_4 (Conv1D)               (None, 40, 256)      196864      spatial_dropout1d_2[0][0]        \n",
      "__________________________________________________________________________________________________\n",
      "add_1 (Add)                     (None, 40, 256)      0           spatial_dropout1d_1[0][0]        \n",
      "                                                                 conv1d_4[0][0]                   \n",
      "__________________________________________________________________________________________________\n",
      "batch_normalization_4 (BatchNor (None, 40, 256)      1024        add_1[0][0]                      \n",
      "__________________________________________________________________________________________________\n",
      "activation_3 (Activation)       (None, 40, 256)      0           batch_normalization_4[0][0]      \n",
      "__________________________________________________________________________________________________\n",
      "spatial_dropout1d_3 (SpatialDro (None, 40, 256)      0           activation_3[0][0]               \n",
      "__________________________________________________________________________________________________\n",
      "conv1d_5 (Conv1D)               (None, 40, 256)      196864      spatial_dropout1d_3[0][0]        \n",
      "__________________________________________________________________________________________________\n",
      "batch_normalization_5 (BatchNor (None, 40, 256)      1024        conv1d_5[0][0]                   \n",
      "__________________________________________________________________________________________________\n",
      "activation_4 (Activation)       (None, 40, 256)      0           batch_normalization_5[0][0]      \n",
      "__________________________________________________________________________________________________\n",
      "spatial_dropout1d_4 (SpatialDro (None, 40, 256)      0           activation_4[0][0]               \n",
      "__________________________________________________________________________________________________\n",
      "conv1d_6 (Conv1D)               (None, 40, 256)      196864      spatial_dropout1d_4[0][0]        \n",
      "__________________________________________________________________________________________________\n",
      "add_2 (Add)                     (None, 40, 256)      0           spatial_dropout1d_3[0][0]        \n",
      "                                                                 conv1d_6[0][0]                   \n",
      "__________________________________________________________________________________________________\n",
      "batch_normalization_6 (BatchNor (None, 40, 256)      1024        add_2[0][0]                      \n",
      "__________________________________________________________________________________________________\n",
      "activation_5 (Activation)       (None, 40, 256)      0           batch_normalization_6[0][0]      \n",
      "__________________________________________________________________________________________________\n",
      "spatial_dropout1d_5 (SpatialDro (None, 40, 256)      0           activation_5[0][0]               \n",
      "__________________________________________________________________________________________________\n",
      "conv1d_7 (Conv1D)               (None, 40, 256)      196864      spatial_dropout1d_5[0][0]        \n",
      "__________________________________________________________________________________________________\n",
      "batch_normalization_7 (BatchNor (None, 40, 256)      1024        conv1d_7[0][0]                   \n",
      "__________________________________________________________________________________________________\n",
      "activation_6 (Activation)       (None, 40, 256)      0           batch_normalization_7[0][0]      \n",
      "__________________________________________________________________________________________________\n",
      "spatial_dropout1d_6 (SpatialDro (None, 40, 256)      0           activation_6[0][0]               \n",
      "__________________________________________________________________________________________________\n",
      "conv1d_8 (Conv1D)               (None, 40, 256)      196864      spatial_dropout1d_6[0][0]        \n",
      "__________________________________________________________________________________________________\n",
      "add_3 (Add)                     (None, 40, 256)      0           spatial_dropout1d_5[0][0]        \n",
      "                                                                 conv1d_8[0][0]                   \n",
      "__________________________________________________________________________________________________\n",
      "batch_normalization_8 (BatchNor (None, 40, 256)      1024        add_3[0][0]                      \n",
      "__________________________________________________________________________________________________\n",
      "activation_7 (Activation)       (None, 40, 256)      0           batch_normalization_8[0][0]      \n",
      "__________________________________________________________________________________________________\n",
      "spatial_dropout1d_7 (SpatialDro (None, 40, 256)      0           activation_7[0][0]               \n",
      "__________________________________________________________________________________________________\n",
      "conv1d_9 (Conv1D)               (None, 40, 256)      196864      spatial_dropout1d_7[0][0]        \n",
      "__________________________________________________________________________________________________\n",
      "batch_normalization_9 (BatchNor (None, 40, 256)      1024        conv1d_9[0][0]                   \n",
      "__________________________________________________________________________________________________\n",
      "activation_8 (Activation)       (None, 40, 256)      0           batch_normalization_9[0][0]      \n",
      "__________________________________________________________________________________________________\n",
      "spatial_dropout1d_8 (SpatialDro (None, 40, 256)      0           activation_8[0][0]               \n",
      "__________________________________________________________________________________________________\n",
      "conv1d_10 (Conv1D)              (None, 40, 256)      196864      spatial_dropout1d_8[0][0]        \n",
      "__________________________________________________________________________________________________\n",
      "add_4 (Add)                     (None, 40, 256)      0           spatial_dropout1d_7[0][0]        \n",
      "                                                                 conv1d_10[0][0]                  \n",
      "__________________________________________________________________________________________________\n",
      "batch_normalization_10 (BatchNo (None, 40, 256)      1024        add_4[0][0]                      \n",
      "__________________________________________________________________________________________________\n",
      "activation_9 (Activation)       (None, 40, 256)      0           batch_normalization_10[0][0]     \n",
      "__________________________________________________________________________________________________\n",
      "spatial_dropout1d_9 (SpatialDro (None, 40, 256)      0           activation_9[0][0]               \n",
      "__________________________________________________________________________________________________\n",
      "conv1d_11 (Conv1D)              (None, 40, 256)      196864      spatial_dropout1d_9[0][0]        \n",
      "__________________________________________________________________________________________________\n",
      "batch_normalization_11 (BatchNo (None, 40, 256)      1024        conv1d_11[0][0]                  \n",
      "__________________________________________________________________________________________________\n",
      "activation_10 (Activation)      (None, 40, 256)      0           batch_normalization_11[0][0]     \n",
      "__________________________________________________________________________________________________\n",
      "spatial_dropout1d_10 (SpatialDr (None, 40, 256)      0           activation_10[0][0]              \n",
      "__________________________________________________________________________________________________\n",
      "conv1d_12 (Conv1D)              (None, 40, 256)      196864      spatial_dropout1d_10[0][0]       \n",
      "__________________________________________________________________________________________________\n",
      "add_5 (Add)                     (None, 40, 256)      0           spatial_dropout1d_9[0][0]        \n",
      "                                                                 conv1d_12[0][0]                  \n",
      "__________________________________________________________________________________________________\n",
      "batch_normalization_12 (BatchNo (None, 40, 256)      1024        add_5[0][0]                      \n",
      "__________________________________________________________________________________________________\n",
      "activation_11 (Activation)      (None, 40, 256)      0           batch_normalization_12[0][0]     \n",
      "__________________________________________________________________________________________________\n",
      "spatial_dropout1d_11 (SpatialDr (None, 40, 256)      0           activation_11[0][0]              \n",
      "__________________________________________________________________________________________________\n",
      "conv1d_13 (Conv1D)              (None, 40, 256)      196864      spatial_dropout1d_11[0][0]       \n",
      "__________________________________________________________________________________________________\n",
      "batch_normalization_13 (BatchNo (None, 40, 256)      1024        conv1d_13[0][0]                  \n",
      "__________________________________________________________________________________________________\n",
      "activation_12 (Activation)      (None, 40, 256)      0           batch_normalization_13[0][0]     \n",
      "__________________________________________________________________________________________________\n",
      "spatial_dropout1d_12 (SpatialDr (None, 40, 256)      0           activation_12[0][0]              \n",
      "__________________________________________________________________________________________________\n",
      "conv1d_14 (Conv1D)              (None, 40, 256)      196864      spatial_dropout1d_12[0][0]       \n",
      "__________________________________________________________________________________________________\n",
      "add_6 (Add)                     (None, 40, 256)      0           spatial_dropout1d_11[0][0]       \n",
      "                                                                 conv1d_14[0][0]                  \n",
      "__________________________________________________________________________________________________\n",
      "batch_normalization_14 (BatchNo (None, 40, 256)      1024        add_6[0][0]                      \n",
      "__________________________________________________________________________________________________\n",
      "activation_13 (Activation)      (None, 40, 256)      0           batch_normalization_14[0][0]     \n",
      "__________________________________________________________________________________________________\n",
      "spatial_dropout1d_13 (SpatialDr (None, 40, 256)      0           activation_13[0][0]              \n",
      "__________________________________________________________________________________________________\n",
      "conv1d_15 (Conv1D)              (None, 40, 256)      196864      spatial_dropout1d_13[0][0]       \n",
      "__________________________________________________________________________________________________\n",
      "batch_normalization_15 (BatchNo (None, 40, 256)      1024        conv1d_15[0][0]                  \n",
      "__________________________________________________________________________________________________\n",
      "activation_14 (Activation)      (None, 40, 256)      0           batch_normalization_15[0][0]     \n",
      "__________________________________________________________________________________________________\n",
      "spatial_dropout1d_14 (SpatialDr (None, 40, 256)      0           activation_14[0][0]              \n",
      "__________________________________________________________________________________________________\n",
      "conv1d_16 (Conv1D)              (None, 40, 256)      196864      spatial_dropout1d_14[0][0]       \n",
      "__________________________________________________________________________________________________\n",
      "add_7 (Add)                     (None, 40, 256)      0           spatial_dropout1d_13[0][0]       \n",
      "                                                                 conv1d_16[0][0]                  \n",
      "__________________________________________________________________________________________________\n",
      "batch_normalization_16 (BatchNo (None, 40, 256)      1024        add_7[0][0]                      \n",
      "__________________________________________________________________________________________________\n",
      "activation_15 (Activation)      (None, 40, 256)      0           batch_normalization_16[0][0]     \n",
      "__________________________________________________________________________________________________\n",
      "spatial_dropout1d_15 (SpatialDr (None, 40, 256)      0           activation_15[0][0]              \n",
      "__________________________________________________________________________________________________\n",
      "flatten (Flatten)               (None, 10240)        0           spatial_dropout1d_15[0][0]       \n",
      "__________________________________________________________________________________________________\n",
      "dense (Dense)                   (None, 1)            10241       flatten[0][0]                    \n",
      "__________________________________________________________________________________________________\n",
      "activation_16 (Activation)      (None, 1)            0           dense[0][0]                      \n",
      "==================================================================================================\n",
      "Total params: 3,113,998\n",
      "Trainable params: 3,105,285\n",
      "Non-trainable params: 8,713\n",
      "__________________________________________________________________________________________________\n"
     ]
    }
   ],
   "source": [
    "train_folds = [fold for fold in range(FOLDS) if fold != HOLDOUT]\n",
    "\n",
    "# compile model on the TPU\n",
    "with tpu_strategy.scope():\n",
    "    # binary cross-entropy as loss function, SGD as optimizer,\n",
    "    # track precision at recall and area under the ROC curve\n",
    "    loss = BinaryCrossentropy(label_smoothing=LABEL_SMOOTHING)\n",
    "    optimizer = SGD(learning_rate=LEARNING_RATE, momentum=0.9, nesterov=True)\n",
    "    metrics = [PrecisionAtRecall(recall=MIN_RECALL, name=\"p@r\"), AUC(name=\"auc\")]\n",
    "\n",
    "    \n",
    "    # input layer\n",
    "    inputs = layers.Input(shape=[WINDOW_SIZE, 130])\n",
    "    \n",
    "    # normalization layer\n",
    "    norm = layers.experimental.preprocessing.Normalization()\n",
    "    norm_ds = get_norm_dataset(train_folds)\n",
    "    norm.adapt(norm_ds)\n",
    "    flow = norm(inputs)\n",
    "    \n",
    "    # gaussian noise\n",
    "    flow = layers.GaussianNoise(stddev=NOISE)(flow)\n",
    "    flow = layers.BatchNormalization()(flow)\n",
    "    \n",
    "    # resnet\n",
    "    last_filters = 130\n",
    "    for filters, pool in zip(8 * [256], 8 * [False]):\n",
    "        # skip connection\n",
    "        skip = flow\n",
    "        \n",
    "        # make sure the skip connection has correct number of feature maps\n",
    "        if filters != last_filters:\n",
    "            skip = layers.Conv1D(filters=filters,\n",
    "                                 kernel_size=1,\n",
    "                                 activation=None,\n",
    "                                 padding=\"same\",\n",
    "                                 data_format=\"channels_last\")(skip)\n",
    "\n",
    "        # convolutional block\n",
    "        flow = layers.Conv1D(filters=filters,\n",
    "                             kernel_size=3,\n",
    "                             activation=None,\n",
    "                             padding=\"same\",\n",
    "                             data_format=\"channels_last\")(flow)\n",
    "        flow = layers.BatchNormalization()(flow)\n",
    "        flow = layers.Activation(keras.activations.swish)(flow)\n",
    "        \n",
    "        # dropout entire feature maps\n",
    "        flow = layers.SpatialDropout1D(rate=0.2)(flow)\n",
    "        \n",
    "        flow = layers.Conv1D(filters=filters,\n",
    "                             kernel_size=3,\n",
    "                             activation=None,\n",
    "                             padding=\"same\",\n",
    "                             data_format=\"channels_last\")(flow)\n",
    "\n",
    "        # merge flow and skip\n",
    "        flow = layers.Add()([skip, flow])\n",
    "        flow = layers.BatchNormalization()(flow)\n",
    "        flow = layers.Activation(keras.activations.swish)(flow)\n",
    "        \n",
    "        # dropout entire feature maps\n",
    "        flow = layers.SpatialDropout1D(rate=0.2)(flow)\n",
    "        \n",
    "        # pooling\n",
    "        if pool:\n",
    "            flow = layers.MaxPooling1D(pool_size=2, data_format=\"channels_last\")(flow)\n",
    "        \n",
    "        last_filters = filters\n",
    "    \n",
    "    # flattened layers and dense logic for prediction\n",
    "    flow = layers.Flatten()(flow)    \n",
    "    flow = layers.Dense(units=1)(flow)\n",
    "    outputs = layers.Activation(\"sigmoid\")(flow)\n",
    "\n",
    "    # compile the model and print a summary\n",
    "    model = keras.Model(inputs=inputs, outputs=outputs)\n",
    "    model.compile(loss=loss, optimizer=optimizer, metrics=metrics)\n",
    "    model.summary()"
   ]
  },
  {
   "cell_type": "markdown",
   "metadata": {
    "papermill": {
     "duration": 0.01306,
     "end_time": "2020-12-17T16:33:15.747100",
     "exception": false,
     "start_time": "2020-12-17T16:33:15.734040",
     "status": "completed"
    },
    "tags": []
   },
   "source": [
    "Train the model."
   ]
  },
  {
   "cell_type": "code",
   "execution_count": 5,
   "metadata": {
    "execution": {
     "iopub.execute_input": "2020-12-17T16:33:15.783562Z",
     "iopub.status.busy": "2020-12-17T16:33:15.782799Z",
     "iopub.status.idle": "2020-12-17T19:59:11.714917Z",
     "shell.execute_reply": "2020-12-17T19:59:11.715694Z"
    },
    "papermill": {
     "duration": 12355.956171,
     "end_time": "2020-12-17T19:59:11.715941",
     "exception": false,
     "start_time": "2020-12-17T16:33:15.759770",
     "status": "completed"
    },
    "tags": []
   },
   "outputs": [
    {
     "name": "stdout",
     "output_type": "stream",
     "text": [
      "Epoch 1/200\n",
      "7337/7337 [==============================] - 196s 27ms/step - loss: 0.7330 - auc: 0.5033 - p@r: 0.5086 - val_loss: 0.7732 - val_auc: 0.4997 - val_p@r: 0.4968 - lr: 0.0100\n",
      "Epoch 2/200\n",
      "7337/7337 [==============================] - 185s 25ms/step - loss: 0.6944 - auc: 0.5046 - p@r: 0.5090 - val_loss: 0.7363 - val_auc: 0.5001 - val_p@r: 0.4969 - lr: 0.0100\n",
      "Epoch 3/200\n",
      "7337/7337 [==============================] - 186s 25ms/step - loss: 0.6934 - auc: 0.5060 - p@r: 0.5096 - val_loss: 0.6960 - val_auc: 0.5009 - val_p@r: 0.4970 - lr: 0.0100\n",
      "Epoch 4/200\n",
      "7337/7337 [==============================] - 189s 26ms/step - loss: 0.6933 - auc: 0.5070 - p@r: 0.5099 - val_loss: 0.6932 - val_auc: 0.5019 - val_p@r: 0.4980 - lr: 0.0100\n",
      "Epoch 5/200\n",
      "7337/7337 [==============================] - 188s 26ms/step - loss: 0.6931 - auc: 0.5088 - p@r: 0.5123 - val_loss: 0.6932 - val_auc: 0.5023 - val_p@r: 0.5002 - lr: 0.0100\n",
      "Epoch 6/200\n",
      "7337/7337 [==============================] - 188s 26ms/step - loss: 0.6931 - auc: 0.5093 - p@r: 0.5108 - val_loss: 0.6934 - val_auc: 0.5062 - val_p@r: 0.5015 - lr: 0.0100\n",
      "Epoch 7/200\n",
      "7337/7337 [==============================] - 188s 26ms/step - loss: 0.6930 - auc: 0.5117 - p@r: 0.5150 - val_loss: 0.6934 - val_auc: 0.5056 - val_p@r: 0.4987 - lr: 0.0100\n",
      "Epoch 8/200\n",
      "7337/7337 [==============================] - 190s 26ms/step - loss: 0.6928 - auc: 0.5141 - p@r: 0.5136 - val_loss: 0.6931 - val_auc: 0.5088 - val_p@r: 0.4999 - lr: 0.0100\n",
      "Epoch 9/200\n",
      "7337/7337 [==============================] - 191s 26ms/step - loss: 0.6926 - auc: 0.5170 - p@r: 0.5158 - val_loss: 0.6932 - val_auc: 0.5108 - val_p@r: 0.5026 - lr: 0.0100\n",
      "Epoch 10/200\n",
      "7337/7337 [==============================] - 189s 26ms/step - loss: 0.6925 - auc: 0.5196 - p@r: 0.5173 - val_loss: 0.6933 - val_auc: 0.5110 - val_p@r: 0.5000 - lr: 0.0100\n",
      "Epoch 11/200\n",
      "7337/7337 [==============================] - 191s 26ms/step - loss: 0.6922 - auc: 0.5226 - p@r: 0.5192 - val_loss: 0.6929 - val_auc: 0.5116 - val_p@r: 0.5090 - lr: 0.0100\n",
      "Epoch 12/200\n",
      "7337/7337 [==============================] - 190s 26ms/step - loss: 0.6920 - auc: 0.5251 - p@r: 0.5215 - val_loss: 0.6931 - val_auc: 0.5140 - val_p@r: 0.5051 - lr: 0.0100\n",
      "Epoch 13/200\n",
      "7337/7337 [==============================] - 192s 26ms/step - loss: 0.6918 - auc: 0.5276 - p@r: 0.5230 - val_loss: 0.6927 - val_auc: 0.5155 - val_p@r: 0.5029 - lr: 0.0100\n",
      "Epoch 14/200\n",
      "7337/7337 [==============================] - 190s 26ms/step - loss: 0.6915 - auc: 0.5294 - p@r: 0.5238 - val_loss: 0.6927 - val_auc: 0.5156 - val_p@r: 0.5069 - lr: 0.0100\n",
      "Epoch 15/200\n",
      "7337/7337 [==============================] - 190s 26ms/step - loss: 0.6914 - auc: 0.5306 - p@r: 0.5250 - val_loss: 0.6926 - val_auc: 0.5169 - val_p@r: 0.5076 - lr: 0.0050\n",
      "Epoch 16/200\n",
      "7337/7337 [==============================] - 189s 26ms/step - loss: 0.6913 - auc: 0.5316 - p@r: 0.5258 - val_loss: 0.6925 - val_auc: 0.5174 - val_p@r: 0.5060 - lr: 0.0050\n",
      "Epoch 17/200\n",
      "7337/7337 [==============================] - 189s 26ms/step - loss: 0.6912 - auc: 0.5323 - p@r: 0.5261 - val_loss: 0.6926 - val_auc: 0.5180 - val_p@r: 0.5062 - lr: 0.0050\n",
      "Epoch 18/200\n",
      "7337/7337 [==============================] - 189s 26ms/step - loss: 0.6911 - auc: 0.5336 - p@r: 0.5271 - val_loss: 0.6926 - val_auc: 0.5198 - val_p@r: 0.5044 - lr: 0.0050\n",
      "Epoch 19/200\n",
      "7337/7337 [==============================] - 187s 26ms/step - loss: 0.6910 - auc: 0.5335 - p@r: 0.5269 - val_loss: 0.6924 - val_auc: 0.5201 - val_p@r: 0.5177 - lr: 0.0050\n",
      "Epoch 20/200\n",
      "7337/7337 [==============================] - 191s 26ms/step - loss: 0.6909 - auc: 0.5342 - p@r: 0.5275 - val_loss: 0.6923 - val_auc: 0.5205 - val_p@r: 0.5112 - lr: 0.0050\n",
      "Epoch 21/200\n",
      "7337/7337 [==============================] - 190s 26ms/step - loss: 0.6909 - auc: 0.5344 - p@r: 0.5275 - val_loss: 0.6923 - val_auc: 0.5200 - val_p@r: 0.5047 - lr: 0.0050\n",
      "Epoch 22/200\n",
      "7337/7337 [==============================] - 190s 26ms/step - loss: 0.6909 - auc: 0.5347 - p@r: 0.5273 - val_loss: 0.6924 - val_auc: 0.5197 - val_p@r: 0.5160 - lr: 0.0050\n",
      "Epoch 23/200\n",
      "7337/7337 [==============================] - 188s 26ms/step - loss: 0.6908 - auc: 0.5355 - p@r: 0.5280 - val_loss: 0.6924 - val_auc: 0.5207 - val_p@r: 0.5163 - lr: 0.0050\n",
      "Epoch 24/200\n",
      "7337/7337 [==============================] - 188s 26ms/step - loss: 0.6907 - auc: 0.5358 - p@r: 0.5283 - val_loss: 0.6924 - val_auc: 0.5195 - val_p@r: 0.5055 - lr: 0.0050\n",
      "Epoch 25/200\n",
      "7337/7337 [==============================] - 188s 26ms/step - loss: 0.6907 - auc: 0.5361 - p@r: 0.5289 - val_loss: 0.6925 - val_auc: 0.5203 - val_p@r: 0.5128 - lr: 0.0025\n",
      "Epoch 26/200\n",
      "7337/7337 [==============================] - 185s 25ms/step - loss: 0.6906 - auc: 0.5363 - p@r: 0.5287 - val_loss: 0.6925 - val_auc: 0.5198 - val_p@r: 0.5074 - lr: 0.0025\n",
      "Epoch 27/200\n",
      "7337/7337 [==============================] - 187s 25ms/step - loss: 0.6906 - auc: 0.5370 - p@r: 0.5294 - val_loss: 0.6924 - val_auc: 0.5202 - val_p@r: 0.5156 - lr: 0.0025\n",
      "Epoch 28/200\n",
      "7337/7337 [==============================] - 188s 26ms/step - loss: 0.6905 - auc: 0.5367 - p@r: 0.5292 - val_loss: 0.6923 - val_auc: 0.5214 - val_p@r: 0.5065 - lr: 0.0025\n",
      "Epoch 29/200\n",
      "7337/7337 [==============================] - 187s 25ms/step - loss: 0.6905 - auc: 0.5376 - p@r: 0.5301 - val_loss: 0.6923 - val_auc: 0.5212 - val_p@r: 0.5111 - lr: 0.0025\n",
      "Epoch 30/200\n",
      "7337/7337 [==============================] - 187s 25ms/step - loss: 0.6905 - auc: 0.5374 - p@r: 0.5296 - val_loss: 0.6924 - val_auc: 0.5207 - val_p@r: 0.5063 - lr: 0.0025\n",
      "Epoch 31/200\n",
      "7337/7337 [==============================] - 185s 25ms/step - loss: 0.6905 - auc: 0.5370 - p@r: 0.5296 - val_loss: 0.6923 - val_auc: 0.5211 - val_p@r: 0.5115 - lr: 0.0025\n",
      "Epoch 32/200\n",
      "7337/7337 [==============================] - 186s 25ms/step - loss: 0.6903 - auc: 0.5382 - p@r: 0.5302 - val_loss: 0.6923 - val_auc: 0.5206 - val_p@r: 0.5103 - lr: 0.0025\n",
      "Epoch 33/200\n",
      "7337/7337 [==============================] - 188s 26ms/step - loss: 0.6904 - auc: 0.5383 - p@r: 0.5305 - val_loss: 0.6924 - val_auc: 0.5206 - val_p@r: 0.5070 - lr: 0.0025\n",
      "Epoch 34/200\n",
      "7337/7337 [==============================] - 186s 25ms/step - loss: 0.6903 - auc: 0.5382 - p@r: 0.5308 - val_loss: 0.6925 - val_auc: 0.5206 - val_p@r: 0.5124 - lr: 0.0025\n",
      "Epoch 35/200\n",
      "7337/7337 [==============================] - 186s 25ms/step - loss: 0.6904 - auc: 0.5382 - p@r: 0.5303 - val_loss: 0.6924 - val_auc: 0.5211 - val_p@r: 0.5140 - lr: 0.0012\n",
      "Epoch 36/200\n",
      "7337/7337 [==============================] - 185s 25ms/step - loss: 0.6903 - auc: 0.5382 - p@r: 0.5306 - val_loss: 0.6924 - val_auc: 0.5218 - val_p@r: 0.5160 - lr: 0.0012\n",
      "Epoch 37/200\n",
      "7337/7337 [==============================] - 186s 25ms/step - loss: 0.6903 - auc: 0.5382 - p@r: 0.5304 - val_loss: 0.6924 - val_auc: 0.5217 - val_p@r: 0.5100 - lr: 0.0012\n",
      "Epoch 38/200\n",
      "7337/7337 [==============================] - 186s 25ms/step - loss: 0.6903 - auc: 0.5384 - p@r: 0.5308 - val_loss: 0.6924 - val_auc: 0.5222 - val_p@r: 0.5164 - lr: 0.0012\n",
      "Epoch 39/200\n",
      "7337/7337 [==============================] - 185s 25ms/step - loss: 0.6903 - auc: 0.5383 - p@r: 0.5303 - val_loss: 0.6924 - val_auc: 0.5214 - val_p@r: 0.5089 - lr: 0.0012\n",
      "Epoch 40/200\n",
      "7337/7337 [==============================] - 186s 25ms/step - loss: 0.6902 - auc: 0.5388 - p@r: 0.5310 - val_loss: 0.6925 - val_auc: 0.5221 - val_p@r: 0.5120 - lr: 0.0012\n",
      "Epoch 41/200\n",
      "7337/7337 [==============================] - 186s 25ms/step - loss: 0.6902 - auc: 0.5392 - p@r: 0.5313 - val_loss: 0.6925 - val_auc: 0.5218 - val_p@r: 0.5102 - lr: 0.0012\n",
      "Epoch 42/200\n",
      "7337/7337 [==============================] - 185s 25ms/step - loss: 0.6902 - auc: 0.5387 - p@r: 0.5309 - val_loss: 0.6925 - val_auc: 0.5214 - val_p@r: 0.5100 - lr: 0.0012\n",
      "Epoch 43/200\n",
      "7337/7337 [==============================] - 186s 25ms/step - loss: 0.6902 - auc: 0.5392 - p@r: 0.5313 - val_loss: 0.6925 - val_auc: 0.5218 - val_p@r: 0.5074 - lr: 0.0012\n",
      "Epoch 44/200\n",
      "7337/7337 [==============================] - 186s 25ms/step - loss: 0.6902 - auc: 0.5392 - p@r: 0.5310 - val_loss: 0.6925 - val_auc: 0.5219 - val_p@r: 0.5080 - lr: 0.0012\n",
      "Epoch 45/200\n",
      "7337/7337 [==============================] - 184s 25ms/step - loss: 0.6901 - auc: 0.5396 - p@r: 0.5316 - val_loss: 0.6924 - val_auc: 0.5224 - val_p@r: 0.5149 - lr: 0.0010\n",
      "Epoch 46/200\n",
      "7337/7337 [==============================] - 187s 26ms/step - loss: 0.6901 - auc: 0.5395 - p@r: 0.5318 - val_loss: 0.6923 - val_auc: 0.5228 - val_p@r: 0.5078 - lr: 0.0010\n",
      "Epoch 47/200\n",
      "7337/7337 [==============================] - 186s 25ms/step - loss: 0.6900 - auc: 0.5400 - p@r: 0.5318 - val_loss: 0.6924 - val_auc: 0.5218 - val_p@r: 0.5082 - lr: 0.0010\n",
      "Epoch 48/200\n",
      "7337/7337 [==============================] - 186s 25ms/step - loss: 0.6901 - auc: 0.5394 - p@r: 0.5313 - val_loss: 0.6924 - val_auc: 0.5214 - val_p@r: 0.5095 - lr: 0.0010\n",
      "Epoch 49/200\n",
      "7337/7337 [==============================] - 186s 25ms/step - loss: 0.6900 - auc: 0.5398 - p@r: 0.5317 - val_loss: 0.6924 - val_auc: 0.5213 - val_p@r: 0.5115 - lr: 0.0010\n",
      "Epoch 50/200\n",
      "7337/7337 [==============================] - 186s 25ms/step - loss: 0.6900 - auc: 0.5398 - p@r: 0.5312 - val_loss: 0.6924 - val_auc: 0.5208 - val_p@r: 0.5090 - lr: 0.0010\n",
      "Epoch 51/200\n",
      "7337/7337 [==============================] - 185s 25ms/step - loss: 0.6900 - auc: 0.5404 - p@r: 0.5321 - val_loss: 0.6924 - val_auc: 0.5212 - val_p@r: 0.5146 - lr: 0.0010\n",
      "Epoch 52/200\n",
      "7337/7337 [==============================] - 181s 25ms/step - loss: 0.6900 - auc: 0.5396 - p@r: 0.5312 - val_loss: 0.6924 - val_auc: 0.5210 - val_p@r: 0.5067 - lr: 0.0010\n",
      "Epoch 53/200\n",
      "7337/7337 [==============================] - 177s 24ms/step - loss: 0.6900 - auc: 0.5402 - p@r: 0.5316 - val_loss: 0.6924 - val_auc: 0.5213 - val_p@r: 0.5132 - lr: 0.0010\n",
      "Epoch 54/200\n",
      "7337/7337 [==============================] - 172s 23ms/step - loss: 0.6901 - auc: 0.5395 - p@r: 0.5313 - val_loss: 0.6924 - val_auc: 0.5218 - val_p@r: 0.5072 - lr: 0.0010\n",
      "Epoch 55/200\n",
      "7337/7337 [==============================] - 179s 24ms/step - loss: 0.6899 - auc: 0.5403 - p@r: 0.5320 - val_loss: 0.6925 - val_auc: 0.5221 - val_p@r: 0.5145 - lr: 0.0010\n",
      "Epoch 56/200\n",
      "7337/7337 [==============================] - 179s 24ms/step - loss: 0.6900 - auc: 0.5404 - p@r: 0.5324 - val_loss: 0.6924 - val_auc: 0.5230 - val_p@r: 0.5128 - lr: 0.0010\n",
      "Epoch 57/200\n",
      "7337/7337 [==============================] - 180s 25ms/step - loss: 0.6899 - auc: 0.5406 - p@r: 0.5322 - val_loss: 0.6923 - val_auc: 0.5233 - val_p@r: 0.5166 - lr: 0.0010\n",
      "Epoch 58/200\n",
      "7337/7337 [==============================] - 181s 25ms/step - loss: 0.6899 - auc: 0.5409 - p@r: 0.5328 - val_loss: 0.6924 - val_auc: 0.5234 - val_p@r: 0.5132 - lr: 0.0010\n",
      "Epoch 59/200\n",
      "7337/7337 [==============================] - 180s 24ms/step - loss: 0.6899 - auc: 0.5404 - p@r: 0.5321 - val_loss: 0.6924 - val_auc: 0.5228 - val_p@r: 0.5089 - lr: 0.0010\n",
      "Epoch 60/200\n",
      "7337/7337 [==============================] - 183s 25ms/step - loss: 0.6899 - auc: 0.5407 - p@r: 0.5326 - val_loss: 0.6925 - val_auc: 0.5223 - val_p@r: 0.5098 - lr: 0.0010\n",
      "Epoch 61/200\n",
      "7337/7337 [==============================] - 179s 24ms/step - loss: 0.6899 - auc: 0.5405 - p@r: 0.5321 - val_loss: 0.6923 - val_auc: 0.5224 - val_p@r: 0.5132 - lr: 0.0010\n",
      "Epoch 62/200\n",
      "7337/7337 [==============================] - 183s 25ms/step - loss: 0.6898 - auc: 0.5409 - p@r: 0.5325 - val_loss: 0.6924 - val_auc: 0.5223 - val_p@r: 0.5115 - lr: 0.0010\n",
      "Epoch 63/200\n",
      "7337/7337 [==============================] - 184s 25ms/step - loss: 0.6898 - auc: 0.5417 - p@r: 0.5328 - val_loss: 0.6924 - val_auc: 0.5219 - val_p@r: 0.5101 - lr: 0.0010\n",
      "Epoch 64/200\n",
      "7337/7337 [==============================] - 182s 25ms/step - loss: 0.6899 - auc: 0.5405 - p@r: 0.5321 - val_loss: 0.6924 - val_auc: 0.5222 - val_p@r: 0.5124 - lr: 0.0010\n",
      "Epoch 65/200\n",
      "7337/7337 [==============================] - 183s 25ms/step - loss: 0.6898 - auc: 0.5415 - p@r: 0.5328 - val_loss: 0.6923 - val_auc: 0.5224 - val_p@r: 0.5150 - lr: 0.0010\n",
      "Epoch 66/200\n",
      "7337/7337 [==============================] - 180s 25ms/step - loss: 0.6898 - auc: 0.5414 - p@r: 0.5330 - val_loss: 0.6924 - val_auc: 0.5227 - val_p@r: 0.5126 - lr: 0.0010\n"
     ]
    }
   ],
   "source": [
    "# load stats dictionary to get the number of training samples\n",
    "stats_file = os.path.join(os.pardir, \"input\",\n",
    "                          \"jane-street-market-prediction-data\",\n",
    "                          \"stats.json\")\n",
    "\n",
    "with open(stats_file) as file:\n",
    "    stats = json.loads(file.read())\n",
    "\n",
    "samples = stats[str(HOLDOUT)][\"length\"]\n",
    "\n",
    "\n",
    "# define callbacks for learning rate schedule and early stopping\n",
    "stopping = EarlyStopping(monitor=\"val_auc\",\n",
    "                         mode=\"max\",\n",
    "                         patience=20,\n",
    "                         min_delta=1e-3,\n",
    "                         restore_best_weights=True)\n",
    "\n",
    "rate = ReduceLROnPlateau(monitor=\"val_loss\",\n",
    "                         mode=\"min\",\n",
    "                         factor=0.5,\n",
    "                         patience=10,\n",
    "                         min_lr=1e-3,\n",
    "                         min_delta=1e-3)\n",
    "\n",
    "callbacks = [rate, stopping]\n",
    "\n",
    "\n",
    "# get training and validation datasets and fit the model\n",
    "train_ds = get_dataset(train_folds, repeat=True, shuffle=True)\n",
    "valid_ds = get_dataset([HOLDOUT], cache=True)\n",
    "hist = model.fit(train_ds,\n",
    "                 epochs=EPOCHS,\n",
    "                 steps_per_epoch=samples // BATCH_SIZE,\n",
    "                 validation_data=valid_ds,\n",
    "                 callbacks=callbacks)"
   ]
  },
  {
   "cell_type": "markdown",
   "metadata": {
    "papermill": {
     "duration": 53.810117,
     "end_time": "2020-12-17T20:00:59.208361",
     "exception": false,
     "start_time": "2020-12-17T20:00:05.398244",
     "status": "completed"
    },
    "tags": []
   },
   "source": [
    "Plot the learning curve and associated metrics."
   ]
  },
  {
   "cell_type": "code",
   "execution_count": 6,
   "metadata": {
    "execution": {
     "iopub.execute_input": "2020-12-17T20:02:46.762067Z",
     "iopub.status.busy": "2020-12-17T20:02:46.761156Z",
     "iopub.status.idle": "2020-12-17T20:02:47.618343Z",
     "shell.execute_reply": "2020-12-17T20:02:47.619504Z"
    },
    "papermill": {
     "duration": 54.833934,
     "end_time": "2020-12-17T20:02:47.619717",
     "exception": false,
     "start_time": "2020-12-17T20:01:52.785783",
     "status": "completed"
    },
    "tags": []
   },
   "outputs": [
    {
     "data": {
      "image/png": "[encoded data removed]",
      "text/plain": [
       "<Figure size 576x360 with 1 Axes>"
      ]
     },
     "metadata": {
      "needs_background": "light"
     },
     "output_type": "display_data"
    },
    {
     "data": {
      "image/png": "[encoded data removed]",
      "text/plain": [
       "<Figure size 576x360 with 1 Axes>"
      ]
     },
     "metadata": {
      "needs_background": "light"
     },
     "output_type": "display_data"
    },
    {
     "data": {
      "image/png": "[encoded data removed]",
      "text/plain": [
       "<Figure size 576x360 with 1 Axes>"
      ]
     },
     "metadata": {
      "needs_background": "light"
     },
     "output_type": "display_data"
    }
   ],
   "source": [
    "hist_df = pd.DataFrame(hist.history)\n",
    "\n",
    "# loss\n",
    "plt.figure(figsize=(8, 5))\n",
    "sns.lineplot(data=hist_df[\"loss\"], label=\"Training\")\n",
    "sns.lineplot(data=hist_df[\"val_loss\"], label=\"Validation\")\n",
    "#sns.lineplot(data=hist_df[\"lr\"], label=\"Learning rate\")\n",
    "plt.title(\"Loss\")\n",
    "plt.grid(True)\n",
    "plt.xlabel(\"Epoch\")\n",
    "plt.ylabel(\"\")\n",
    "plt.show()\n",
    "\n",
    "# precision at recall\n",
    "plt.figure(figsize=(8, 5))\n",
    "sns.lineplot(data=hist_df[\"p@r\"], label=\"Training\")\n",
    "sns.lineplot(data=hist_df[\"val_p@r\"], label=\"Validation\")\n",
    "plt.title(f\"Precision at {int(100 * MIN_RECALL)}% recall\")\n",
    "plt.grid(True)\n",
    "plt.xlabel(\"Epoch\")\n",
    "plt.ylabel(\"\")\n",
    "plt.show()\n",
    "\n",
    "# area under ROC curve\n",
    "plt.figure(figsize=(8, 5))\n",
    "sns.lineplot(data=hist_df[\"auc\"], label=\"Training\")\n",
    "sns.lineplot(data=hist_df[\"val_auc\"], label=\"Validation\")\n",
    "plt.title(\"Area under the ROC curve\")\n",
    "plt.grid(True)\n",
    "plt.xlabel(\"Epoch\")\n",
    "plt.ylabel(\"\")\n",
    "plt.show()"
   ]
  },
  {
   "cell_type": "markdown",
   "metadata": {
    "papermill": {
     "duration": 53.672613,
     "end_time": "2020-12-17T20:04:34.975964",
     "exception": false,
     "start_time": "2020-12-17T20:03:41.303351",
     "status": "completed"
    },
    "tags": []
   },
   "source": [
    "Plot ROC curve and precision vs. recall on validation set."
   ]
  },
  {
   "cell_type": "code",
   "execution_count": 7,
   "metadata": {
    "execution": {
     "iopub.execute_input": "2020-12-17T20:06:22.578192Z",
     "iopub.status.busy": "2020-12-17T20:06:22.571295Z",
     "iopub.status.idle": "2020-12-17T20:07:46.635797Z",
     "shell.execute_reply": "2020-12-17T20:07:46.636441Z"
    },
    "papermill": {
     "duration": 138.126636,
     "end_time": "2020-12-17T20:07:46.636588",
     "exception": false,
     "start_time": "2020-12-17T20:05:28.509952",
     "status": "completed"
    },
    "tags": []
   },
   "outputs": [
    {
     "data": {
      "image/png": "[encoded data removed]",
      "text/plain": [
       "<Figure size 576x360 with 1 Axes>"
      ]
     },
     "metadata": {
      "needs_background": "light"
     },
     "output_type": "display_data"
    },
    {
     "data": {
      "image/png": "[encoded data removed]",
      "text/plain": [
       "<Figure size 576x360 with 1 Axes>"
      ]
     },
     "metadata": {
      "needs_background": "light"
     },
     "output_type": "display_data"
    },
    {
     "data": {
      "image/png": "[encoded data removed]",
      "text/plain": [
       "<Figure size 576x360 with 1 Axes>"
      ]
     },
     "metadata": {
      "needs_background": "light"
     },
     "output_type": "display_data"
    }
   ],
   "source": [
    "# store numpy arrays of labels in validation data\n",
    "# and the probabilities predicted by the model\n",
    "test_ds = get_dataset([HOLDOUT])\n",
    "\n",
    "y_ds = test_ds.map(lambda X, y: y)\n",
    "labels = np.vstack(list(y_ds.as_numpy_iterator()))\n",
    "\n",
    "X_ds = test_ds.map(lambda X, y: X)\n",
    "probs = model.predict(X_ds)\n",
    "\n",
    "# precision vs recall\n",
    "precisions, recalls, thresholds = precision_recall_curve(labels, probs)\n",
    "\n",
    "plt.figure(figsize=(8, 5))\n",
    "plt.plot(thresholds, precisions[:-1], \"tab:blue\", label=\"Precision\")\n",
    "plt.plot(thresholds, recalls[:-1], \"tab:orange\", label=\"Recall\")\n",
    "plt.legend()\n",
    "plt.xlabel(\"Threshold\")\n",
    "plt.title(\"Precision/recall at threshold\")\n",
    "plt.axis([0, 1, 0, 1])\n",
    "plt.grid(True)\n",
    "plt.show()\n",
    "\n",
    "plt.figure(figsize=(8, 5))\n",
    "plt.plot(recalls, precisions, \"tab:blue\")\n",
    "plt.xlabel(\"Recall\")\n",
    "plt.ylabel(\"Precision\")\n",
    "plt.title(\"Precision at recall\")\n",
    "plt.axis([0, 1, 0, 1])\n",
    "plt.grid(True)\n",
    "plt.show()\n",
    "\n",
    "# ROC curve\n",
    "false_positives, true_positives, thresholds = roc_curve(labels, probs)\n",
    "plt.figure(figsize=(8, 5))\n",
    "plt.plot(false_positives, true_positives, \"tab:blue\")\n",
    "plt.plot([0, 1], [0, 1], \"tab:gray\")\n",
    "plt.xlabel(\"False positive rate\")\n",
    "plt.ylabel(\"True positive rate\")\n",
    "plt.title(\"ROC curve\")\n",
    "plt.axis([0, 1, 0, 1])\n",
    "plt.grid(True)\n",
    "plt.show()"
   ]
  },
  {
   "cell_type": "markdown",
   "metadata": {
    "papermill": {
     "duration": 55.49023,
     "end_time": "2020-12-17T20:09:35.434306",
     "exception": false,
     "start_time": "2020-12-17T20:08:39.944076",
     "status": "completed"
    },
    "tags": []
   },
   "source": [
    "Save the model architecture and weights."
   ]
  },
  {
   "cell_type": "code",
   "execution_count": 8,
   "metadata": {
    "execution": {
     "iopub.execute_input": "2020-12-17T20:11:22.462783Z",
     "iopub.status.busy": "2020-12-17T20:11:22.462101Z",
     "iopub.status.idle": "2020-12-17T20:11:22.995711Z",
     "shell.execute_reply": "2020-12-17T20:11:22.996261Z"
    },
    "papermill": {
     "duration": 54.000473,
     "end_time": "2020-12-17T20:11:22.996408",
     "exception": false,
     "start_time": "2020-12-17T20:10:28.995935",
     "status": "completed"
    },
    "tags": []
   },
   "outputs": [],
   "source": [
    "with open(\"model.json\", \"w\") as f:\n",
    "    f.write(model.to_json())\n",
    "\n",
    "model.save_weights(\"model.h5\")"
   ]
  }
 ],
 "metadata": {
  "kernelspec": {
   "display_name": "Python 3",
   "language": "python",
   "name": "python3"
  },
  "language_info": {
   "codemirror_mode": {
    "name": "ipython",
    "version": 3
   },
   "file_extension": ".py",
   "mimetype": "text/x-python",
   "name": "python",
   "nbconvert_exporter": "python",
   "pygments_lexer": "ipython3",
   "version": "3.7.6"
  },
  "papermill": {
   "duration": 13201.715307,
   "end_time": "2020-12-17T20:12:18.231424",
   "environment_variables": {},
   "exception": null,
   "input_path": "__notebook__.ipynb",
   "output_path": "__notebook__.ipynb",
   "parameters": {},
   "start_time": "2020-12-17T16:32:16.516117",
   "version": "2.1.0"
  }
 },
 "nbformat": 4,
 "nbformat_minor": 4
}
