{
 "cells": [
  {
   "cell_type": "markdown",
   "metadata": {
    "papermill": {
     "duration": 0.01454,
     "end_time": "2020-12-12T01:35:45.858214",
     "exception": false,
     "start_time": "2020-12-12T01:35:45.843674",
     "status": "completed"
    },
    "tags": []
   },
   "source": [
    "# Jane Street Market Prediction - TPU Training\n",
    "\n",
    "To run this notebook on kaggle, open the interactive editor and select to `Google Cloud SDK` from the `Addons` dropdown menu. Follow the instructions to link a Google Cloud account. Then select `TPU v3-8` as the accelerator in the `Settings` pane on the right before running the notebook."
   ]
  },
  {
   "cell_type": "markdown",
   "metadata": {
    "papermill": {
     "duration": 0.012503,
     "end_time": "2020-12-12T01:35:45.884464",
     "exception": false,
     "start_time": "2020-12-12T01:35:45.871961",
     "status": "completed"
    },
    "tags": []
   },
   "source": [
    "Run some setup code."
   ]
  },
  {
   "cell_type": "code",
   "execution_count": 1,
   "metadata": {
    "execution": {
     "iopub.execute_input": "2020-12-12T01:35:45.924916Z",
     "iopub.status.busy": "2020-12-12T01:35:45.923983Z",
     "iopub.status.idle": "2020-12-12T01:35:58.131988Z",
     "shell.execute_reply": "2020-12-12T01:35:58.131277Z"
    },
    "papermill": {
     "duration": 12.234531,
     "end_time": "2020-12-12T01:35:58.132158",
     "exception": false,
     "start_time": "2020-12-12T01:35:45.897627",
     "status": "completed"
    },
    "tags": []
   },
   "outputs": [],
   "source": [
    "import json\n",
    "import os\n",
    "\n",
    "import numpy as np\n",
    "import pandas as pd\n",
    "\n",
    "import matplotlib.pyplot as plt\n",
    "import seaborn as sns\n",
    "\n",
    "from sklearn.metrics import precision_recall_curve, roc_curve\n",
    "\n",
    "import tensorflow as tf\n",
    "from tensorflow import keras\n",
    "from tensorflow.keras import layers\n",
    "\n",
    "from tensorflow.keras.callbacks import EarlyStopping, ReduceLROnPlateau\n",
    "from tensorflow.keras.losses import BinaryCrossentropy\n",
    "from tensorflow.keras.metrics import AUC, PrecisionAtRecall\n",
    "from tensorflow.keras.optimizers import SGD\n",
    "\n",
    "from kaggle_datasets import KaggleDatasets\n",
    "from kaggle_secrets import UserSecretsClient\n",
    "\n",
    "# make the x,y labels legible on plots\n",
    "plt.rc(\"axes\", labelsize=16)\n",
    "\n",
    "# set up the TPU\n",
    "tpu = tf.distribute.cluster_resolver.TPUClusterResolver()\n",
    "tf.config.experimental_connect_to_cluster(tpu)\n",
    "tf.tpu.experimental.initialize_tpu_system(tpu)\n",
    "tpu_strategy = tf.distribute.experimental.TPUStrategy(tpu)\n",
    "tpu_replicas = tpu_strategy.num_replicas_in_sync\n",
    "\n",
    "# get dataset credential from the Google Cloud SDK\n",
    "# and  pass credential to tensorflow\n",
    "# this needs to run after TPU intialization\n",
    "user_secrets = UserSecretsClient()\n",
    "user_credential = user_secrets.get_gcloud_credential()\n",
    "user_secrets.set_tensorflow_credential(user_credential)\n",
    "\n",
    "# set tensorflow's random seed\n",
    "tf.random.set_seed(13)"
   ]
  },
  {
   "cell_type": "markdown",
   "metadata": {
    "papermill": {
     "duration": 0.012731,
     "end_time": "2020-12-12T01:35:58.158338",
     "exception": false,
     "start_time": "2020-12-12T01:35:58.145607",
     "status": "completed"
    },
    "tags": []
   },
   "source": [
    "Settings."
   ]
  },
  {
   "cell_type": "code",
   "execution_count": 2,
   "metadata": {
    "execution": {
     "iopub.execute_input": "2020-12-12T01:35:58.194115Z",
     "iopub.status.busy": "2020-12-12T01:35:58.193323Z",
     "iopub.status.idle": "2020-12-12T01:35:58.197343Z",
     "shell.execute_reply": "2020-12-12T01:35:58.196684Z"
    },
    "papermill": {
     "duration": 0.025756,
     "end_time": "2020-12-12T01:35:58.197528",
     "exception": false,
     "start_time": "2020-12-12T01:35:58.171772",
     "status": "completed"
    },
    "tags": []
   },
   "outputs": [],
   "source": [
    "# training parameters\n",
    "EPOCHS = 100\n",
    "BATCH_SIZE = 512 * tpu_replicas\n",
    "LEARNING_RATE = 0.01\n",
    "MIN_RECALL = 0.55\n",
    "LABEL_SMOOTHING = 0\n",
    "\n",
    "# cross-validation parameters\n",
    "FOLDS = 5\n",
    "HOLDOUT = 4\n",
    "\n",
    "# model parameters\n",
    "WINDOW_SIZE = 40\n",
    "NOISE = 0.05\n",
    "\n",
    "# write relevant parameters to params.json for other notebooks\n",
    "params = {\"holdout\": HOLDOUT, \"window_size\": WINDOW_SIZE}\n",
    "with open(os.path.join(os.curdir, \"params.json\"), \"w\") as file:\n",
    "    json.dump(params, file)"
   ]
  },
  {
   "cell_type": "markdown",
   "metadata": {
    "papermill": {
     "duration": 0.012835,
     "end_time": "2020-12-12T01:35:58.223621",
     "exception": false,
     "start_time": "2020-12-12T01:35:58.210786",
     "status": "completed"
    },
    "tags": []
   },
   "source": [
    "`get_dataset()` returns a dataset generated from the folds in the list `folds`."
   ]
  },
  {
   "cell_type": "code",
   "execution_count": 3,
   "metadata": {
    "execution": {
     "iopub.execute_input": "2020-12-12T01:35:58.266452Z",
     "iopub.status.busy": "2020-12-12T01:35:58.260976Z",
     "iopub.status.idle": "2020-12-12T01:35:58.290184Z",
     "shell.execute_reply": "2020-12-12T01:35:58.290798Z"
    },
    "papermill": {
     "duration": 0.052191,
     "end_time": "2020-12-12T01:35:58.290977",
     "exception": false,
     "start_time": "2020-12-12T01:35:58.238786",
     "status": "completed"
    },
    "tags": []
   },
   "outputs": [],
   "source": [
    "def get_dataset(folds, repeat=False, shuffle=False, cache=False):\n",
    "    # load a dictionary mapping feature names to columns\n",
    "    col_file = os.path.join(os.pardir, \"input\",\n",
    "                            \"jane-street-market-prediction-data\",\n",
    "                            \"columns.json\")\n",
    "    with open(col_file) as file:\n",
    "        cols = json.loads(file.read())\n",
    "\n",
    "    # shorthand notation for autotune option\n",
    "    auto = tf.data.experimental.AUTOTUNE\n",
    "\n",
    "    # opens a tf record in filename as a dataset that parses serialized\n",
    "    # tensors and returns sliding windows of WINDOW_SIZE samples\n",
    "    def open_windowed_ds(filename):\n",
    "        ds = tf.data.TFRecordDataset(filename)\n",
    "        ds = ds.map(lambda x: tf.io.parse_tensor(x, tf.float32), num_parallel_calls=auto)\n",
    "        ds = ds.window(WINDOW_SIZE, shift=1, drop_remainder=True)\n",
    "        ds = ds.flat_map(lambda x: x.batch(WINDOW_SIZE))\n",
    "        return ds\n",
    "\n",
    "    # create a dataset with filenames of tf records in files_ds\n",
    "    # then interleave the datasets obtained by calling\n",
    "    # open_windowed_ds(x) on each element of files_ds\n",
    "    data_path = KaggleDatasets().get_gcs_path()\n",
    "    patterns = [data_path + f\"/fold{fold}\" + \"/*.tfrec\" for fold in folds]\n",
    "    files = tf.io.gfile.glob(patterns)\n",
    "    files_ds = tf.data.Dataset.from_tensor_slices(files)\n",
    "    ds = files_ds.interleave(open_windowed_ds, num_parallel_calls=auto)\n",
    "\n",
    "    # filter out any time series spanning multiple dates\n",
    "    def single_date(series):\n",
    "        dates, ix = tf.unique(series[:, cols[\"date\"]])\n",
    "        return tf.equal(tf.size(dates), tf.constant(1))\n",
    "\n",
    "    ds = ds.filter(single_date)\n",
    "\n",
    "    # separate the series into a training sample consisting\n",
    "    # of the features and a label indicating whether the\n",
    "    # response at final time is positive\n",
    "    # need to explicitly reshape the tensors here for things\n",
    "    # to work properly on TPU\n",
    "    def collate(series):\n",
    "        resp = tf.concat([series[:-1, cols[\"resp\"]] , tf.constant(0.0)], 1)\n",
    "        X = series[:, cols[\"feature_0\"]:(cols[\"feature_129\"] + 1)]\n",
    "        X = tf.concat([X, resp], 1)\n",
    "        y = (1.0 + tf.sign(series[-1, cols[\"resp\"]])) / 2.0\n",
    "        return tf.reshape(X, [WINDOW_SIZE, 131]), tf.reshape(y, [1])\n",
    "\n",
    "    ds = ds.map(collate, num_parallel_calls=auto)\n",
    "\n",
    "    # if shuffling, allow the dataset to ignore the order for speed\n",
    "    ignore_order = tf.data.Options()\n",
    "    ignore_order.experimental_deterministic = not shuffle\n",
    "    ds = ds.with_options(ignore_order)\n",
    "\n",
    "    # check if the dataset should repeat once exhausted\n",
    "    ds = ds.repeat() if repeat else ds\n",
    "    \n",
    "    # check if we should shuffle the dataset\n",
    "    ds = ds.shuffle(4 * BATCH_SIZE) if shuffle else ds\n",
    "\n",
    "    # set the batch size of the dataset\n",
    "    ds = ds.batch(BATCH_SIZE)\n",
    "    \n",
    "    # check if we should cache the dataset\n",
    "    ds = ds.cache() if cache else ds\n",
    "\n",
    "    # prefetch new batches in the background\n",
    "    ds = ds.prefetch(auto)\n",
    "\n",
    "    return ds\n",
    "\n",
    "\n",
    "# load a simpler non-windowed version of training set\n",
    "# to adapt the normalization layer - see comments in\n",
    "# get_dataset() for explanations\n",
    "def get_norm_dataset(folds):\n",
    "    col_file = os.path.join(os.pardir, \"input\",\n",
    "                            \"jane-street-market-prediction-data\",\n",
    "                            \"columns.json\")\n",
    "\n",
    "    with open(col_file) as file:\n",
    "        cols = json.loads(file.read())\n",
    "\n",
    "    def parse(serialized):\n",
    "        tensor = tf.io.parse_tensor(serialized, tf.float32)\n",
    "        resp = tf.reshape(tensor[cols[\"resp\"]], [1])\n",
    "        X = tensor[cols[\"feature_0\"]:(cols[\"feature_129\"] + 1)]\n",
    "        X = tf.concat([X, resp], 0)\n",
    "        return tf.reshape(X, [131])\n",
    "\n",
    "    auto = tf.data.experimental.AUTOTUNE\n",
    "    ignore_order = tf.data.Options()\n",
    "    ignore_order.experimental_deterministic = False\n",
    "\n",
    "    data_path = KaggleDatasets().get_gcs_path()\n",
    "    patterns = [data_path + f\"/fold{fold}\" + \"/*.tfrec\" for fold in folds]\n",
    "    ds = tf.data.TFRecordDataset(tf.io.gfile.glob(patterns), num_parallel_reads=auto)\n",
    "    \n",
    "    ds = ds.with_options(ignore_order)\n",
    "    ds = ds.map(parse, num_parallel_calls=auto)\n",
    "    ds = ds.batch(BATCH_SIZE)\n",
    "    ds = ds.prefetch(auto)\n",
    "    \n",
    "    return ds"
   ]
  },
  {
   "cell_type": "markdown",
   "metadata": {
    "papermill": {
     "duration": 0.01338,
     "end_time": "2020-12-12T01:35:58.317684",
     "exception": false,
     "start_time": "2020-12-12T01:35:58.304304",
     "status": "completed"
    },
    "tags": []
   },
   "source": [
    "Define the model."
   ]
  },
  {
   "cell_type": "code",
   "execution_count": 4,
   "metadata": {
    "execution": {
     "iopub.execute_input": "2020-12-12T01:35:58.373178Z",
     "iopub.status.busy": "2020-12-12T01:35:58.355221Z",
     "iopub.status.idle": "2020-12-12T01:36:35.701971Z",
     "shell.execute_reply": "2020-12-12T01:36:35.702925Z"
    },
    "papermill": {
     "duration": 37.37219,
     "end_time": "2020-12-12T01:36:35.703180",
     "exception": false,
     "start_time": "2020-12-12T01:35:58.330990",
     "status": "completed"
    },
    "tags": []
   },
   "outputs": [
    {
     "name": "stdout",
     "output_type": "stream",
     "text": [
      "Model: \"model\"\n",
      "__________________________________________________________________________________________________\n",
      "Layer (type)                    Output Shape         Param #     Connected to                     \n",
      "==================================================================================================\n",
      "input_1 (InputLayer)            [(None, 40, 130)]    0                                            \n",
      "__________________________________________________________________________________________________\n",
      "normalization (Normalization)   (None, 40, 130)      261         input_1[0][0]                    \n",
      "__________________________________________________________________________________________________\n",
      "gaussian_noise (GaussianNoise)  (None, 40, 130)      0           normalization[0][0]              \n",
      "__________________________________________________________________________________________________\n",
      "batch_normalization (BatchNorma (None, 40, 130)      520         gaussian_noise[0][0]             \n",
      "__________________________________________________________________________________________________\n",
      "conv1d_1 (Conv1D)               (None, 40, 256)      100096      batch_normalization[0][0]        \n",
      "__________________________________________________________________________________________________\n",
      "batch_normalization_1 (BatchNor (None, 40, 256)      1024        conv1d_1[0][0]                   \n",
      "__________________________________________________________________________________________________\n",
      "activation (Activation)         (None, 40, 256)      0           batch_normalization_1[0][0]      \n",
      "__________________________________________________________________________________________________\n",
      "conv1d_2 (Conv1D)               (None, 40, 256)      196864      activation[0][0]                 \n",
      "__________________________________________________________________________________________________\n",
      "batch_normalization_2 (BatchNor (None, 40, 256)      1024        conv1d_2[0][0]                   \n",
      "__________________________________________________________________________________________________\n",
      "activation_1 (Activation)       (None, 40, 256)      0           batch_normalization_2[0][0]      \n",
      "__________________________________________________________________________________________________\n",
      "conv1d (Conv1D)                 (None, 40, 256)      100096      batch_normalization[0][0]        \n",
      "__________________________________________________________________________________________________\n",
      "conv1d_3 (Conv1D)               (None, 40, 256)      196864      activation_1[0][0]               \n",
      "__________________________________________________________________________________________________\n",
      "add (Add)                       (None, 40, 256)      0           conv1d[0][0]                     \n",
      "                                                                 conv1d_3[0][0]                   \n",
      "__________________________________________________________________________________________________\n",
      "batch_normalization_3 (BatchNor (None, 40, 256)      1024        add[0][0]                        \n",
      "__________________________________________________________________________________________________\n",
      "activation_2 (Activation)       (None, 40, 256)      0           batch_normalization_3[0][0]      \n",
      "__________________________________________________________________________________________________\n",
      "spatial_dropout1d (SpatialDropo (None, 40, 256)      0           activation_2[0][0]               \n",
      "__________________________________________________________________________________________________\n",
      "max_pooling1d (MaxPooling1D)    (None, 20, 256)      0           spatial_dropout1d[0][0]          \n",
      "__________________________________________________________________________________________________\n",
      "conv1d_4 (Conv1D)               (None, 20, 256)      196864      max_pooling1d[0][0]              \n",
      "__________________________________________________________________________________________________\n",
      "batch_normalization_4 (BatchNor (None, 20, 256)      1024        conv1d_4[0][0]                   \n",
      "__________________________________________________________________________________________________\n",
      "activation_3 (Activation)       (None, 20, 256)      0           batch_normalization_4[0][0]      \n",
      "__________________________________________________________________________________________________\n",
      "conv1d_5 (Conv1D)               (None, 20, 256)      196864      activation_3[0][0]               \n",
      "__________________________________________________________________________________________________\n",
      "batch_normalization_5 (BatchNor (None, 20, 256)      1024        conv1d_5[0][0]                   \n",
      "__________________________________________________________________________________________________\n",
      "activation_4 (Activation)       (None, 20, 256)      0           batch_normalization_5[0][0]      \n",
      "__________________________________________________________________________________________________\n",
      "conv1d_6 (Conv1D)               (None, 20, 256)      196864      activation_4[0][0]               \n",
      "__________________________________________________________________________________________________\n",
      "add_1 (Add)                     (None, 20, 256)      0           max_pooling1d[0][0]              \n",
      "                                                                 conv1d_6[0][0]                   \n",
      "__________________________________________________________________________________________________\n",
      "batch_normalization_6 (BatchNor (None, 20, 256)      1024        add_1[0][0]                      \n",
      "__________________________________________________________________________________________________\n",
      "activation_5 (Activation)       (None, 20, 256)      0           batch_normalization_6[0][0]      \n",
      "__________________________________________________________________________________________________\n",
      "spatial_dropout1d_1 (SpatialDro (None, 20, 256)      0           activation_5[0][0]               \n",
      "__________________________________________________________________________________________________\n",
      "max_pooling1d_1 (MaxPooling1D)  (None, 10, 256)      0           spatial_dropout1d_1[0][0]        \n",
      "__________________________________________________________________________________________________\n",
      "conv1d_7 (Conv1D)               (None, 10, 256)      196864      max_pooling1d_1[0][0]            \n",
      "__________________________________________________________________________________________________\n",
      "batch_normalization_7 (BatchNor (None, 10, 256)      1024        conv1d_7[0][0]                   \n",
      "__________________________________________________________________________________________________\n",
      "activation_6 (Activation)       (None, 10, 256)      0           batch_normalization_7[0][0]      \n",
      "__________________________________________________________________________________________________\n",
      "conv1d_8 (Conv1D)               (None, 10, 256)      196864      activation_6[0][0]               \n",
      "__________________________________________________________________________________________________\n",
      "batch_normalization_8 (BatchNor (None, 10, 256)      1024        conv1d_8[0][0]                   \n",
      "__________________________________________________________________________________________________\n",
      "activation_7 (Activation)       (None, 10, 256)      0           batch_normalization_8[0][0]      \n",
      "__________________________________________________________________________________________________\n",
      "conv1d_9 (Conv1D)               (None, 10, 256)      196864      activation_7[0][0]               \n",
      "__________________________________________________________________________________________________\n",
      "add_2 (Add)                     (None, 10, 256)      0           max_pooling1d_1[0][0]            \n",
      "                                                                 conv1d_9[0][0]                   \n",
      "__________________________________________________________________________________________________\n",
      "batch_normalization_9 (BatchNor (None, 10, 256)      1024        add_2[0][0]                      \n",
      "__________________________________________________________________________________________________\n",
      "activation_8 (Activation)       (None, 10, 256)      0           batch_normalization_9[0][0]      \n",
      "__________________________________________________________________________________________________\n",
      "spatial_dropout1d_2 (SpatialDro (None, 10, 256)      0           activation_8[0][0]               \n",
      "__________________________________________________________________________________________________\n",
      "max_pooling1d_2 (MaxPooling1D)  (None, 5, 256)       0           spatial_dropout1d_2[0][0]        \n",
      "__________________________________________________________________________________________________\n",
      "flatten (Flatten)               (None, 1280)         0           max_pooling1d_2[0][0]            \n",
      "__________________________________________________________________________________________________\n",
      "dense (Dense)                   (None, 1)            1281        flatten[0][0]                    \n",
      "__________________________________________________________________________________________________\n",
      "activation_9 (Activation)       (None, 1)            0           dense[0][0]                      \n",
      "==================================================================================================\n",
      "Total params: 1,786,382\n",
      "Trainable params: 1,781,253\n",
      "Non-trainable params: 5,129\n",
      "__________________________________________________________________________________________________\n"
     ]
    }
   ],
   "source": [
    "train_folds = [fold for fold in range(FOLDS) if fold != HOLDOUT]\n",
    "\n",
    "# compile model on the TPU\n",
    "with tpu_strategy.scope():\n",
    "    # binary cross-entropy as loss function, SGD as optimizer,\n",
    "    # track precision at recall and area under the ROC curve\n",
    "    loss = BinaryCrossentropy(label_smoothing=LABEL_SMOOTHING)\n",
    "    optimizer = SGD(learning_rate=LEARNING_RATE, momentum=0.9, nesterov=True)\n",
    "    metrics = [PrecisionAtRecall(recall=MIN_RECALL, name=\"p@r\"), AUC(name=\"auc\")]\n",
    "\n",
    "    \n",
    "    # input layer\n",
    "    inputs = layers.Input(shape=[WINDOW_SIZE, 131])\n",
    "    \n",
    "    # normalization layer\n",
    "    norm = layers.experimental.preprocessing.Normalization()\n",
    "    norm_ds = get_norm_dataset(train_folds)\n",
    "    norm.adapt(norm_ds)\n",
    "    flow = norm(inputs)\n",
    "    \n",
    "    # gaussian noise\n",
    "    flow = layers.GaussianNoise(stddev=NOISE)(flow)\n",
    "    flow = layers.BatchNormalization()(flow)\n",
    "    \n",
    "    # resnet\n",
    "    last_filters = 131\n",
    "    for filters, pool in zip([256, 256, 512, 512], [True, False, True, False]):\n",
    "        # skip connection\n",
    "        skip = flow\n",
    "        \n",
    "        # make sure the skip connection has correct number of feature maps\n",
    "        if filters != last_filters:\n",
    "            skip = layers.Conv1D(filters=filters,\n",
    "                                 kernel_size=1,\n",
    "                                 activation=None,\n",
    "                                 padding=\"same\",\n",
    "                                 data_format=\"channels_last\")(skip)\n",
    "\n",
    "        # convolutional block\n",
    "        flow = layers.Conv1D(filters=filters,\n",
    "                             kernel_size=3,\n",
    "                             activation=None,\n",
    "                             padding=\"same\",\n",
    "                             data_format=\"channels_last\")(flow)\n",
    "        flow = layers.BatchNormalization()(flow)\n",
    "        flow = layers.Activation(keras.activations.swish)(flow)\n",
    "        \n",
    "        # dropout entire feature maps\n",
    "        flow = layers.SpatialDropout1D(rate=0.2)(flow)\n",
    "        \n",
    "        flow = layers.Conv1D(filters=filters,\n",
    "                             kernel_size=3,\n",
    "                             activation=None,\n",
    "                             padding=\"same\",\n",
    "                             data_format=\"channels_last\")(flow)\n",
    "\n",
    "        # merge flow and skip\n",
    "        flow = layers.Add()([skip, flow])\n",
    "        flow = layers.BatchNormalization()(flow)\n",
    "        flow = layers.Activation(keras.activations.swish)(flow)\n",
    "        \n",
    "        # dropout entire feature maps\n",
    "        flow = layers.SpatialDropout1D(rate=0.2)(flow)\n",
    "        \n",
    "        # pooling\n",
    "        if pool:\n",
    "            flow = layers.MaxPooling1D(pool_size=2, data_format=\"channels_last\")(flow)\n",
    "        \n",
    "        last_filters = filters\n",
    "    \n",
    "    # flattened layers and dense logic for prediction\n",
    "    flow = layers.Flatten()(flow)    \n",
    "    flow = layers.Dense(units=1)(flow)\n",
    "    outputs = layers.Activation(\"sigmoid\")(flow)\n",
    "\n",
    "    # compile the model and print a summary\n",
    "    model = keras.Model(inputs=inputs, outputs=outputs)\n",
    "    model.compile(loss=loss, optimizer=optimizer, metrics=metrics)\n",
    "    model.summary()"
   ]
  },
  {
   "cell_type": "markdown",
   "metadata": {
    "papermill": {
     "duration": 0.014037,
     "end_time": "2020-12-12T01:36:35.736330",
     "exception": false,
     "start_time": "2020-12-12T01:36:35.722293",
     "status": "completed"
    },
    "tags": []
   },
   "source": [
    "Train the model."
   ]
  },
  {
   "cell_type": "code",
   "execution_count": 5,
   "metadata": {
    "execution": {
     "iopub.execute_input": "2020-12-12T01:36:35.777220Z",
     "iopub.status.busy": "2020-12-12T01:36:35.776338Z",
     "iopub.status.idle": "2020-12-12T05:28:56.275215Z",
     "shell.execute_reply": "2020-12-12T05:28:56.274333Z"
    },
    "papermill": {
     "duration": 13940.524762,
     "end_time": "2020-12-12T05:28:56.275416",
     "exception": false,
     "start_time": "2020-12-12T01:36:35.750654",
     "status": "completed"
    },
    "tags": []
   },
   "outputs": [
    {
     "name": "stdout",
     "output_type": "stream",
     "text": [
      "Epoch 1/100\n",
      "458/458 [==============================] - 193s 422ms/step - p@r: 0.5085 - auc: 0.5042 - loss: 0.7242 - val_p@r: 0.4962 - val_auc: 0.4995 - val_loss: 0.7068 - lr: 0.0500\n",
      "Epoch 2/100\n",
      "458/458 [==============================] - 151s 329ms/step - p@r: 0.5091 - auc: 0.5056 - loss: 0.7029 - val_p@r: 0.4994 - val_auc: 0.5037 - val_loss: 0.6950 - lr: 0.0500\n",
      "Epoch 3/100\n",
      "458/458 [==============================] - 149s 325ms/step - p@r: 0.5098 - auc: 0.5072 - loss: 0.7008 - val_p@r: 0.4990 - val_auc: 0.5019 - val_loss: 0.6975 - lr: 0.0500\n",
      "Epoch 4/100\n",
      "458/458 [==============================] - 149s 326ms/step - p@r: 0.5102 - auc: 0.5077 - loss: 0.6991 - val_p@r: 0.5010 - val_auc: 0.5031 - val_loss: 0.6959 - lr: 0.0500\n",
      "Epoch 5/100\n",
      "458/458 [==============================] - 150s 327ms/step - p@r: 0.5112 - auc: 0.5090 - loss: 0.6980 - val_p@r: 0.5021 - val_auc: 0.5043 - val_loss: 0.6947 - lr: 0.0500\n",
      "Epoch 6/100\n",
      "458/458 [==============================] - 150s 327ms/step - p@r: 0.5112 - auc: 0.5099 - loss: 0.6943 - val_p@r: 0.5020 - val_auc: 0.5045 - val_loss: 0.6957 - lr: 0.0250\n",
      "Epoch 7/100\n",
      "458/458 [==============================] - 150s 327ms/step - p@r: 0.5128 - auc: 0.5120 - loss: 0.6940 - val_p@r: 0.5013 - val_auc: 0.5054 - val_loss: 0.6937 - lr: 0.0250\n",
      "Epoch 8/100\n",
      "458/458 [==============================] - 149s 326ms/step - p@r: 0.5136 - auc: 0.5131 - loss: 0.6939 - val_p@r: 0.5020 - val_auc: 0.5064 - val_loss: 0.6937 - lr: 0.0250\n",
      "Epoch 9/100\n",
      "458/458 [==============================] - 150s 327ms/step - p@r: 0.5148 - auc: 0.5147 - loss: 0.6938 - val_p@r: 0.5000 - val_auc: 0.5077 - val_loss: 0.6932 - lr: 0.0250\n",
      "Epoch 10/100\n",
      "458/458 [==============================] - 150s 327ms/step - p@r: 0.5150 - auc: 0.5154 - loss: 0.6937 - val_p@r: 0.5029 - val_auc: 0.5081 - val_loss: 0.6938 - lr: 0.0250\n",
      "Epoch 11/100\n",
      "458/458 [==============================] - 150s 327ms/step - p@r: 0.5166 - auc: 0.5172 - loss: 0.6930 - val_p@r: 0.5018 - val_auc: 0.5089 - val_loss: 0.6936 - lr: 0.0125\n",
      "Epoch 12/100\n",
      "458/458 [==============================] - 150s 327ms/step - p@r: 0.5170 - auc: 0.5174 - loss: 0.6929 - val_p@r: 0.5022 - val_auc: 0.5092 - val_loss: 0.6935 - lr: 0.0125\n",
      "Epoch 13/100\n",
      "458/458 [==============================] - 150s 327ms/step - p@r: 0.5179 - auc: 0.5189 - loss: 0.6928 - val_p@r: 0.5051 - val_auc: 0.5100 - val_loss: 0.6937 - lr: 0.0125\n",
      "Epoch 14/100\n",
      "458/458 [==============================] - 150s 327ms/step - p@r: 0.5188 - auc: 0.5198 - loss: 0.6926 - val_p@r: 0.5050 - val_auc: 0.5103 - val_loss: 0.6936 - lr: 0.0063\n",
      "Epoch 15/100\n",
      "458/458 [==============================] - 150s 328ms/step - p@r: 0.5188 - auc: 0.5198 - loss: 0.6926 - val_p@r: 0.5041 - val_auc: 0.5101 - val_loss: 0.6932 - lr: 0.0063\n",
      "Epoch 16/100\n",
      "458/458 [==============================] - 150s 328ms/step - p@r: 0.5190 - auc: 0.5202 - loss: 0.6926 - val_p@r: 0.5057 - val_auc: 0.5111 - val_loss: 0.6931 - lr: 0.0063\n",
      "Epoch 17/100\n",
      "458/458 [==============================] - 150s 327ms/step - p@r: 0.5202 - auc: 0.5214 - loss: 0.6924 - val_p@r: 0.5060 - val_auc: 0.5114 - val_loss: 0.6932 - lr: 0.0031\n",
      "Epoch 18/100\n",
      "458/458 [==============================] - 150s 328ms/step - p@r: 0.5195 - auc: 0.5209 - loss: 0.6924 - val_p@r: 0.5067 - val_auc: 0.5119 - val_loss: 0.6929 - lr: 0.0031\n",
      "Epoch 19/100\n",
      "458/458 [==============================] - 150s 327ms/step - p@r: 0.5206 - auc: 0.5216 - loss: 0.6923 - val_p@r: 0.5029 - val_auc: 0.5118 - val_loss: 0.6929 - lr: 0.0031\n",
      "Epoch 20/100\n",
      "458/458 [==============================] - 150s 327ms/step - p@r: 0.5209 - auc: 0.5214 - loss: 0.6923 - val_p@r: 0.5058 - val_auc: 0.5117 - val_loss: 0.6930 - lr: 0.0016\n",
      "Epoch 21/100\n",
      "458/458 [==============================] - 150s 327ms/step - p@r: 0.5198 - auc: 0.5208 - loss: 0.6923 - val_p@r: 0.5029 - val_auc: 0.5119 - val_loss: 0.6929 - lr: 0.0016\n",
      "Epoch 22/100\n",
      "458/458 [==============================] - 150s 327ms/step - p@r: 0.5211 - auc: 0.5222 - loss: 0.6922 - val_p@r: 0.5032 - val_auc: 0.5120 - val_loss: 0.6929 - lr: 0.0016\n",
      "Epoch 23/100\n",
      "458/458 [==============================] - 151s 329ms/step - p@r: 0.5218 - auc: 0.5224 - loss: 0.6922 - val_p@r: 0.5028 - val_auc: 0.5120 - val_loss: 0.6930 - lr: 0.0010\n",
      "Epoch 24/100\n",
      "458/458 [==============================] - 151s 329ms/step - p@r: 0.5207 - auc: 0.5220 - loss: 0.6922 - val_p@r: 0.5067 - val_auc: 0.5122 - val_loss: 0.6929 - lr: 0.0010\n",
      "Epoch 25/100\n",
      "458/458 [==============================] - 150s 327ms/step - p@r: 0.5207 - auc: 0.5219 - loss: 0.6922 - val_p@r: 0.5028 - val_auc: 0.5121 - val_loss: 0.6929 - lr: 0.0010\n",
      "Epoch 26/100\n",
      "458/458 [==============================] - 151s 330ms/step - p@r: 0.5207 - auc: 0.5221 - loss: 0.6922 - val_p@r: 0.5065 - val_auc: 0.5121 - val_loss: 0.6932 - lr: 0.0010\n",
      "Epoch 27/100\n",
      "458/458 [==============================] - 149s 325ms/step - p@r: 0.5210 - auc: 0.5218 - loss: 0.6922 - val_p@r: 0.5068 - val_auc: 0.5123 - val_loss: 0.6930 - lr: 0.0010\n",
      "Epoch 28/100\n",
      "458/458 [==============================] - 150s 328ms/step - p@r: 0.5211 - auc: 0.5225 - loss: 0.6922 - val_p@r: 0.5032 - val_auc: 0.5123 - val_loss: 0.6929 - lr: 0.0010\n",
      "Epoch 29/100\n",
      "458/458 [==============================] - 150s 329ms/step - p@r: 0.5207 - auc: 0.5223 - loss: 0.6922 - val_p@r: 0.5033 - val_auc: 0.5123 - val_loss: 0.6929 - lr: 0.0010\n",
      "Epoch 30/100\n",
      "458/458 [==============================] - 150s 327ms/step - p@r: 0.5209 - auc: 0.5223 - loss: 0.6922 - val_p@r: 0.5035 - val_auc: 0.5122 - val_loss: 0.6929 - lr: 0.0010\n",
      "Epoch 31/100\n",
      "458/458 [==============================] - 150s 328ms/step - p@r: 0.5215 - auc: 0.5229 - loss: 0.6922 - val_p@r: 0.5038 - val_auc: 0.5121 - val_loss: 0.6930 - lr: 0.0010\n",
      "Epoch 32/100\n",
      "458/458 [==============================] - 151s 329ms/step - p@r: 0.5215 - auc: 0.5227 - loss: 0.6922 - val_p@r: 0.5038 - val_auc: 0.5123 - val_loss: 0.6929 - lr: 0.0010\n",
      "Epoch 33/100\n",
      "458/458 [==============================] - 150s 327ms/step - p@r: 0.5214 - auc: 0.5225 - loss: 0.6922 - val_p@r: 0.5038 - val_auc: 0.5122 - val_loss: 0.6929 - lr: 0.0010\n",
      "Epoch 34/100\n",
      "458/458 [==============================] - 150s 328ms/step - p@r: 0.5212 - auc: 0.5229 - loss: 0.6922 - val_p@r: 0.5038 - val_auc: 0.5123 - val_loss: 0.6929 - lr: 0.0010\n",
      "Epoch 35/100\n",
      "458/458 [==============================] - 150s 328ms/step - p@r: 0.5204 - auc: 0.5217 - loss: 0.6922 - val_p@r: 0.5040 - val_auc: 0.5124 - val_loss: 0.6929 - lr: 0.0010\n",
      "Epoch 36/100\n",
      "458/458 [==============================] - 150s 327ms/step - p@r: 0.5208 - auc: 0.5221 - loss: 0.6922 - val_p@r: 0.5039 - val_auc: 0.5124 - val_loss: 0.6929 - lr: 0.0010\n",
      "Epoch 37/100\n",
      "458/458 [==============================] - 151s 329ms/step - p@r: 0.5213 - auc: 0.5228 - loss: 0.6921 - val_p@r: 0.5040 - val_auc: 0.5125 - val_loss: 0.6928 - lr: 0.0010\n",
      "Epoch 38/100\n",
      "458/458 [==============================] - 150s 327ms/step - p@r: 0.5209 - auc: 0.5224 - loss: 0.6922 - val_p@r: 0.5038 - val_auc: 0.5123 - val_loss: 0.6930 - lr: 0.0010\n",
      "Epoch 39/100\n",
      "458/458 [==============================] - 150s 328ms/step - p@r: 0.5215 - auc: 0.5232 - loss: 0.6921 - val_p@r: 0.5040 - val_auc: 0.5125 - val_loss: 0.6929 - lr: 0.0010\n",
      "Epoch 40/100\n",
      "458/458 [==============================] - 150s 328ms/step - p@r: 0.5212 - auc: 0.5227 - loss: 0.6922 - val_p@r: 0.5040 - val_auc: 0.5126 - val_loss: 0.6929 - lr: 0.0010\n",
      "Epoch 41/100\n",
      "458/458 [==============================] - 151s 329ms/step - p@r: 0.5214 - auc: 0.5230 - loss: 0.6921 - val_p@r: 0.5040 - val_auc: 0.5126 - val_loss: 0.6928 - lr: 0.0010\n",
      "Epoch 42/100\n",
      "458/458 [==============================] - 151s 329ms/step - p@r: 0.5213 - auc: 0.5227 - loss: 0.6922 - val_p@r: 0.5040 - val_auc: 0.5126 - val_loss: 0.6929 - lr: 0.0010\n",
      "Epoch 43/100\n",
      "458/458 [==============================] - 151s 330ms/step - p@r: 0.5216 - auc: 0.5230 - loss: 0.6921 - val_p@r: 0.5041 - val_auc: 0.5127 - val_loss: 0.6928 - lr: 0.0010\n",
      "Epoch 44/100\n",
      "458/458 [==============================] - 151s 330ms/step - p@r: 0.5218 - auc: 0.5234 - loss: 0.6921 - val_p@r: 0.5039 - val_auc: 0.5126 - val_loss: 0.6929 - lr: 0.0010\n",
      "Epoch 45/100\n",
      "458/458 [==============================] - 151s 330ms/step - p@r: 0.5216 - auc: 0.5229 - loss: 0.6921 - val_p@r: 0.5039 - val_auc: 0.5127 - val_loss: 0.6929 - lr: 0.0010\n",
      "Epoch 46/100\n",
      "458/458 [==============================] - 151s 329ms/step - p@r: 0.5214 - auc: 0.5228 - loss: 0.6922 - val_p@r: 0.5040 - val_auc: 0.5129 - val_loss: 0.6929 - lr: 0.0010\n",
      "Epoch 47/100\n",
      "458/458 [==============================] - 151s 329ms/step - p@r: 0.5217 - auc: 0.5236 - loss: 0.6921 - val_p@r: 0.5041 - val_auc: 0.5130 - val_loss: 0.6928 - lr: 0.0010\n",
      "Epoch 48/100\n",
      "458/458 [==============================] - 151s 330ms/step - p@r: 0.5220 - auc: 0.5235 - loss: 0.6921 - val_p@r: 0.5042 - val_auc: 0.5131 - val_loss: 0.6928 - lr: 0.0010\n",
      "Epoch 49/100\n",
      "458/458 [==============================] - 151s 331ms/step - p@r: 0.5215 - auc: 0.5230 - loss: 0.6921 - val_p@r: 0.5041 - val_auc: 0.5131 - val_loss: 0.6928 - lr: 0.0010\n",
      "Epoch 50/100\n",
      "458/458 [==============================] - 152s 331ms/step - p@r: 0.5213 - auc: 0.5231 - loss: 0.6921 - val_p@r: 0.5041 - val_auc: 0.5131 - val_loss: 0.6929 - lr: 0.0010\n",
      "Epoch 51/100\n",
      "458/458 [==============================] - 151s 329ms/step - p@r: 0.5215 - auc: 0.5233 - loss: 0.6921 - val_p@r: 0.5040 - val_auc: 0.5132 - val_loss: 0.6928 - lr: 0.0010\n",
      "Epoch 52/100\n",
      "458/458 [==============================] - 151s 330ms/step - p@r: 0.5219 - auc: 0.5240 - loss: 0.6920 - val_p@r: 0.5038 - val_auc: 0.5133 - val_loss: 0.6928 - lr: 0.0010\n",
      "Epoch 53/100\n",
      "458/458 [==============================] - 152s 331ms/step - p@r: 0.5219 - auc: 0.5238 - loss: 0.6921 - val_p@r: 0.5039 - val_auc: 0.5134 - val_loss: 0.6928 - lr: 0.0010\n",
      "Epoch 54/100\n",
      "458/458 [==============================] - 151s 329ms/step - p@r: 0.5219 - auc: 0.5239 - loss: 0.6920 - val_p@r: 0.5038 - val_auc: 0.5133 - val_loss: 0.6928 - lr: 0.0010\n",
      "Epoch 55/100\n",
      "458/458 [==============================] - 151s 331ms/step - p@r: 0.5217 - auc: 0.5236 - loss: 0.6921 - val_p@r: 0.5038 - val_auc: 0.5134 - val_loss: 0.6928 - lr: 0.0010\n",
      "Epoch 56/100\n",
      "458/458 [==============================] - 151s 330ms/step - p@r: 0.5221 - auc: 0.5242 - loss: 0.6920 - val_p@r: 0.5038 - val_auc: 0.5135 - val_loss: 0.6928 - lr: 0.0010\n",
      "Epoch 57/100\n",
      "458/458 [==============================] - 151s 330ms/step - p@r: 0.5215 - auc: 0.5235 - loss: 0.6921 - val_p@r: 0.5038 - val_auc: 0.5136 - val_loss: 0.6928 - lr: 0.0010\n",
      "Epoch 58/100\n",
      "458/458 [==============================] - 151s 330ms/step - p@r: 0.5221 - auc: 0.5237 - loss: 0.6920 - val_p@r: 0.5040 - val_auc: 0.5137 - val_loss: 0.6928 - lr: 0.0010\n",
      "Epoch 59/100\n",
      "458/458 [==============================] - 151s 331ms/step - p@r: 0.5217 - auc: 0.5235 - loss: 0.6921 - val_p@r: 0.5041 - val_auc: 0.5138 - val_loss: 0.6928 - lr: 0.0010\n",
      "Epoch 60/100\n",
      "458/458 [==============================] - 151s 330ms/step - p@r: 0.5224 - auc: 0.5244 - loss: 0.6920 - val_p@r: 0.5041 - val_auc: 0.5138 - val_loss: 0.6928 - lr: 0.0010\n",
      "Epoch 61/100\n",
      "458/458 [==============================] - 152s 331ms/step - p@r: 0.5218 - auc: 0.5236 - loss: 0.6921 - val_p@r: 0.5040 - val_auc: 0.5137 - val_loss: 0.6928 - lr: 0.0010\n",
      "Epoch 62/100\n",
      "458/458 [==============================] - 151s 329ms/step - p@r: 0.5219 - auc: 0.5240 - loss: 0.6921 - val_p@r: 0.5041 - val_auc: 0.5138 - val_loss: 0.6928 - lr: 0.0010\n",
      "Epoch 63/100\n",
      "458/458 [==============================] - 152s 332ms/step - p@r: 0.5217 - auc: 0.5240 - loss: 0.6920 - val_p@r: 0.5042 - val_auc: 0.5138 - val_loss: 0.6928 - lr: 0.0010\n",
      "Epoch 64/100\n",
      "458/458 [==============================] - 151s 330ms/step - p@r: 0.5224 - auc: 0.5247 - loss: 0.6920 - val_p@r: 0.5042 - val_auc: 0.5139 - val_loss: 0.6928 - lr: 0.0010\n",
      "Epoch 65/100\n",
      "458/458 [==============================] - 151s 330ms/step - p@r: 0.5220 - auc: 0.5242 - loss: 0.6920 - val_p@r: 0.5043 - val_auc: 0.5139 - val_loss: 0.6929 - lr: 0.0010\n",
      "Epoch 66/100\n",
      "458/458 [==============================] - 151s 330ms/step - p@r: 0.5218 - auc: 0.5240 - loss: 0.6920 - val_p@r: 0.5040 - val_auc: 0.5141 - val_loss: 0.6928 - lr: 0.0010\n",
      "Epoch 67/100\n",
      "458/458 [==============================] - 151s 330ms/step - p@r: 0.5227 - auc: 0.5248 - loss: 0.6920 - val_p@r: 0.5041 - val_auc: 0.5142 - val_loss: 0.6928 - lr: 0.0010\n",
      "Epoch 68/100\n",
      "458/458 [==============================] - 151s 330ms/step - p@r: 0.5220 - auc: 0.5242 - loss: 0.6920 - val_p@r: 0.5040 - val_auc: 0.5142 - val_loss: 0.6928 - lr: 0.0010\n",
      "Epoch 69/100\n",
      "458/458 [==============================] - 151s 331ms/step - p@r: 0.5227 - auc: 0.5247 - loss: 0.6920 - val_p@r: 0.5038 - val_auc: 0.5140 - val_loss: 0.6928 - lr: 0.0010\n",
      "Epoch 70/100\n",
      "458/458 [==============================] - 151s 330ms/step - p@r: 0.5219 - auc: 0.5243 - loss: 0.6920 - val_p@r: 0.5038 - val_auc: 0.5141 - val_loss: 0.6928 - lr: 0.0010\n",
      "Epoch 71/100\n",
      "458/458 [==============================] - 152s 332ms/step - p@r: 0.5220 - auc: 0.5240 - loss: 0.6920 - val_p@r: 0.5038 - val_auc: 0.5142 - val_loss: 0.6928 - lr: 0.0010\n",
      "Epoch 72/100\n",
      "458/458 [==============================] - 152s 331ms/step - p@r: 0.5220 - auc: 0.5248 - loss: 0.6920 - val_p@r: 0.5038 - val_auc: 0.5142 - val_loss: 0.6928 - lr: 0.0010\n",
      "Epoch 73/100\n",
      "458/458 [==============================] - 151s 330ms/step - p@r: 0.5227 - auc: 0.5251 - loss: 0.6919 - val_p@r: 0.5038 - val_auc: 0.5142 - val_loss: 0.6928 - lr: 0.0010\n",
      "Epoch 74/100\n",
      "458/458 [==============================] - 151s 331ms/step - p@r: 0.5225 - auc: 0.5252 - loss: 0.6919 - val_p@r: 0.5070 - val_auc: 0.5142 - val_loss: 0.6928 - lr: 0.0010\n",
      "Epoch 75/100\n",
      "458/458 [==============================] - 151s 330ms/step - p@r: 0.5225 - auc: 0.5252 - loss: 0.6920 - val_p@r: 0.5072 - val_auc: 0.5142 - val_loss: 0.6928 - lr: 0.0010\n",
      "Epoch 76/100\n",
      "458/458 [==============================] - 152s 331ms/step - p@r: 0.5227 - auc: 0.5251 - loss: 0.6919 - val_p@r: 0.5070 - val_auc: 0.5141 - val_loss: 0.6928 - lr: 0.0010\n",
      "Epoch 77/100\n",
      "458/458 [==============================] - 152s 332ms/step - p@r: 0.5219 - auc: 0.5247 - loss: 0.6920 - val_p@r: 0.5067 - val_auc: 0.5142 - val_loss: 0.6928 - lr: 0.0010\n",
      "Epoch 78/100\n",
      "458/458 [==============================] - 151s 331ms/step - p@r: 0.5224 - auc: 0.5249 - loss: 0.6920 - val_p@r: 0.5068 - val_auc: 0.5143 - val_loss: 0.6928 - lr: 0.0010\n",
      "Epoch 79/100\n",
      "458/458 [==============================] - 151s 330ms/step - p@r: 0.5225 - auc: 0.5255 - loss: 0.6919 - val_p@r: 0.5064 - val_auc: 0.5142 - val_loss: 0.6929 - lr: 0.0010\n",
      "Epoch 80/100\n",
      "458/458 [==============================] - 152s 331ms/step - p@r: 0.5222 - auc: 0.5247 - loss: 0.6919 - val_p@r: 0.5063 - val_auc: 0.5142 - val_loss: 0.6929 - lr: 0.0010\n",
      "Epoch 81/100\n",
      "458/458 [==============================] - 152s 332ms/step - p@r: 0.5224 - auc: 0.5253 - loss: 0.6919 - val_p@r: 0.5062 - val_auc: 0.5144 - val_loss: 0.6928 - lr: 0.0010\n",
      "Epoch 82/100\n",
      "458/458 [==============================] - 151s 330ms/step - p@r: 0.5227 - auc: 0.5258 - loss: 0.6919 - val_p@r: 0.5062 - val_auc: 0.5146 - val_loss: 0.6928 - lr: 0.0010\n",
      "Epoch 83/100\n",
      "458/458 [==============================] - 152s 331ms/step - p@r: 0.5222 - auc: 0.5247 - loss: 0.6920 - val_p@r: 0.5061 - val_auc: 0.5144 - val_loss: 0.6928 - lr: 0.0010\n",
      "Epoch 84/100\n",
      "458/458 [==============================] - 151s 330ms/step - p@r: 0.5225 - auc: 0.5254 - loss: 0.6919 - val_p@r: 0.5062 - val_auc: 0.5145 - val_loss: 0.6928 - lr: 0.0010\n",
      "Epoch 85/100\n",
      "458/458 [==============================] - 152s 332ms/step - p@r: 0.5223 - auc: 0.5249 - loss: 0.6919 - val_p@r: 0.5061 - val_auc: 0.5145 - val_loss: 0.6928 - lr: 0.0010\n",
      "Epoch 86/100\n",
      "458/458 [==============================] - 151s 330ms/step - p@r: 0.5224 - auc: 0.5252 - loss: 0.6919 - val_p@r: 0.5058 - val_auc: 0.5144 - val_loss: 0.6929 - lr: 0.0010\n",
      "Epoch 87/100\n",
      "458/458 [==============================] - 152s 332ms/step - p@r: 0.5224 - auc: 0.5250 - loss: 0.6919 - val_p@r: 0.5059 - val_auc: 0.5145 - val_loss: 0.6928 - lr: 0.0010\n",
      "Epoch 88/100\n",
      "458/458 [==============================] - 152s 332ms/step - p@r: 0.5227 - auc: 0.5254 - loss: 0.6919 - val_p@r: 0.5058 - val_auc: 0.5144 - val_loss: 0.6928 - lr: 0.0010\n",
      "Epoch 89/100\n",
      "458/458 [==============================] - 152s 333ms/step - p@r: 0.5226 - auc: 0.5253 - loss: 0.6919 - val_p@r: 0.5060 - val_auc: 0.5146 - val_loss: 0.6928 - lr: 0.0010\n",
      "Epoch 90/100\n",
      "458/458 [==============================] - 151s 331ms/step - p@r: 0.5230 - auc: 0.5261 - loss: 0.6918 - val_p@r: 0.5060 - val_auc: 0.5146 - val_loss: 0.6928 - lr: 0.0010\n",
      "Epoch 91/100\n",
      "458/458 [==============================] - 152s 331ms/step - p@r: 0.5225 - auc: 0.5253 - loss: 0.6919 - val_p@r: 0.5058 - val_auc: 0.5146 - val_loss: 0.6928 - lr: 0.0010\n",
      "Epoch 92/100\n",
      "458/458 [==============================] - 153s 334ms/step - p@r: 0.5228 - auc: 0.5260 - loss: 0.6918 - val_p@r: 0.5059 - val_auc: 0.5146 - val_loss: 0.6929 - lr: 0.0010\n"
     ]
    }
   ],
   "source": [
    "# load stats dictionary to get the number of training samples\n",
    "stats_file = os.path.join(os.pardir, \"input\",\n",
    "                          \"jane-street-market-prediction-data\",\n",
    "                          \"stats.json\")\n",
    "\n",
    "with open(stats_file) as file:\n",
    "    stats = json.loads(file.read())\n",
    "\n",
    "samples = stats[str(HOLDOUT)][\"length\"]\n",
    "\n",
    "\n",
    "# define callbacks for learning rate schedule and early stopping\n",
    "stopping = EarlyStopping(monitor=\"val_auc\",\n",
    "                         mode=\"max\",\n",
    "                         patience=10,\n",
    "                         min_delta=1e-3,\n",
    "                         restore_best_weights=True)\n",
    "\n",
    "rate = ReduceLROnPlateau(monitor=\"val_loss\",\n",
    "                         mode=\"min\",\n",
    "                         factor=0.5,\n",
    "                         patience=3,\n",
    "                         min_lr=1e-3,\n",
    "                         min_delta=1e-3)\n",
    "\n",
    "callbacks = [rate, stopping]\n",
    "\n",
    "\n",
    "# get training and validation datasets and fit the model\n",
    "train_ds = get_dataset(train_folds, repeat=True, shuffle=True)\n",
    "valid_ds = get_dataset([HOLDOUT], cache=True)\n",
    "hist = model.fit(train_ds,\n",
    "                 epochs=EPOCHS,\n",
    "                 steps_per_epoch=samples // BATCH_SIZE,\n",
    "                 validation_data=valid_ds,\n",
    "                 callbacks=callbacks)"
   ]
  },
  {
   "cell_type": "markdown",
   "metadata": {
    "papermill": {
     "duration": 17.17361,
     "end_time": "2020-12-12T05:29:30.699809",
     "exception": false,
     "start_time": "2020-12-12T05:29:13.526199",
     "status": "completed"
    },
    "tags": []
   },
   "source": [
    "Plot the learning curve and associated metrics."
   ]
  },
  {
   "cell_type": "code",
   "execution_count": 6,
   "metadata": {
    "execution": {
     "iopub.execute_input": "2020-12-12T05:30:04.944761Z",
     "iopub.status.busy": "2020-12-12T05:30:04.943984Z",
     "iopub.status.idle": "2020-12-12T05:30:05.822068Z",
     "shell.execute_reply": "2020-12-12T05:30:05.821467Z"
    },
    "papermill": {
     "duration": 18.069193,
     "end_time": "2020-12-12T05:30:05.822199",
     "exception": false,
     "start_time": "2020-12-12T05:29:47.753006",
     "status": "completed"
    },
    "tags": []
   },
   "outputs": [
    {
     "data": {
      "image/png": "[encoded data removed]",
      "text/plain": [
       "<Figure size 576x360 with 1 Axes>"
      ]
     },
     "metadata": {
      "needs_background": "light"
     },
     "output_type": "display_data"
    },
    {
     "data": {
      "image/png": "[encoded data removed]",
      "text/plain": [
       "<Figure size 576x360 with 1 Axes>"
      ]
     },
     "metadata": {
      "needs_background": "light"
     },
     "output_type": "display_data"
    },
    {
     "data": {
      "image/png": "[encoded data removed]",
      "text/plain": [
       "<Figure size 576x360 with 1 Axes>"
      ]
     },
     "metadata": {
      "needs_background": "light"
     },
     "output_type": "display_data"
    }
   ],
   "source": [
    "hist_df = pd.DataFrame(hist.history)\n",
    "\n",
    "# loss\n",
    "plt.figure(figsize=(8, 5))\n",
    "sns.lineplot(data=hist_df[\"loss\"], label=\"Training\")\n",
    "sns.lineplot(data=hist_df[\"val_loss\"], label=\"Validation\")\n",
    "#sns.lineplot(data=hist_df[\"lr\"], label=\"Learning rate\")\n",
    "plt.title(\"Loss\")\n",
    "plt.grid(True)\n",
    "plt.xlabel(\"Epoch\")\n",
    "plt.ylabel(\"\")\n",
    "plt.show()\n",
    "\n",
    "# precision at recall\n",
    "plt.figure(figsize=(8, 5))\n",
    "sns.lineplot(data=hist_df[\"p@r\"], label=\"Training\")\n",
    "sns.lineplot(data=hist_df[\"val_p@r\"], label=\"Validation\")\n",
    "plt.title(f\"Precision at {int(100 * MIN_RECALL)}% recall\")\n",
    "plt.grid(True)\n",
    "plt.xlabel(\"Epoch\")\n",
    "plt.ylabel(\"\")\n",
    "plt.show()\n",
    "\n",
    "# area under ROC curve\n",
    "plt.figure(figsize=(8, 5))\n",
    "sns.lineplot(data=hist_df[\"auc\"], label=\"Training\")\n",
    "sns.lineplot(data=hist_df[\"val_auc\"], label=\"Validation\")\n",
    "plt.title(\"Area under the ROC curve\")\n",
    "plt.grid(True)\n",
    "plt.xlabel(\"Epoch\")\n",
    "plt.ylabel(\"\")\n",
    "plt.show()"
   ]
  },
  {
   "cell_type": "markdown",
   "metadata": {
    "papermill": {
     "duration": 17.169705,
     "end_time": "2020-12-12T05:30:40.235197",
     "exception": false,
     "start_time": "2020-12-12T05:30:23.065492",
     "status": "completed"
    },
    "tags": []
   },
   "source": [
    "Plot ROC curve and precision vs. recall on validation set."
   ]
  },
  {
   "cell_type": "code",
   "execution_count": 7,
   "metadata": {
    "execution": {
     "iopub.execute_input": "2020-12-12T05:31:14.811439Z",
     "iopub.status.busy": "2020-12-12T05:31:14.810633Z",
     "iopub.status.idle": "2020-12-12T05:32:32.285507Z",
     "shell.execute_reply": "2020-12-12T05:32:32.286091Z"
    },
    "papermill": {
     "duration": 94.78775,
     "end_time": "2020-12-12T05:32:32.286282",
     "exception": false,
     "start_time": "2020-12-12T05:30:57.498532",
     "status": "completed"
    },
    "tags": []
   },
   "outputs": [
    {
     "data": {
      "image/png": "[encoded data removed]",
      "text/plain": [
       "<Figure size 576x360 with 1 Axes>"
      ]
     },
     "metadata": {
      "needs_background": "light"
     },
     "output_type": "display_data"
    },
    {
     "data": {
      "image/png": "[encoded data removed]",
      "text/plain": [
       "<Figure size 576x360 with 1 Axes>"
      ]
     },
     "metadata": {
      "needs_background": "light"
     },
     "output_type": "display_data"
    },
    {
     "data": {
      "image/png": "[encoded data removed]",
      "text/plain": [
       "<Figure size 576x360 with 1 Axes>"
      ]
     },
     "metadata": {
      "needs_background": "light"
     },
     "output_type": "display_data"
    }
   ],
   "source": [
    "# store numpy arrays of labels in validation data\n",
    "# and the probabilities predicted by the model\n",
    "test_ds = get_dataset([HOLDOUT])\n",
    "\n",
    "y_ds = test_ds.map(lambda X, y: y)\n",
    "labels = np.vstack(list(y_ds.as_numpy_iterator()))\n",
    "\n",
    "X_ds = test_ds.map(lambda X, y: X)\n",
    "probs = model.predict(X_ds)\n",
    "\n",
    "# precision vs recall\n",
    "precisions, recalls, thresholds = precision_recall_curve(labels, probs)\n",
    "\n",
    "plt.figure(figsize=(8, 5))\n",
    "plt.plot(thresholds, precisions[:-1], \"tab:blue\", label=\"Precision\")\n",
    "plt.plot(thresholds, recalls[:-1], \"tab:orange\", label=\"Recall\")\n",
    "plt.legend()\n",
    "plt.xlabel(\"Threshold\")\n",
    "plt.title(\"Precision/recall at threshold\")\n",
    "plt.axis([0, 1, 0, 1])\n",
    "plt.grid(True)\n",
    "plt.show()\n",
    "\n",
    "plt.figure(figsize=(8, 5))\n",
    "plt.plot(recalls, precisions, \"tab:blue\")\n",
    "plt.xlabel(\"Recall\")\n",
    "plt.ylabel(\"Precision\")\n",
    "plt.title(\"Precision at recall\")\n",
    "plt.axis([0, 1, 0, 1])\n",
    "plt.grid(True)\n",
    "plt.show()\n",
    "\n",
    "# ROC curve\n",
    "false_positives, true_positives, thresholds = roc_curve(labels, probs)\n",
    "plt.figure(figsize=(8, 5))\n",
    "plt.plot(false_positives, true_positives, \"tab:blue\")\n",
    "plt.plot([0, 1], [0, 1], \"tab:gray\")\n",
    "plt.xlabel(\"False positive rate\")\n",
    "plt.ylabel(\"True positive rate\")\n",
    "plt.title(\"ROC curve\")\n",
    "plt.axis([0, 1, 0, 1])\n",
    "plt.grid(True)\n",
    "plt.show()"
   ]
  },
  {
   "cell_type": "markdown",
   "metadata": {
    "papermill": {
     "duration": 17.18018,
     "end_time": "2020-12-12T05:33:06.558632",
     "exception": false,
     "start_time": "2020-12-12T05:32:49.378452",
     "status": "completed"
    },
    "tags": []
   },
   "source": [
    "Save the model architecture and weights."
   ]
  },
  {
   "cell_type": "code",
   "execution_count": 8,
   "metadata": {
    "execution": {
     "iopub.execute_input": "2020-12-12T05:33:40.884939Z",
     "iopub.status.busy": "2020-12-12T05:33:40.873835Z",
     "iopub.status.idle": "2020-12-12T05:33:41.211005Z",
     "shell.execute_reply": "2020-12-12T05:33:41.210331Z"
    },
    "papermill": {
     "duration": 17.435457,
     "end_time": "2020-12-12T05:33:41.211131",
     "exception": false,
     "start_time": "2020-12-12T05:33:23.775674",
     "status": "completed"
    },
    "tags": []
   },
   "outputs": [],
   "source": [
    "with open(\"model.json\", \"w\") as f:\n",
    "    f.write(model.to_json())\n",
    "\n",
    "model.save_weights(\"model.h5\")"
   ]
  }
 ],
 "metadata": {
  "kernelspec": {
   "display_name": "Python 3",
   "language": "python",
   "name": "python3"
  },
  "language_info": {
   "codemirror_mode": {
    "name": "ipython",
    "version": 3
   },
   "file_extension": ".py",
   "mimetype": "text/x-python",
   "name": "python",
   "nbconvert_exporter": "python",
   "pygments_lexer": "ipython3",
   "version": "3.8.5"
  },
  "papermill": {
   "duration": 14297.786295,
   "end_time": "2020-12-12T05:33:58.370151",
   "environment_variables": {},
   "exception": null,
   "input_path": "__notebook__.ipynb",
   "output_path": "__notebook__.ipynb",
   "parameters": {},
   "start_time": "2020-12-12T01:35:40.583856",
   "version": "2.1.0"
  }
 },
 "nbformat": 4,
 "nbformat_minor": 4
}
