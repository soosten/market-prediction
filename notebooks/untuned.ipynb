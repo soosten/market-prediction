{
 "cells": [
  {
   "cell_type": "markdown",
   "metadata": {
    "papermill": {
     "duration": 0.006203,
     "end_time": "2021-03-02T10:45:05.050716",
     "exception": false,
     "start_time": "2021-03-02T10:45:05.044513",
     "status": "completed"
    },
    "tags": []
   },
   "source": [
    "# Jane Street - Untuned Submission\n",
    "This notebook is the second of two actually submitted to the competition. It loads the ensemble with equal weights and decision threshold set at 0.5 and then makes the prediction using Jane Street's API."
   ]
  },
  {
   "cell_type": "code",
   "execution_count": 1,
   "metadata": {
    "execution": {
     "iopub.execute_input": "2021-03-02T10:45:05.065484Z",
     "iopub.status.busy": "2021-03-02T10:45:05.064905Z",
     "iopub.status.idle": "2021-03-02T10:45:14.341324Z",
     "shell.execute_reply": "2021-03-02T10:45:14.340107Z"
    },
    "papermill": {
     "duration": 9.285871,
     "end_time": "2021-03-02T10:45:14.341580",
     "exception": false,
     "start_time": "2021-03-02T10:45:05.055709",
     "status": "completed"
    },
    "tags": []
   },
   "outputs": [],
   "source": [
    "import joblib\n",
    "import json\n",
    "import os\n",
    "\n",
    "import numpy as np\n",
    "import pandas as pd\n",
    "\n",
    "import matplotlib.pyplot as plt\n",
    "import seaborn as sns\n",
    "\n",
    "import tensorflow as tf\n",
    "from tensorflow import keras\n",
    "\n",
    "from xgboost import XGBClassifier\n",
    "\n",
    "import janestreet"
   ]
  },
  {
   "cell_type": "markdown",
   "metadata": {
    "papermill": {
     "duration": 0.004463,
     "end_time": "2021-03-02T10:45:14.351087",
     "exception": false,
     "start_time": "2021-03-02T10:45:14.346624",
     "status": "completed"
    },
    "tags": []
   },
   "source": [
    "Load the models."
   ]
  },
  {
   "cell_type": "code",
   "execution_count": 2,
   "metadata": {
    "execution": {
     "iopub.execute_input": "2021-03-02T10:45:14.367964Z",
     "iopub.status.busy": "2021-03-02T10:45:14.367289Z",
     "iopub.status.idle": "2021-03-02T10:45:28.755766Z",
     "shell.execute_reply": "2021-03-02T10:45:28.755124Z"
    },
    "papermill": {
     "duration": 14.40019,
     "end_time": "2021-03-02T10:45:28.755905",
     "exception": false,
     "start_time": "2021-03-02T10:45:14.355715",
     "status": "completed"
    },
    "tags": []
   },
   "outputs": [],
   "source": [
    "# load NN model\n",
    "model_folder = os.path.join(os.pardir, \"input\", \"jane-street-nn\")\n",
    "\n",
    "with open(os.path.join(model_folder, \"model.json\"), \"r\") as f:\n",
    "    nn = keras.models.model_from_json(f.read())\n",
    "\n",
    "nn.load_weights(os.path.join(model_folder, \"model.h5\"))\n",
    "nn.call = tf.function(nn.call, experimental_relax_shapes=True)\n",
    "\n",
    "nn_pp = joblib.load(os.path.join(model_folder, \"preprocessor.pkl\"))\n",
    "\n",
    "\n",
    "# load EDA XGB model\n",
    "model_folder = os.path.join(os.pardir, \"input\", \"jane-street-eda-xgb\")\n",
    "\n",
    "edaxgb = XGBClassifier()\n",
    "edaxgb.load_model(os.path.join(model_folder, \"model.xgb\"))\n",
    "\n",
    "edaxgb_pp = joblib.load(os.path.join(model_folder, \"preprocessor.pkl\"))\n",
    "\n",
    "\n",
    "# load PLS XGB model\n",
    "model_folder = os.path.join(os.pardir, \"input\", \"jane-street-pls-xgb\")\n",
    "\n",
    "plsxgb = XGBClassifier()\n",
    "plsxgb.load_model(os.path.join(model_folder, \"model.xgb\"))\n",
    "\n",
    "plsxgb_pp = joblib.load(os.path.join(model_folder, \"preprocessor.pkl\"))"
   ]
  },
  {
   "cell_type": "markdown",
   "metadata": {
    "papermill": {
     "duration": 0.004583,
     "end_time": "2021-03-02T10:45:28.765683",
     "exception": false,
     "start_time": "2021-03-02T10:45:28.761100",
     "status": "completed"
    },
    "tags": []
   },
   "source": [
    "Define a function that takes a new sample and returns the ensemble's prediction."
   ]
  },
  {
   "cell_type": "code",
   "execution_count": 3,
   "metadata": {
    "execution": {
     "iopub.execute_input": "2021-03-02T10:45:28.780686Z",
     "iopub.status.busy": "2021-03-02T10:45:28.780141Z",
     "iopub.status.idle": "2021-03-02T10:45:28.784399Z",
     "shell.execute_reply": "2021-03-02T10:45:28.783913Z"
    },
    "papermill": {
     "duration": 0.014019,
     "end_time": "2021-03-02T10:45:28.784517",
     "exception": false,
     "start_time": "2021-03-02T10:45:28.770498",
     "status": "completed"
    },
    "tags": []
   },
   "outputs": [],
   "source": [
    "# function to return predictions for the current trade\n",
    "def predict(sample):\n",
    "    X = sample.to_numpy()\n",
    "    \n",
    "    nn_pred = nn(nn_pp.transform(X), training=False)\n",
    "    nn_pred = nn_pred.numpy().item()\n",
    "    \n",
    "    plsxgb_pred = plsxgb.predict_proba(plsxgb_pp.transform(X))\n",
    "    plsxgb_pred = plsxgb_pred[0, 1]\n",
    "    \n",
    "    edaxgb_pred = edaxgb.predict_proba(edaxgb_pp.transform(X))\n",
    "    edaxgb_pred = edaxgb_pred[0, 1]\n",
    "    \n",
    "    ensemble_pred = (nn_pred + edaxgb_pred + plsxgb_pred) / 3\n",
    "    return 1 if ensemble_pred > 0.5 else 0"
   ]
  },
  {
   "cell_type": "markdown",
   "metadata": {
    "papermill": {
     "duration": 0.004438,
     "end_time": "2021-03-02T10:45:28.793609",
     "exception": false,
     "start_time": "2021-03-02T10:45:28.789171",
     "status": "completed"
    },
    "tags": []
   },
   "source": [
    "Make the predictions for the new samples using Jane Street's API."
   ]
  },
  {
   "cell_type": "code",
   "execution_count": 4,
   "metadata": {
    "execution": {
     "iopub.execute_input": "2021-03-02T10:45:28.809306Z",
     "iopub.status.busy": "2021-03-02T10:45:28.808800Z",
     "iopub.status.idle": "2021-03-02T10:48:36.218294Z",
     "shell.execute_reply": "2021-03-02T10:48:36.217324Z"
    },
    "papermill": {
     "duration": 187.420312,
     "end_time": "2021-03-02T10:48:36.218498",
     "exception": false,
     "start_time": "2021-03-02T10:45:28.798186",
     "status": "completed"
    },
    "tags": []
   },
   "outputs": [],
   "source": [
    "env = janestreet.make_env()\n",
    "features = [f\"feature_{x}\" for x in range(130)]\n",
    "\n",
    "for (sample, pred) in env.iter_test():\n",
    "    pred.action = predict(sample[features]) if sample[\"weight\"].item() > 0.0 else 0\n",
    "    env.predict(pred)"
   ]
  }
 ],
 "metadata": {
  "kernelspec": {
   "display_name": "Python 3",
   "language": "python",
   "name": "python3"
  },
  "language_info": {
   "codemirror_mode": {
    "name": "ipython",
    "version": 3
   },
   "file_extension": ".py",
   "mimetype": "text/x-python",
   "name": "python",
   "nbconvert_exporter": "python",
   "pygments_lexer": "ipython3",
   "version": "3.8.5"
  },
  "papermill": {
   "duration": 218.733889,
   "end_time": "2021-03-02T10:48:39.021291",
   "environment_variables": {},
   "exception": null,
   "input_path": "__notebook__.ipynb",
   "output_path": "__notebook__.ipynb",
   "parameters": {},
   "start_time": "2021-03-02T10:45:00.287402",
   "version": "2.1.0"
  }
 },
 "nbformat": 4,
 "nbformat_minor": 4
}
