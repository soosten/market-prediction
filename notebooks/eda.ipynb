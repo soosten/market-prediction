{
 "cells": [
  {
   "cell_type": "markdown",
   "metadata": {},
   "source": [
    "## Jane Street Market Prediction - EDA\n",
    "\n",
    "This notebook explores the dataset provided in the __[Jane Street Market Prediction](https://www.kaggle.com/c/jane-street-market-prediction)__ competition."
   ]
  },
  {
   "cell_type": "code",
   "execution_count": null,
   "metadata": {},
   "outputs": [],
   "source": [
    "import json\n",
    "import os\n",
    "\n",
    "import pandas as pd\n",
    "import cv2 as cv\n",
    "\n",
    "import matplotlib.pyplot as plt\n",
    "import seaborn as sns\n",
    "\n",
    "# location of data files\n",
    "comp_folder = os.path.join(os.pardir, \"input\", \"jane-street-market-prediction\")\n",
    "train_images = os.path.join(comp_folder, \"train_images\")\n",
    "labels_csv = os.path.join(comp_folder, \"train.csv\")\n",
    "strings_json = os.path.join(comp_folder, \"label_num_to_disease_map.json\")"
   ]
  },
  {
   "cell_type": "markdown",
   "metadata": {},
   "source": [
    "Look at the label data frame and the class imbalance."
   ]
  },
  {
   "cell_type": "code",
   "execution_count": null,
   "metadata": {},
   "outputs": [],
   "source": [
    "# read labels and create a column with the names\n",
    "with open(strings_json) as file:\n",
    "    label_to_disease = {l: s.replace(\"Cassava \", \"\") \n",
    "                        for l, s in json.loads(file.read()).items()}\n",
    "\n",
    "df = pd.read_csv(labels_csv, index_col=\"image_id\")\n",
    "df[\"disease\"] = df[\"label\"].astype(str).map(label_to_disease)\n",
    "\n",
    "# take a look at the structure of train.csv\n",
    "print(df)\n",
    "\n",
    "# calculate percentage samples with each disease\n",
    "percentages = 100 * df[\"disease\"].value_counts(normalize=True, sort=False)\n",
    "\n",
    "# plot as a barplot\n",
    "bar, ax = plt.subplots(figsize=(8, 5))\n",
    "ax = sns.barplot(x=percentages, y=percentages.index, orient=\"h\")\n",
    "ax.set_title(\"Label Distribution\")\n",
    "ax.get_xaxis().set_visible(False)\n",
    "plt.box(False)\n",
    "\n",
    "for rect in ax.patches:\n",
    "    width = rect.get_width()\n",
    "    height = rect.get_height() \n",
    "    ax.text(width, rect.get_y() + height / 1.7, f\"  {round(width, 2)}%\")"
   ]
  },
  {
   "cell_type": "markdown",
   "metadata": {},
   "source": [
    "Check how many images of each shape we have."
   ]
  },
  {
   "cell_type": "code",
   "execution_count": null,
   "metadata": {},
   "outputs": [],
   "source": [
    "shapes = {}\n",
    "for file in os.listdir(train_images):\n",
    "    # read the image and increase the counter for that shape\n",
    "    image = cv.imread(os.path.join(train_images, file))\n",
    "    shapes[image.shape] = shapes.get(image.shape, 0) + 1\n",
    "\n",
    "print(f\"Number of training images: {sum(shapes.values())}\")\n",
    "print(f\"Shapes of the training images: {shapes}\")"
   ]
  },
  {
   "cell_type": "markdown",
   "metadata": {},
   "source": [
    "Show some sample images for each type of disease."
   ]
  },
  {
   "cell_type": "code",
   "execution_count": null,
   "metadata": {},
   "outputs": [],
   "source": [
    "for disease in label_to_disease.values():\n",
    "    plt.figure(figsize=(16, 12))\n",
    "\n",
    "    # sample 9 images with the given disease\n",
    "    plot_df = df[df[\"disease\"] == disease].sample(9)\n",
    "    \n",
    "    for ix, file in enumerate(plot_df.index.values):\n",
    "        # read the image and convert to RGB (order the channels correctly)\n",
    "        image = cv.imread(os.path.join(train_images, file))\n",
    "        image = cv.cvtColor(image, cv.COLOR_BGR2RGB)\n",
    "\n",
    "        # plot the image in the appropriate subplot\n",
    "        plt.subplot(3, 3, ix + 1)\n",
    "        plt.imshow(image)\n",
    "        plt.title(disease)\n",
    "        plt.axis(\"off\")"
   ]
  }
 ],
 "metadata": {
  "kernelspec": {
   "display_name": "Python 3",
   "language": "python",
   "name": "python3"
  },
  "language_info": {
   "codemirror_mode": {
    "name": "ipython",
    "version": 3
   },
   "file_extension": ".py",
   "mimetype": "text/x-python",
   "name": "python",
   "nbconvert_exporter": "python",
   "pygments_lexer": "ipython3",
   "version": "3.8.5"
  }
 },
 "nbformat": 4,
 "nbformat_minor": 4
}
