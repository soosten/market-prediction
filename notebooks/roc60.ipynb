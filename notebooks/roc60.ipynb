{
 "cells": [
  {
   "cell_type": "markdown",
   "metadata": {
    "papermill": {
     "duration": 0.018439,
     "end_time": "2020-12-16T19:51:45.430865",
     "exception": false,
     "start_time": "2020-12-16T19:51:45.412426",
     "status": "completed"
    },
    "tags": []
   },
   "source": [
    "# Jane Street Market Prediction - TPU Training\n",
    "\n",
    "To run this notebook on kaggle, open the interactive editor and select to `Google Cloud SDK` from the `Addons` dropdown menu. Follow the instructions to link a Google Cloud account. Then select `TPU v3-8` as the accelerator in the `Settings` pane on the right before running the notebook."
   ]
  },
  {
   "cell_type": "markdown",
   "metadata": {
    "papermill": {
     "duration": 0.013646,
     "end_time": "2020-12-16T19:51:45.459459",
     "exception": false,
     "start_time": "2020-12-16T19:51:45.445813",
     "status": "completed"
    },
    "tags": []
   },
   "source": [
    "Run some setup code."
   ]
  },
  {
   "cell_type": "code",
   "execution_count": 1,
   "metadata": {
    "execution": {
     "iopub.execute_input": "2020-12-16T19:51:45.501130Z",
     "iopub.status.busy": "2020-12-16T19:51:45.500342Z",
     "iopub.status.idle": "2020-12-16T19:51:58.565536Z",
     "shell.execute_reply": "2020-12-16T19:51:58.564561Z"
    },
    "papermill": {
     "duration": 13.092212,
     "end_time": "2020-12-16T19:51:58.565712",
     "exception": false,
     "start_time": "2020-12-16T19:51:45.473500",
     "status": "completed"
    },
    "tags": []
   },
   "outputs": [],
   "source": [
    "import json\n",
    "import os\n",
    "\n",
    "import numpy as np\n",
    "import pandas as pd\n",
    "\n",
    "import matplotlib.pyplot as plt\n",
    "import seaborn as sns\n",
    "\n",
    "from sklearn.metrics import precision_recall_curve, roc_curve\n",
    "\n",
    "import tensorflow as tf\n",
    "from tensorflow import keras\n",
    "from tensorflow.keras import layers\n",
    "\n",
    "from tensorflow.keras.callbacks import EarlyStopping, ReduceLROnPlateau\n",
    "from tensorflow.keras.losses import BinaryCrossentropy\n",
    "from tensorflow.keras.metrics import AUC, PrecisionAtRecall\n",
    "from tensorflow.keras.optimizers import SGD\n",
    "\n",
    "from kaggle_datasets import KaggleDatasets\n",
    "from kaggle_secrets import UserSecretsClient\n",
    "\n",
    "# make the x,y labels legible on plots\n",
    "plt.rc(\"axes\", labelsize=16)\n",
    "\n",
    "# set up the TPU\n",
    "tpu = tf.distribute.cluster_resolver.TPUClusterResolver()\n",
    "tf.config.experimental_connect_to_cluster(tpu)\n",
    "tf.tpu.experimental.initialize_tpu_system(tpu)\n",
    "tpu_strategy = tf.distribute.experimental.TPUStrategy(tpu)\n",
    "tpu_replicas = tpu_strategy.num_replicas_in_sync\n",
    "\n",
    "# get dataset credential from the Google Cloud SDK\n",
    "# and  pass credential to tensorflow\n",
    "# this needs to run after TPU intialization\n",
    "user_secrets = UserSecretsClient()\n",
    "user_credential = user_secrets.get_gcloud_credential()\n",
    "user_secrets.set_tensorflow_credential(user_credential)\n",
    "\n",
    "# set tensorflow's random seed\n",
    "tf.random.set_seed(13)"
   ]
  },
  {
   "cell_type": "markdown",
   "metadata": {
    "papermill": {
     "duration": 0.016345,
     "end_time": "2020-12-16T19:51:58.599927",
     "exception": false,
     "start_time": "2020-12-16T19:51:58.583582",
     "status": "completed"
    },
    "tags": []
   },
   "source": [
    "Settings."
   ]
  },
  {
   "cell_type": "code",
   "execution_count": 2,
   "metadata": {
    "execution": {
     "iopub.execute_input": "2020-12-16T19:51:58.636749Z",
     "iopub.status.busy": "2020-12-16T19:51:58.635471Z",
     "iopub.status.idle": "2020-12-16T19:51:58.646149Z",
     "shell.execute_reply": "2020-12-16T19:51:58.645041Z"
    },
    "papermill": {
     "duration": 0.032942,
     "end_time": "2020-12-16T19:51:58.646387",
     "exception": false,
     "start_time": "2020-12-16T19:51:58.613445",
     "status": "completed"
    },
    "tags": []
   },
   "outputs": [],
   "source": [
    "# training parameters\n",
    "EPOCHS = 100\n",
    "BATCH_SIZE = 32 * tpu_replicas\n",
    "LEARNING_RATE = 0.01\n",
    "MIN_RECALL = 0.55\n",
    "LABEL_SMOOTHING = 0\n",
    "\n",
    "# cross-validation parameters\n",
    "FOLDS = 5\n",
    "HOLDOUT = 4\n",
    "\n",
    "# model parameters\n",
    "WINDOW_SIZE = 40\n",
    "NOISE = 0.05\n",
    "\n",
    "# write relevant parameters to params.json for other notebooks\n",
    "params = {\"holdout\": HOLDOUT, \"window_size\": WINDOW_SIZE}\n",
    "with open(os.path.join(os.curdir, \"params.json\"), \"w\") as file:\n",
    "    json.dump(params, file)"
   ]
  },
  {
   "cell_type": "markdown",
   "metadata": {
    "papermill": {
     "duration": 0.011991,
     "end_time": "2020-12-16T19:51:58.675099",
     "exception": false,
     "start_time": "2020-12-16T19:51:58.663108",
     "status": "completed"
    },
    "tags": []
   },
   "source": [
    "`get_dataset()` returns a dataset generated from the folds in the list `folds`."
   ]
  },
  {
   "cell_type": "code",
   "execution_count": 3,
   "metadata": {
    "execution": {
     "iopub.execute_input": "2020-12-16T19:51:58.705821Z",
     "iopub.status.busy": "2020-12-16T19:51:58.704912Z",
     "iopub.status.idle": "2020-12-16T19:51:58.739427Z",
     "shell.execute_reply": "2020-12-16T19:51:58.738780Z"
    },
    "papermill": {
     "duration": 0.051884,
     "end_time": "2020-12-16T19:51:58.739596",
     "exception": false,
     "start_time": "2020-12-16T19:51:58.687712",
     "status": "completed"
    },
    "tags": []
   },
   "outputs": [],
   "source": [
    "def get_dataset(folds, repeat=False, shuffle=False, cache=False):\n",
    "    # load a dictionary mapping feature names to columns\n",
    "    col_file = os.path.join(os.pardir, \"input\",\n",
    "                            \"jane-street-market-prediction-data\",\n",
    "                            \"columns.json\")\n",
    "    with open(col_file) as file:\n",
    "        cols = json.loads(file.read())\n",
    "\n",
    "    # shorthand notation for autotune option\n",
    "    auto = tf.data.experimental.AUTOTUNE\n",
    "\n",
    "    # opens a tf record in filename as a dataset that parses serialized\n",
    "    # tensors and returns sliding windows of WINDOW_SIZE samples\n",
    "    def open_windowed_ds(filename):\n",
    "        ds = tf.data.TFRecordDataset(filename)\n",
    "        ds = ds.map(lambda x: tf.io.parse_tensor(x, tf.float32), num_parallel_calls=auto)\n",
    "        ds = ds.window(WINDOW_SIZE, shift=1, drop_remainder=True)\n",
    "        ds = ds.flat_map(lambda x: x.batch(WINDOW_SIZE))\n",
    "        return ds\n",
    "\n",
    "    # create a dataset with filenames of tf records in files_ds\n",
    "    # then interleave the datasets obtained by calling\n",
    "    # open_windowed_ds(x) on each element of files_ds\n",
    "    data_path = KaggleDatasets().get_gcs_path()\n",
    "    patterns = [data_path + f\"/fold{fold}\" + \"/*.tfrec\" for fold in folds]\n",
    "    files = tf.io.gfile.glob(patterns)\n",
    "    files_ds = tf.data.Dataset.from_tensor_slices(files)\n",
    "    ds = files_ds.interleave(open_windowed_ds, num_parallel_calls=auto)\n",
    "\n",
    "    # filter out any time series spanning multiple dates\n",
    "    def single_date(series):\n",
    "        dates, ix = tf.unique(series[:, cols[\"date\"]])\n",
    "        return tf.equal(tf.size(dates), tf.constant(1))\n",
    "\n",
    "    ds = ds.filter(single_date)\n",
    "\n",
    "    # separate the series into a training sample consisting\n",
    "    # of the features and a label indicating whether the\n",
    "    # response at final time is positive\n",
    "    # need to explicitly reshape the tensors here for things\n",
    "    # to work properly on TPU\n",
    "    def collate(series):\n",
    "        resp = tf.reshape(series[:-1, cols[\"resp\"]], [WINDOW_SIZE - 1, 1])\n",
    "        resp = tf.pad(resp, [[0, 1], [0, 0]])\n",
    "        X = series[:, cols[\"feature_0\"]:(cols[\"feature_129\"] + 1)]\n",
    "        X = tf.concat([X, resp], 1)\n",
    "        y = (1.0 + tf.sign(series[-1, cols[\"resp\"]])) / 2.0\n",
    "        return tf.reshape(X, [WINDOW_SIZE, 131]), tf.reshape(y, [1])\n",
    "\n",
    "    ds = ds.map(collate, num_parallel_calls=auto)\n",
    "\n",
    "    # if shuffling, allow the dataset to ignore the order for speed\n",
    "    ignore_order = tf.data.Options()\n",
    "    ignore_order.experimental_deterministic = not shuffle\n",
    "    ds = ds.with_options(ignore_order)\n",
    "\n",
    "    # check if the dataset should repeat once exhausted\n",
    "    ds = ds.repeat() if repeat else ds\n",
    "    \n",
    "    # check if we should shuffle the dataset\n",
    "    ds = ds.shuffle(4 * BATCH_SIZE) if shuffle else ds\n",
    "\n",
    "    # set the batch size of the dataset\n",
    "    ds = ds.batch(BATCH_SIZE)\n",
    "    \n",
    "    # check if we should cache the dataset\n",
    "    ds = ds.cache() if cache else ds\n",
    "\n",
    "    # prefetch new batches in the background\n",
    "    ds = ds.prefetch(auto)\n",
    "\n",
    "    return ds\n",
    "\n",
    "\n",
    "# load a simpler non-windowed version of training set\n",
    "# to adapt the normalization layer - see comments in\n",
    "# get_dataset() for explanations\n",
    "def get_norm_dataset(folds):\n",
    "    col_file = os.path.join(os.pardir, \"input\",\n",
    "                            \"jane-street-market-prediction-data\",\n",
    "                            \"columns.json\")\n",
    "\n",
    "    with open(col_file) as file:\n",
    "        cols = json.loads(file.read())\n",
    "\n",
    "    def parse(serialized):\n",
    "        tensor = tf.io.parse_tensor(serialized, tf.float32)\n",
    "        resp = tf.reshape(tensor[cols[\"resp\"]], [1])\n",
    "        X = tensor[cols[\"feature_0\"]:(cols[\"feature_129\"] + 1)]\n",
    "        X = tf.concat([X, resp], 0)\n",
    "        return tf.reshape(X, [131])\n",
    "\n",
    "    auto = tf.data.experimental.AUTOTUNE\n",
    "    ignore_order = tf.data.Options()\n",
    "    ignore_order.experimental_deterministic = False\n",
    "\n",
    "    data_path = KaggleDatasets().get_gcs_path()\n",
    "    patterns = [data_path + f\"/fold{fold}\" + \"/*.tfrec\" for fold in folds]\n",
    "    ds = tf.data.TFRecordDataset(tf.io.gfile.glob(patterns), num_parallel_reads=auto)\n",
    "    \n",
    "    ds = ds.with_options(ignore_order)\n",
    "    ds = ds.map(parse, num_parallel_calls=auto)\n",
    "    ds = ds.batch(BATCH_SIZE)\n",
    "    ds = ds.prefetch(auto)\n",
    "    \n",
    "    return ds"
   ]
  },
  {
   "cell_type": "markdown",
   "metadata": {
    "papermill": {
     "duration": 0.012501,
     "end_time": "2020-12-16T19:51:58.765139",
     "exception": false,
     "start_time": "2020-12-16T19:51:58.752638",
     "status": "completed"
    },
    "tags": []
   },
   "source": [
    "Define the model."
   ]
  },
  {
   "cell_type": "code",
   "execution_count": 4,
   "metadata": {
    "execution": {
     "iopub.execute_input": "2020-12-16T19:51:58.818636Z",
     "iopub.status.busy": "2020-12-16T19:51:58.817707Z",
     "iopub.status.idle": "2020-12-16T19:52:38.419577Z",
     "shell.execute_reply": "2020-12-16T19:52:38.420172Z"
    },
    "papermill": {
     "duration": 39.643013,
     "end_time": "2020-12-16T19:52:38.420360",
     "exception": false,
     "start_time": "2020-12-16T19:51:58.777347",
     "status": "completed"
    },
    "tags": []
   },
   "outputs": [
    {
     "name": "stdout",
     "output_type": "stream",
     "text": [
      "Model: \"model\"\n",
      "__________________________________________________________________________________________________\n",
      "Layer (type)                    Output Shape         Param #     Connected to                     \n",
      "==================================================================================================\n",
      "input_1 (InputLayer)            [(None, 40, 131)]    0                                            \n",
      "__________________________________________________________________________________________________\n",
      "normalization (Normalization)   (None, 40, 131)      263         input_1[0][0]                    \n",
      "__________________________________________________________________________________________________\n",
      "gaussian_noise (GaussianNoise)  (None, 40, 131)      0           normalization[0][0]              \n",
      "__________________________________________________________________________________________________\n",
      "batch_normalization (BatchNorma (None, 40, 131)      524         gaussian_noise[0][0]             \n",
      "__________________________________________________________________________________________________\n",
      "conv1d_1 (Conv1D)               (None, 40, 256)      100864      batch_normalization[0][0]        \n",
      "__________________________________________________________________________________________________\n",
      "batch_normalization_1 (BatchNor (None, 40, 256)      1024        conv1d_1[0][0]                   \n",
      "__________________________________________________________________________________________________\n",
      "activation (Activation)         (None, 40, 256)      0           batch_normalization_1[0][0]      \n",
      "__________________________________________________________________________________________________\n",
      "spatial_dropout1d (SpatialDropo (None, 40, 256)      0           activation[0][0]                 \n",
      "__________________________________________________________________________________________________\n",
      "conv1d (Conv1D)                 (None, 40, 256)      33792       batch_normalization[0][0]        \n",
      "__________________________________________________________________________________________________\n",
      "conv1d_2 (Conv1D)               (None, 40, 256)      196864      spatial_dropout1d[0][0]          \n",
      "__________________________________________________________________________________________________\n",
      "add (Add)                       (None, 40, 256)      0           conv1d[0][0]                     \n",
      "                                                                 conv1d_2[0][0]                   \n",
      "__________________________________________________________________________________________________\n",
      "batch_normalization_2 (BatchNor (None, 40, 256)      1024        add[0][0]                        \n",
      "__________________________________________________________________________________________________\n",
      "activation_1 (Activation)       (None, 40, 256)      0           batch_normalization_2[0][0]      \n",
      "__________________________________________________________________________________________________\n",
      "spatial_dropout1d_1 (SpatialDro (None, 40, 256)      0           activation_1[0][0]               \n",
      "__________________________________________________________________________________________________\n",
      "conv1d_3 (Conv1D)               (None, 40, 256)      196864      spatial_dropout1d_1[0][0]        \n",
      "__________________________________________________________________________________________________\n",
      "batch_normalization_3 (BatchNor (None, 40, 256)      1024        conv1d_3[0][0]                   \n",
      "__________________________________________________________________________________________________\n",
      "activation_2 (Activation)       (None, 40, 256)      0           batch_normalization_3[0][0]      \n",
      "__________________________________________________________________________________________________\n",
      "spatial_dropout1d_2 (SpatialDro (None, 40, 256)      0           activation_2[0][0]               \n",
      "__________________________________________________________________________________________________\n",
      "conv1d_4 (Conv1D)               (None, 40, 256)      196864      spatial_dropout1d_2[0][0]        \n",
      "__________________________________________________________________________________________________\n",
      "add_1 (Add)                     (None, 40, 256)      0           spatial_dropout1d_1[0][0]        \n",
      "                                                                 conv1d_4[0][0]                   \n",
      "__________________________________________________________________________________________________\n",
      "batch_normalization_4 (BatchNor (None, 40, 256)      1024        add_1[0][0]                      \n",
      "__________________________________________________________________________________________________\n",
      "activation_3 (Activation)       (None, 40, 256)      0           batch_normalization_4[0][0]      \n",
      "__________________________________________________________________________________________________\n",
      "spatial_dropout1d_3 (SpatialDro (None, 40, 256)      0           activation_3[0][0]               \n",
      "__________________________________________________________________________________________________\n",
      "conv1d_5 (Conv1D)               (None, 40, 256)      196864      spatial_dropout1d_3[0][0]        \n",
      "__________________________________________________________________________________________________\n",
      "batch_normalization_5 (BatchNor (None, 40, 256)      1024        conv1d_5[0][0]                   \n",
      "__________________________________________________________________________________________________\n",
      "activation_4 (Activation)       (None, 40, 256)      0           batch_normalization_5[0][0]      \n",
      "__________________________________________________________________________________________________\n",
      "spatial_dropout1d_4 (SpatialDro (None, 40, 256)      0           activation_4[0][0]               \n",
      "__________________________________________________________________________________________________\n",
      "conv1d_6 (Conv1D)               (None, 40, 256)      196864      spatial_dropout1d_4[0][0]        \n",
      "__________________________________________________________________________________________________\n",
      "add_2 (Add)                     (None, 40, 256)      0           spatial_dropout1d_3[0][0]        \n",
      "                                                                 conv1d_6[0][0]                   \n",
      "__________________________________________________________________________________________________\n",
      "batch_normalization_6 (BatchNor (None, 40, 256)      1024        add_2[0][0]                      \n",
      "__________________________________________________________________________________________________\n",
      "activation_5 (Activation)       (None, 40, 256)      0           batch_normalization_6[0][0]      \n",
      "__________________________________________________________________________________________________\n",
      "spatial_dropout1d_5 (SpatialDro (None, 40, 256)      0           activation_5[0][0]               \n",
      "__________________________________________________________________________________________________\n",
      "conv1d_7 (Conv1D)               (None, 40, 256)      196864      spatial_dropout1d_5[0][0]        \n",
      "__________________________________________________________________________________________________\n",
      "batch_normalization_7 (BatchNor (None, 40, 256)      1024        conv1d_7[0][0]                   \n",
      "__________________________________________________________________________________________________\n",
      "activation_6 (Activation)       (None, 40, 256)      0           batch_normalization_7[0][0]      \n",
      "__________________________________________________________________________________________________\n",
      "spatial_dropout1d_6 (SpatialDro (None, 40, 256)      0           activation_6[0][0]               \n",
      "__________________________________________________________________________________________________\n",
      "conv1d_8 (Conv1D)               (None, 40, 256)      196864      spatial_dropout1d_6[0][0]        \n",
      "__________________________________________________________________________________________________\n",
      "add_3 (Add)                     (None, 40, 256)      0           spatial_dropout1d_5[0][0]        \n",
      "                                                                 conv1d_8[0][0]                   \n",
      "__________________________________________________________________________________________________\n",
      "batch_normalization_8 (BatchNor (None, 40, 256)      1024        add_3[0][0]                      \n",
      "__________________________________________________________________________________________________\n",
      "activation_7 (Activation)       (None, 40, 256)      0           batch_normalization_8[0][0]      \n",
      "__________________________________________________________________________________________________\n",
      "spatial_dropout1d_7 (SpatialDro (None, 40, 256)      0           activation_7[0][0]               \n",
      "__________________________________________________________________________________________________\n",
      "flatten (Flatten)               (None, 10240)        0           spatial_dropout1d_7[0][0]        \n",
      "__________________________________________________________________________________________________\n",
      "dense (Dense)                   (None, 1)            10241       flatten[0][0]                    \n",
      "__________________________________________________________________________________________________\n",
      "activation_8 (Activation)       (None, 1)            0           dense[0][0]                      \n",
      "==================================================================================================\n",
      "Total params: 1,531,924\n",
      "Trainable params: 1,527,303\n",
      "Non-trainable params: 4,621\n",
      "__________________________________________________________________________________________________\n"
     ]
    }
   ],
   "source": [
    "train_folds = [fold for fold in range(FOLDS) if fold != HOLDOUT]\n",
    "\n",
    "# compile model on the TPU\n",
    "with tpu_strategy.scope():\n",
    "    # binary cross-entropy as loss function, SGD as optimizer,\n",
    "    # track precision at recall and area under the ROC curve\n",
    "    loss = BinaryCrossentropy(label_smoothing=LABEL_SMOOTHING)\n",
    "    optimizer = SGD(learning_rate=LEARNING_RATE, momentum=0.9, nesterov=True)\n",
    "    metrics = [PrecisionAtRecall(recall=MIN_RECALL, name=\"p@r\"), AUC(name=\"auc\")]\n",
    "\n",
    "    \n",
    "    # input layer\n",
    "    inputs = layers.Input(shape=[WINDOW_SIZE, 131])\n",
    "    \n",
    "    # normalization layer\n",
    "    norm = layers.experimental.preprocessing.Normalization()\n",
    "    norm_ds = get_norm_dataset(train_folds)\n",
    "    norm.adapt(norm_ds)\n",
    "    flow = norm(inputs)\n",
    "    \n",
    "    # gaussian noise\n",
    "    flow = layers.GaussianNoise(stddev=NOISE)(flow)\n",
    "    flow = layers.BatchNormalization()(flow)\n",
    "    \n",
    "    # resnet\n",
    "    last_filters = 131\n",
    "    for filters, pool in zip([256, 256, 256, 256], [False, False, False, False]):\n",
    "        # skip connection\n",
    "        skip = flow\n",
    "        \n",
    "        # make sure the skip connection has correct number of feature maps\n",
    "        if filters != last_filters:\n",
    "            skip = layers.Conv1D(filters=filters,\n",
    "                                 kernel_size=1,\n",
    "                                 activation=None,\n",
    "                                 padding=\"same\",\n",
    "                                 data_format=\"channels_last\")(skip)\n",
    "\n",
    "        # convolutional block\n",
    "        flow = layers.Conv1D(filters=filters,\n",
    "                             kernel_size=3,\n",
    "                             activation=None,\n",
    "                             padding=\"same\",\n",
    "                             data_format=\"channels_last\")(flow)\n",
    "        flow = layers.BatchNormalization()(flow)\n",
    "        flow = layers.Activation(keras.activations.swish)(flow)\n",
    "        \n",
    "        # dropout entire feature maps\n",
    "        flow = layers.SpatialDropout1D(rate=0.2)(flow)\n",
    "        \n",
    "        flow = layers.Conv1D(filters=filters,\n",
    "                             kernel_size=3,\n",
    "                             activation=None,\n",
    "                             padding=\"same\",\n",
    "                             data_format=\"channels_last\")(flow)\n",
    "\n",
    "        # merge flow and skip\n",
    "        flow = layers.Add()([skip, flow])\n",
    "        flow = layers.BatchNormalization()(flow)\n",
    "        flow = layers.Activation(keras.activations.swish)(flow)\n",
    "        \n",
    "        # dropout entire feature maps\n",
    "        flow = layers.SpatialDropout1D(rate=0.2)(flow)\n",
    "        \n",
    "        # pooling\n",
    "        if pool:\n",
    "            flow = layers.MaxPooling1D(pool_size=2, data_format=\"channels_last\")(flow)\n",
    "        \n",
    "        last_filters = filters\n",
    "    \n",
    "    # flattened layers and dense logic for prediction\n",
    "    flow = layers.Flatten()(flow)    \n",
    "    flow = layers.Dense(units=1)(flow)\n",
    "    outputs = layers.Activation(\"sigmoid\")(flow)\n",
    "\n",
    "    # compile the model and print a summary\n",
    "    model = keras.Model(inputs=inputs, outputs=outputs)\n",
    "    model.compile(loss=loss, optimizer=optimizer, metrics=metrics)\n",
    "    model.summary()"
   ]
  },
  {
   "cell_type": "markdown",
   "metadata": {
    "papermill": {
     "duration": 0.012477,
     "end_time": "2020-12-16T19:52:38.446774",
     "exception": false,
     "start_time": "2020-12-16T19:52:38.434297",
     "status": "completed"
    },
    "tags": []
   },
   "source": [
    "Train the model."
   ]
  },
  {
   "cell_type": "code",
   "execution_count": 5,
   "metadata": {
    "execution": {
     "iopub.execute_input": "2020-12-16T19:52:38.477718Z",
     "iopub.status.busy": "2020-12-16T19:52:38.476591Z",
     "iopub.status.idle": "2020-12-16T22:19:11.812904Z",
     "shell.execute_reply": "2020-12-16T22:19:11.813709Z"
    },
    "papermill": {
     "duration": 8793.354388,
     "end_time": "2020-12-16T22:19:11.813973",
     "exception": false,
     "start_time": "2020-12-16T19:52:38.459585",
     "status": "completed"
    },
    "tags": []
   },
   "outputs": [
    {
     "name": "stdout",
     "output_type": "stream",
     "text": [
      "Epoch 1/100\n",
      "7337/7337 [==============================] - 195s 27ms/step - auc: 0.5086 - p@r: 0.5121 - loss: 0.7257 - val_auc: 0.5059 - val_p@r: 0.5009 - val_loss: 0.7223 - lr: 0.0100\n",
      "Epoch 2/100\n",
      "7337/7337 [==============================] - 182s 25ms/step - auc: 0.5197 - p@r: 0.5186 - loss: 0.6937 - val_auc: 0.5113 - val_p@r: 0.5039 - val_loss: 0.7031 - lr: 0.0100\n",
      "Epoch 3/100\n",
      "7337/7337 [==============================] - 183s 25ms/step - auc: 0.5267 - p@r: 0.5228 - loss: 0.6921 - val_auc: 0.5139 - val_p@r: 0.5057 - val_loss: 0.6938 - lr: 0.0100\n",
      "Epoch 4/100\n",
      "7337/7337 [==============================] - 182s 25ms/step - auc: 0.5302 - p@r: 0.5249 - loss: 0.6915 - val_auc: 0.5168 - val_p@r: 0.5063 - val_loss: 0.6932 - lr: 0.0100\n",
      "Epoch 5/100\n",
      "7337/7337 [==============================] - 181s 25ms/step - auc: 0.5331 - p@r: 0.5264 - loss: 0.6911 - val_auc: 0.5200 - val_p@r: 0.5112 - val_loss: 0.6926 - lr: 0.0100\n",
      "Epoch 6/100\n",
      "7337/7337 [==============================] - 179s 24ms/step - auc: 0.5367 - p@r: 0.5288 - loss: 0.6905 - val_auc: 0.5214 - val_p@r: 0.5083 - val_loss: 0.6926 - lr: 0.0100\n",
      "Epoch 7/100\n",
      "7337/7337 [==============================] - 174s 24ms/step - auc: 0.5393 - p@r: 0.5303 - loss: 0.6899 - val_auc: 0.5222 - val_p@r: 0.5098 - val_loss: 0.6925 - lr: 0.0100\n",
      "Epoch 8/100\n",
      "7337/7337 [==============================] - 164s 22ms/step - auc: 0.5421 - p@r: 0.5320 - loss: 0.6893 - val_auc: 0.5257 - val_p@r: 0.5136 - val_loss: 0.6926 - lr: 0.0100\n",
      "Epoch 9/100\n",
      "7337/7337 [==============================] - 163s 22ms/step - auc: 0.5462 - p@r: 0.5344 - loss: 0.6885 - val_auc: 0.5302 - val_p@r: 0.5157 - val_loss: 0.6916 - lr: 0.0050\n",
      "Epoch 10/100\n",
      "7337/7337 [==============================] - 163s 22ms/step - auc: 0.5502 - p@r: 0.5369 - loss: 0.6877 - val_auc: 0.5318 - val_p@r: 0.5147 - val_loss: 0.6911 - lr: 0.0050\n",
      "Epoch 11/100\n",
      "7337/7337 [==============================] - 161s 22ms/step - auc: 0.5539 - p@r: 0.5394 - loss: 0.6868 - val_auc: 0.5377 - val_p@r: 0.5218 - val_loss: 0.6901 - lr: 0.0050\n",
      "Epoch 12/100\n",
      "7337/7337 [==============================] - 162s 22ms/step - auc: 0.5575 - p@r: 0.5418 - loss: 0.6859 - val_auc: 0.5435 - val_p@r: 0.5231 - val_loss: 0.6891 - lr: 0.0050\n",
      "Epoch 13/100\n",
      "7337/7337 [==============================] - 165s 22ms/step - auc: 0.5607 - p@r: 0.5437 - loss: 0.6849 - val_auc: 0.5492 - val_p@r: 0.5300 - val_loss: 0.6881 - lr: 0.0050\n",
      "Epoch 14/100\n",
      "7337/7337 [==============================] - 162s 22ms/step - auc: 0.5640 - p@r: 0.5459 - loss: 0.6838 - val_auc: 0.5530 - val_p@r: 0.5273 - val_loss: 0.6872 - lr: 0.0050\n",
      "Epoch 15/100\n",
      "7337/7337 [==============================] - 166s 23ms/step - auc: 0.5673 - p@r: 0.5479 - loss: 0.6828 - val_auc: 0.5565 - val_p@r: 0.5295 - val_loss: 0.6865 - lr: 0.0050\n",
      "Epoch 16/100\n",
      "7337/7337 [==============================] - 164s 22ms/step - auc: 0.5694 - p@r: 0.5492 - loss: 0.6818 - val_auc: 0.5592 - val_p@r: 0.5336 - val_loss: 0.6859 - lr: 0.0050\n",
      "Epoch 17/100\n",
      "7337/7337 [==============================] - 163s 22ms/step - auc: 0.5715 - p@r: 0.5499 - loss: 0.6809 - val_auc: 0.5623 - val_p@r: 0.5358 - val_loss: 0.6851 - lr: 0.0050\n",
      "Epoch 18/100\n",
      "7337/7337 [==============================] - 164s 22ms/step - auc: 0.5740 - p@r: 0.5514 - loss: 0.6799 - val_auc: 0.5631 - val_p@r: 0.5388 - val_loss: 0.6843 - lr: 0.0050\n",
      "Epoch 19/100\n",
      "7337/7337 [==============================] - 162s 22ms/step - auc: 0.5758 - p@r: 0.5524 - loss: 0.6789 - val_auc: 0.5651 - val_p@r: 0.5356 - val_loss: 0.6831 - lr: 0.0050\n",
      "Epoch 20/100\n",
      "7337/7337 [==============================] - 165s 22ms/step - auc: 0.5776 - p@r: 0.5533 - loss: 0.6780 - val_auc: 0.5635 - val_p@r: 0.5364 - val_loss: 0.6831 - lr: 0.0050\n",
      "Epoch 21/100\n",
      "7337/7337 [==============================] - 162s 22ms/step - auc: 0.5794 - p@r: 0.5546 - loss: 0.6771 - val_auc: 0.5662 - val_p@r: 0.5392 - val_loss: 0.6820 - lr: 0.0050\n",
      "Epoch 22/100\n",
      "7337/7337 [==============================] - 163s 22ms/step - auc: 0.5808 - p@r: 0.5549 - loss: 0.6763 - val_auc: 0.5689 - val_p@r: 0.5400 - val_loss: 0.6812 - lr: 0.0050\n",
      "Epoch 23/100\n",
      "7337/7337 [==============================] - 166s 23ms/step - auc: 0.5822 - p@r: 0.5555 - loss: 0.6753 - val_auc: 0.5717 - val_p@r: 0.5444 - val_loss: 0.6800 - lr: 0.0050\n",
      "Epoch 24/100\n",
      "7337/7337 [==============================] - 163s 22ms/step - auc: 0.5843 - p@r: 0.5567 - loss: 0.6744 - val_auc: 0.5700 - val_p@r: 0.5432 - val_loss: 0.6799 - lr: 0.0050\n",
      "Epoch 25/100\n",
      "7337/7337 [==============================] - 164s 22ms/step - auc: 0.5852 - p@r: 0.5572 - loss: 0.6736 - val_auc: 0.5702 - val_p@r: 0.5431 - val_loss: 0.6792 - lr: 0.0050\n",
      "Epoch 26/100\n",
      "7337/7337 [==============================] - 161s 22ms/step - auc: 0.5869 - p@r: 0.5632 - loss: 0.6727 - val_auc: 0.5737 - val_p@r: 0.5445 - val_loss: 0.6780 - lr: 0.0050\n",
      "Epoch 27/100\n",
      "7337/7337 [==============================] - 161s 22ms/step - auc: 0.5887 - p@r: 0.5644 - loss: 0.6718 - val_auc: 0.5739 - val_p@r: 0.5398 - val_loss: 0.6772 - lr: 0.0050\n",
      "Epoch 28/100\n",
      "7337/7337 [==============================] - 162s 22ms/step - auc: 0.5897 - p@r: 0.5647 - loss: 0.6711 - val_auc: 0.5745 - val_p@r: 0.5410 - val_loss: 0.6768 - lr: 0.0050\n",
      "Epoch 29/100\n",
      "7337/7337 [==============================] - 163s 22ms/step - auc: 0.5909 - p@r: 0.5655 - loss: 0.6702 - val_auc: 0.5757 - val_p@r: 0.5441 - val_loss: 0.6766 - lr: 0.0050\n",
      "Epoch 30/100\n",
      "7337/7337 [==============================] - 164s 22ms/step - auc: 0.5920 - p@r: 0.5658 - loss: 0.6696 - val_auc: 0.5778 - val_p@r: 0.5475 - val_loss: 0.6753 - lr: 0.0050\n",
      "Epoch 31/100\n",
      "7337/7337 [==============================] - 162s 22ms/step - auc: 0.5933 - p@r: 0.5666 - loss: 0.6688 - val_auc: 0.5814 - val_p@r: 0.5463 - val_loss: 0.6741 - lr: 0.0050\n",
      "Epoch 32/100\n",
      "7337/7337 [==============================] - 163s 22ms/step - auc: 0.5946 - p@r: 0.5675 - loss: 0.6681 - val_auc: 0.5796 - val_p@r: 0.5476 - val_loss: 0.6742 - lr: 0.0050\n",
      "Epoch 33/100\n",
      "7337/7337 [==============================] - 161s 22ms/step - auc: 0.5960 - p@r: 0.5686 - loss: 0.6675 - val_auc: 0.5816 - val_p@r: 0.5450 - val_loss: 0.6733 - lr: 0.0050\n",
      "Epoch 34/100\n",
      "7337/7337 [==============================] - 161s 22ms/step - auc: 0.5968 - p@r: 0.5688 - loss: 0.6668 - val_auc: 0.5796 - val_p@r: 0.5425 - val_loss: 0.6734 - lr: 0.0050\n",
      "Epoch 35/100\n",
      "7337/7337 [==============================] - 162s 22ms/step - auc: 0.5981 - p@r: 0.5705 - loss: 0.6660 - val_auc: 0.5822 - val_p@r: 0.5457 - val_loss: 0.6724 - lr: 0.0025\n",
      "Epoch 36/100\n",
      "7337/7337 [==============================] - 161s 22ms/step - auc: 0.5988 - p@r: 0.5707 - loss: 0.6655 - val_auc: 0.5842 - val_p@r: 0.5529 - val_loss: 0.6717 - lr: 0.0025\n",
      "Epoch 37/100\n",
      "7337/7337 [==============================] - 164s 22ms/step - auc: 0.5995 - p@r: 0.5706 - loss: 0.6651 - val_auc: 0.5864 - val_p@r: 0.5518 - val_loss: 0.6709 - lr: 0.0025\n",
      "Epoch 38/100\n",
      "7337/7337 [==============================] - 165s 22ms/step - auc: 0.6002 - p@r: 0.5712 - loss: 0.6647 - val_auc: 0.5858 - val_p@r: 0.5479 - val_loss: 0.6714 - lr: 0.0025\n",
      "Epoch 39/100\n",
      "7337/7337 [==============================] - 161s 22ms/step - auc: 0.6004 - p@r: 0.5718 - loss: 0.6645 - val_auc: 0.5887 - val_p@r: 0.5527 - val_loss: 0.6704 - lr: 0.0025\n",
      "Epoch 40/100\n",
      "7337/7337 [==============================] - 165s 22ms/step - auc: 0.6015 - p@r: 0.5726 - loss: 0.6640 - val_auc: 0.5900 - val_p@r: 0.5544 - val_loss: 0.6697 - lr: 0.0025\n",
      "Epoch 41/100\n",
      "7337/7337 [==============================] - 164s 22ms/step - auc: 0.6020 - p@r: 0.5724 - loss: 0.6638 - val_auc: 0.5903 - val_p@r: 0.5528 - val_loss: 0.6693 - lr: 0.0025\n",
      "Epoch 42/100\n",
      "7337/7337 [==============================] - 164s 22ms/step - auc: 0.6025 - p@r: 0.5729 - loss: 0.6634 - val_auc: 0.5904 - val_p@r: 0.5507 - val_loss: 0.6694 - lr: 0.0025\n",
      "Epoch 43/100\n",
      "7337/7337 [==============================] - 162s 22ms/step - auc: 0.6025 - p@r: 0.5729 - loss: 0.6632 - val_auc: 0.5913 - val_p@r: 0.5525 - val_loss: 0.6694 - lr: 0.0025\n",
      "Epoch 44/100\n",
      "7337/7337 [==============================] - 165s 23ms/step - auc: 0.6033 - p@r: 0.5730 - loss: 0.6628 - val_auc: 0.5914 - val_p@r: 0.5546 - val_loss: 0.6684 - lr: 0.0012\n",
      "Epoch 45/100\n",
      "7337/7337 [==============================] - 162s 22ms/step - auc: 0.6033 - p@r: 0.5733 - loss: 0.6626 - val_auc: 0.5915 - val_p@r: 0.5582 - val_loss: 0.6687 - lr: 0.0012\n",
      "Epoch 46/100\n",
      "7337/7337 [==============================] - 165s 23ms/step - auc: 0.6041 - p@r: 0.5737 - loss: 0.6623 - val_auc: 0.5912 - val_p@r: 0.5500 - val_loss: 0.6687 - lr: 0.0012\n",
      "Epoch 47/100\n",
      "7337/7337 [==============================] - 164s 22ms/step - auc: 0.6046 - p@r: 0.5747 - loss: 0.6620 - val_auc: 0.5901 - val_p@r: 0.5548 - val_loss: 0.6691 - lr: 0.0012\n",
      "Epoch 48/100\n",
      "7337/7337 [==============================] - 162s 22ms/step - auc: 0.6049 - p@r: 0.5745 - loss: 0.6619 - val_auc: 0.5899 - val_p@r: 0.5532 - val_loss: 0.6692 - lr: 0.0010\n",
      "Epoch 49/100\n",
      "7337/7337 [==============================] - 162s 22ms/step - auc: 0.6051 - p@r: 0.5751 - loss: 0.6618 - val_auc: 0.5905 - val_p@r: 0.5562 - val_loss: 0.6689 - lr: 0.0010\n",
      "Epoch 50/100\n",
      "7337/7337 [==============================] - 162s 22ms/step - auc: 0.6054 - p@r: 0.5752 - loss: 0.6616 - val_auc: 0.5913 - val_p@r: 0.5502 - val_loss: 0.6682 - lr: 0.0010\n",
      "Epoch 51/100\n",
      "7337/7337 [==============================] - 163s 22ms/step - auc: 0.6051 - p@r: 0.5745 - loss: 0.6616 - val_auc: 0.5916 - val_p@r: 0.5545 - val_loss: 0.6681 - lr: 0.0010\n",
      "Epoch 52/100\n",
      "7337/7337 [==============================] - 162s 22ms/step - auc: 0.6051 - p@r: 0.5749 - loss: 0.6614 - val_auc: 0.5919 - val_p@r: 0.5542 - val_loss: 0.6682 - lr: 0.0010\n",
      "Epoch 53/100\n",
      "7337/7337 [==============================] - 164s 22ms/step - auc: 0.6060 - p@r: 0.5756 - loss: 0.6613 - val_auc: 0.5922 - val_p@r: 0.5537 - val_loss: 0.6676 - lr: 0.0010\n"
     ]
    }
   ],
   "source": [
    "# load stats dictionary to get the number of training samples\n",
    "stats_file = os.path.join(os.pardir, \"input\",\n",
    "                          \"jane-street-market-prediction-data\",\n",
    "                          \"stats.json\")\n",
    "\n",
    "with open(stats_file) as file:\n",
    "    stats = json.loads(file.read())\n",
    "\n",
    "samples = stats[str(HOLDOUT)][\"length\"]\n",
    "\n",
    "\n",
    "# define callbacks for learning rate schedule and early stopping\n",
    "stopping = EarlyStopping(monitor=\"val_auc\",\n",
    "                         mode=\"max\",\n",
    "                         patience=10,\n",
    "                         min_delta=1e-3,\n",
    "                         restore_best_weights=True)\n",
    "\n",
    "rate = ReduceLROnPlateau(monitor=\"val_loss\",\n",
    "                         mode=\"min\",\n",
    "                         factor=0.5,\n",
    "                         patience=3,\n",
    "                         min_lr=1e-3,\n",
    "                         min_delta=1e-3)\n",
    "\n",
    "callbacks = [rate, stopping]\n",
    "\n",
    "\n",
    "# get training and validation datasets and fit the model\n",
    "train_ds = get_dataset(train_folds, repeat=True, shuffle=True)\n",
    "valid_ds = get_dataset([HOLDOUT], cache=True)\n",
    "hist = model.fit(train_ds,\n",
    "                 epochs=EPOCHS,\n",
    "                 steps_per_epoch=samples // BATCH_SIZE,\n",
    "                 validation_data=valid_ds,\n",
    "                 callbacks=callbacks)"
   ]
  },
  {
   "cell_type": "markdown",
   "metadata": {
    "papermill": {
     "duration": 43.129185,
     "end_time": "2020-12-16T22:20:38.040546",
     "exception": false,
     "start_time": "2020-12-16T22:19:54.911361",
     "status": "completed"
    },
    "tags": []
   },
   "source": [
    "Plot the learning curve and associated metrics."
   ]
  },
  {
   "cell_type": "code",
   "execution_count": 6,
   "metadata": {
    "execution": {
     "iopub.execute_input": "2020-12-16T22:22:03.183512Z",
     "iopub.status.busy": "2020-12-16T22:22:03.182749Z",
     "iopub.status.idle": "2020-12-16T22:22:04.121437Z",
     "shell.execute_reply": "2020-12-16T22:22:04.120692Z"
    },
    "papermill": {
     "duration": 43.118186,
     "end_time": "2020-12-16T22:22:04.121592",
     "exception": false,
     "start_time": "2020-12-16T22:21:21.003406",
     "status": "completed"
    },
    "tags": []
   },
   "outputs": [
    {
     "data": {
      "image/png": "[encoded data removed]",
      "text/plain": [
       "<Figure size 576x360 with 1 Axes>"
      ]
     },
     "metadata": {
      "needs_background": "light"
     },
     "output_type": "display_data"
    },
    {
     "data": {
      "image/png": "[encoded data removed]",
      "text/plain": [
       "<Figure size 576x360 with 1 Axes>"
      ]
     },
     "metadata": {
      "needs_background": "light"
     },
     "output_type": "display_data"
    },
    {
     "data": {
      "image/png": "[encoded data removed]",
      "text/plain": [
       "<Figure size 576x360 with 1 Axes>"
      ]
     },
     "metadata": {
      "needs_background": "light"
     },
     "output_type": "display_data"
    }
   ],
   "source": [
    "hist_df = pd.DataFrame(hist.history)\n",
    "\n",
    "# loss\n",
    "plt.figure(figsize=(8, 5))\n",
    "sns.lineplot(data=hist_df[\"loss\"], label=\"Training\")\n",
    "sns.lineplot(data=hist_df[\"val_loss\"], label=\"Validation\")\n",
    "#sns.lineplot(data=hist_df[\"lr\"], label=\"Learning rate\")\n",
    "plt.title(\"Loss\")\n",
    "plt.grid(True)\n",
    "plt.xlabel(\"Epoch\")\n",
    "plt.ylabel(\"\")\n",
    "plt.show()\n",
    "\n",
    "# precision at recall\n",
    "plt.figure(figsize=(8, 5))\n",
    "sns.lineplot(data=hist_df[\"p@r\"], label=\"Training\")\n",
    "sns.lineplot(data=hist_df[\"val_p@r\"], label=\"Validation\")\n",
    "plt.title(f\"Precision at {int(100 * MIN_RECALL)}% recall\")\n",
    "plt.grid(True)\n",
    "plt.xlabel(\"Epoch\")\n",
    "plt.ylabel(\"\")\n",
    "plt.show()\n",
    "\n",
    "# area under ROC curve\n",
    "plt.figure(figsize=(8, 5))\n",
    "sns.lineplot(data=hist_df[\"auc\"], label=\"Training\")\n",
    "sns.lineplot(data=hist_df[\"val_auc\"], label=\"Validation\")\n",
    "plt.title(\"Area under the ROC curve\")\n",
    "plt.grid(True)\n",
    "plt.xlabel(\"Epoch\")\n",
    "plt.ylabel(\"\")\n",
    "plt.show()"
   ]
  },
  {
   "cell_type": "markdown",
   "metadata": {
    "papermill": {
     "duration": 42.805862,
     "end_time": "2020-12-16T22:23:29.829368",
     "exception": false,
     "start_time": "2020-12-16T22:22:47.023506",
     "status": "completed"
    },
    "tags": []
   },
   "source": [
    "Plot ROC curve and precision vs. recall on validation set."
   ]
  },
  {
   "cell_type": "code",
   "execution_count": 7,
   "metadata": {
    "execution": {
     "iopub.execute_input": "2020-12-16T22:24:55.017196Z",
     "iopub.status.busy": "2020-12-16T22:24:55.013556Z",
     "iopub.status.idle": "2020-12-16T22:26:18.050437Z",
     "shell.execute_reply": "2020-12-16T22:26:18.049568Z"
    },
    "papermill": {
     "duration": 125.630008,
     "end_time": "2020-12-16T22:26:18.050595",
     "exception": false,
     "start_time": "2020-12-16T22:24:12.420587",
     "status": "completed"
    },
    "tags": []
   },
   "outputs": [
    {
     "data": {
      "image/png": "[encoded data removed]",
      "text/plain": [
       "<Figure size 576x360 with 1 Axes>"
      ]
     },
     "metadata": {
      "needs_background": "light"
     },
     "output_type": "display_data"
    },
    {
     "data": {
      "image/png": "[encoded data removed]",
      "text/plain": [
       "<Figure size 576x360 with 1 Axes>"
      ]
     },
     "metadata": {
      "needs_background": "light"
     },
     "output_type": "display_data"
    },
    {
     "data": {
      "image/png": "[encoded data removed]",
      "text/plain": [
       "<Figure size 576x360 with 1 Axes>"
      ]
     },
     "metadata": {
      "needs_background": "light"
     },
     "output_type": "display_data"
    }
   ],
   "source": [
    "# store numpy arrays of labels in validation data\n",
    "# and the probabilities predicted by the model\n",
    "test_ds = get_dataset([HOLDOUT])\n",
    "\n",
    "y_ds = test_ds.map(lambda X, y: y)\n",
    "labels = np.vstack(list(y_ds.as_numpy_iterator()))\n",
    "\n",
    "X_ds = test_ds.map(lambda X, y: X)\n",
    "probs = model.predict(X_ds)\n",
    "\n",
    "# precision vs recall\n",
    "precisions, recalls, thresholds = precision_recall_curve(labels, probs)\n",
    "\n",
    "plt.figure(figsize=(8, 5))\n",
    "plt.plot(thresholds, precisions[:-1], \"tab:blue\", label=\"Precision\")\n",
    "plt.plot(thresholds, recalls[:-1], \"tab:orange\", label=\"Recall\")\n",
    "plt.legend()\n",
    "plt.xlabel(\"Threshold\")\n",
    "plt.title(\"Precision/recall at threshold\")\n",
    "plt.axis([0, 1, 0, 1])\n",
    "plt.grid(True)\n",
    "plt.show()\n",
    "\n",
    "plt.figure(figsize=(8, 5))\n",
    "plt.plot(recalls, precisions, \"tab:blue\")\n",
    "plt.xlabel(\"Recall\")\n",
    "plt.ylabel(\"Precision\")\n",
    "plt.title(\"Precision at recall\")\n",
    "plt.axis([0, 1, 0, 1])\n",
    "plt.grid(True)\n",
    "plt.show()\n",
    "\n",
    "# ROC curve\n",
    "false_positives, true_positives, thresholds = roc_curve(labels, probs)\n",
    "plt.figure(figsize=(8, 5))\n",
    "plt.plot(false_positives, true_positives, \"tab:blue\")\n",
    "plt.plot([0, 1], [0, 1], \"tab:gray\")\n",
    "plt.xlabel(\"False positive rate\")\n",
    "plt.ylabel(\"True positive rate\")\n",
    "plt.title(\"ROC curve\")\n",
    "plt.axis([0, 1, 0, 1])\n",
    "plt.grid(True)\n",
    "plt.show()"
   ]
  },
  {
   "cell_type": "markdown",
   "metadata": {
    "papermill": {
     "duration": 42.779388,
     "end_time": "2020-12-16T22:27:43.149437",
     "exception": false,
     "start_time": "2020-12-16T22:27:00.370049",
     "status": "completed"
    },
    "tags": []
   },
   "source": [
    "Save the model architecture and weights."
   ]
  },
  {
   "cell_type": "code",
   "execution_count": 8,
   "metadata": {
    "execution": {
     "iopub.execute_input": "2020-12-16T22:29:08.509807Z",
     "iopub.status.busy": "2020-12-16T22:29:08.503590Z",
     "iopub.status.idle": "2020-12-16T22:29:08.853026Z",
     "shell.execute_reply": "2020-12-16T22:29:08.851566Z"
    },
    "papermill": {
     "duration": 42.914688,
     "end_time": "2020-12-16T22:29:08.853179",
     "exception": false,
     "start_time": "2020-12-16T22:28:25.938491",
     "status": "completed"
    },
    "tags": []
   },
   "outputs": [],
   "source": [
    "with open(\"model.json\", \"w\") as f:\n",
    "    f.write(model.to_json())\n",
    "\n",
    "model.save_weights(\"model.h5\")"
   ]
  }
 ],
 "metadata": {
  "kernelspec": {
   "display_name": "Python 3",
   "language": "python",
   "name": "python3"
  },
  "language_info": {
   "codemirror_mode": {
    "name": "ipython",
    "version": 3
   },
   "file_extension": ".py",
   "mimetype": "text/x-python",
   "name": "python",
   "nbconvert_exporter": "python",
   "pygments_lexer": "ipython3",
   "version": "3.7.6"
  },
  "papermill": {
   "duration": 9493.198737,
   "end_time": "2020-12-16T22:29:52.962294",
   "environment_variables": {},
   "exception": null,
   "input_path": "__notebook__.ipynb",
   "output_path": "__notebook__.ipynb",
   "parameters": {},
   "start_time": "2020-12-16T19:51:39.763557",
   "version": "2.1.0"
  }
 },
 "nbformat": 4,
 "nbformat_minor": 4
}
