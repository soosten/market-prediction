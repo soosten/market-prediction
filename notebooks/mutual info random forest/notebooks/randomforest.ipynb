{
 "cells": [
  {
   "cell_type": "markdown",
   "metadata": {
    "papermill": {
     "duration": 0.008019,
     "end_time": "2021-01-02T21:38:02.814357",
     "exception": false,
     "start_time": "2021-01-02T21:38:02.806338",
     "status": "completed"
    },
    "tags": []
   },
   "source": [
    "# JS - Mutual Info Selection + Random Forest"
   ]
  },
  {
   "cell_type": "code",
   "execution_count": null,
   "metadata": {
    "papermill": {
     "duration": 5.817261,
     "end_time": "2021-01-02T21:38:08.639513",
     "exception": false,
     "start_time": "2021-01-02T21:38:02.822252",
     "status": "completed"
    },
    "tags": []
   },
   "outputs": [],
   "source": [
    "import json\n",
    "import os\n",
    "\n",
    "import numpy as np\n",
    "import pandas as pd\n",
    "\n",
    "import matplotlib.pyplot as plt\n",
    "import seaborn as sns\n",
    "\n",
    "from sklearn.metrics import precision_recall_curve, roc_curve, roc_auc_score\n",
    "from sklearn.model_selection import GridSearchCV, PredefinedSplit\n",
    "\n",
    "from xgboost import XGBClassifier"
   ]
  },
  {
   "cell_type": "code",
   "execution_count": null,
   "metadata": {
    "papermill": {
     "duration": 0.020078,
     "end_time": "2021-01-02T21:38:08.666981",
     "exception": false,
     "start_time": "2021-01-02T21:38:08.646903",
     "status": "completed"
    },
    "tags": []
   },
   "outputs": [],
   "source": [
    "# number of features to use\n",
    "FEATURES = 40\n",
    "\n",
    "# parameters to try for models\n",
    "PARAMS = {\"max_depth\": [5, 6, 7, 8, 9, 10, 11]}"
   ]
  },
  {
   "cell_type": "code",
   "execution_count": null,
   "metadata": {
    "papermill": {
     "duration": 131.529269,
     "end_time": "2021-01-02T21:40:20.203174",
     "exception": false,
     "start_time": "2021-01-02T21:38:08.673905",
     "status": "completed"
    },
    "tags": []
   },
   "outputs": [],
   "source": [
    "# read data as 32 bit floats\n",
    "file = os.path.join(os.pardir, \"input\", \"jane-street-market-prediction\", \"train.csv\")\n",
    "dtype = {c: np.float32 for c in pd.read_csv(file, nrows=1).columns}\n",
    "full_df = pd.read_csv(file, engine=\"c\", dtype=dtype)"
   ]
  },
  {
   "cell_type": "code",
   "execution_count": null,
   "metadata": {
    "papermill": {
     "duration": 1.322753,
     "end_time": "2021-01-02T21:40:21.545483",
     "exception": false,
     "start_time": "2021-01-02T21:40:20.222730",
     "status": "completed"
    },
    "tags": []
   },
   "outputs": [],
   "source": [
    "# impute missing values with -100.0\n",
    "full_df.fillna(-100.0, inplace=True)\n",
    "\n",
    "# split into training and validation\n",
    "train_df = full_df[full_df[\"date\"].between(86, 375)]\n",
    "valid_df = full_df[full_df[\"date\"].between(425, 500)]\n",
    "\n",
    "# get the features sorted by mutual information score\n",
    "mi_folder = os.path.join(os.pardir, \"input\", \"jane-street-mutual-info\")\n",
    "\n",
    "with open(os.path.join(mi_folder, \"sorted_features.json\")) as f:\n",
    "    sf_dict = json.loads(f.read())\n",
    "\n",
    "sorted_features = sf_dict[\"sorted_features\"]\n",
    "\n",
    "# build features and labels\n",
    "features = sorted_features[:FEATURES]\n",
    "train_X = train_df[features].to_numpy()\n",
    "valid_X = valid_df[features].to_numpy()\n",
    "train_y = train_df[\"resp\"].gt(0.0).astype(np.float32).to_numpy()\n",
    "valid_y = valid_df[\"resp\"].gt(0.0).astype(np.float32).to_numpy()"
   ]
  },
  {
   "cell_type": "code",
   "execution_count": null,
   "metadata": {
    "papermill": {
     "duration": 64.165172,
     "end_time": "2021-01-02T21:41:25.718055",
     "exception": false,
     "start_time": "2021-01-02T21:40:21.552883",
     "status": "completed"
    },
    "tags": []
   },
   "outputs": [],
   "source": [
    "# base model\n",
    "clf = XGBClassifier(n_estimators=100, tree_method=\"gpu_hist\", random_state=13)\n",
    "\n",
    "# setup the data for parameter search\n",
    "full_X = np.vstack([train_X, valid_X])\n",
    "full_y = np.append(train_y, valid_y)\n",
    "test_fold = np.append(np.full(train_X.shape[0], -1, dtype=np.int), np.zeros(valid_X.shape[0], dtype=np.int))\n",
    "ps = PredefinedSplit(test_fold)\n",
    "\n",
    "# find the hyper-parameters with best AUC score\n",
    "cv = GridSearchCV(clf, PARAMS, cv=ps, scoring=\"roc_auc\", refit=False, verbose=4)\n",
    "cv.fit(full_X, full_y)\n",
    "\n",
    "# need to refit the best model manually params, since the\n",
    "# built-in refitting will refit on full_X, full_y\n",
    "model = XGBClassifier(n_estimators=100, tree_method=\"gpu_hist\", random_state=13, **cv.best_params_)\n",
    "model.fit(train_X, train_y)\n",
    "\n",
    "# show the best parameters\n",
    "print(f\"Highest AUC = {round(cv.best_score_, 4)} with parameters:\")\n",
    "print(cv.best_params_)"
   ]
  },
  {
   "cell_type": "code",
   "execution_count": null,
   "metadata": {
    "papermill": {
     "duration": 3.012539,
     "end_time": "2021-01-02T21:41:28.749144",
     "exception": false,
     "start_time": "2021-01-02T21:41:25.736605",
     "status": "completed"
    },
    "tags": []
   },
   "outputs": [],
   "source": [
    "probs = model.predict_proba(valid_X)\n",
    "probs = probs[:, 1]\n",
    "\n",
    "# precision vs recall\n",
    "precisions, recalls, thresholds = precision_recall_curve(valid_y, probs)\n",
    "\n",
    "plt.figure(figsize=(8, 5))\n",
    "plt.plot(thresholds, precisions[:-1], \"tab:blue\", label=\"Precision\")\n",
    "plt.plot(thresholds, recalls[:-1], \"tab:orange\", label=\"Recall\")\n",
    "plt.legend()\n",
    "plt.xlabel(\"Threshold\")\n",
    "plt.title(\"Validation Precision/recall at threshold\")\n",
    "plt.axis([0, 1, 0, 1])\n",
    "plt.grid(True)\n",
    "plt.show()\n",
    "\n",
    "plt.figure(figsize=(8, 5))\n",
    "plt.plot(recalls, precisions, \"tab:blue\")\n",
    "plt.xlabel(\"Recall\")\n",
    "plt.ylabel(\"Precision\")\n",
    "plt.title(\"Validation  Precision at recall\")\n",
    "plt.axis([0, 1, 0, 1])\n",
    "plt.grid(True)\n",
    "plt.show()\n",
    "\n",
    "# ROC curve\n",
    "false_positives, true_positives, thresholds = roc_curve(valid_y, probs)\n",
    "plt.figure(figsize=(8, 5))\n",
    "plt.plot(false_positives, true_positives, \"tab:blue\")\n",
    "plt.plot([0, 1], [0, 1], \"tab:gray\")\n",
    "plt.xlabel(\"False positive rate\")\n",
    "plt.ylabel(\"True positive rate\")\n",
    "plt.title(\"Validation ROC curve\")\n",
    "plt.axis([0, 1, 0, 1])\n",
    "plt.grid(True)\n",
    "plt.show()\n",
    "\n",
    "# AUC\n",
    "print(f\"Validation AUC: {roc_auc_score(valid_y, probs)}\")"
   ]
  },
  {
   "cell_type": "code",
   "execution_count": null,
   "metadata": {
    "papermill": {
     "duration": 7.725868,
     "end_time": "2021-01-02T21:41:36.491711",
     "exception": false,
     "start_time": "2021-01-02T21:41:28.765843",
     "status": "completed"
    },
    "tags": []
   },
   "outputs": [],
   "source": [
    "probs = model.predict_proba(train_X)\n",
    "probs = probs[:, 1]\n",
    "\n",
    "# precision vs recall\n",
    "precisions, recalls, thresholds = precision_recall_curve(train_y, probs)\n",
    "\n",
    "plt.figure(figsize=(8, 5))\n",
    "plt.plot(thresholds, precisions[:-1], \"tab:blue\", label=\"Precision\")\n",
    "plt.plot(thresholds, recalls[:-1], \"tab:orange\", label=\"Recall\")\n",
    "plt.legend()\n",
    "plt.xlabel(\"Threshold\")\n",
    "plt.title(\"Training Precision/recall at threshold\")\n",
    "plt.axis([0, 1, 0, 1])\n",
    "plt.grid(True)\n",
    "plt.show()\n",
    "\n",
    "plt.figure(figsize=(8, 5))\n",
    "plt.plot(recalls, precisions, \"tab:blue\")\n",
    "plt.xlabel(\"Recall\")\n",
    "plt.ylabel(\"Precision\")\n",
    "plt.title(\"Training  Precision at recall\")\n",
    "plt.axis([0, 1, 0, 1])\n",
    "plt.grid(True)\n",
    "plt.show()\n",
    "\n",
    "# ROC curve\n",
    "false_positives, true_positives, thresholds = roc_curve(train_y, probs)\n",
    "plt.figure(figsize=(8, 5))\n",
    "plt.plot(false_positives, true_positives, \"tab:blue\")\n",
    "plt.plot([0, 1], [0, 1], \"tab:gray\")\n",
    "plt.xlabel(\"False positive rate\")\n",
    "plt.ylabel(\"True positive rate\")\n",
    "plt.title(\"Training ROC curve\")\n",
    "plt.axis([0, 1, 0, 1])\n",
    "plt.grid(True)\n",
    "plt.show()\n",
    "\n",
    "# AUC\n",
    "print(f\"Training AUC: {roc_auc_score(train_y, probs)}\")"
   ]
  },
  {
   "cell_type": "code",
   "execution_count": null,
   "metadata": {
    "papermill": {
     "duration": 0.02875,
     "end_time": "2021-01-02T21:41:36.540469",
     "exception": false,
     "start_time": "2021-01-02T21:41:36.511719",
     "status": "completed"
    },
    "tags": []
   },
   "outputs": [],
   "source": [
    "# save model and features\n",
    "feat_dict = {\"features\": features}\n",
    "with open(os.path.join(os.curdir, \"features.json\"), \"w\") as file:\n",
    "    json.dump(feat_dict, file)\n",
    "\n",
    "model.save_model(\"model.xgb\")"
   ]
  }
 ],
 "metadata": {
  "kernelspec": {
   "display_name": "Python 3",
   "language": "python",
   "name": "python3"
  },
  "language_info": {
   "codemirror_mode": {
    "name": "ipython",
    "version": 3
   },
   "file_extension": ".py",
   "mimetype": "text/x-python",
   "name": "python",
   "nbconvert_exporter": "python",
   "pygments_lexer": "ipython3",
   "version": "3.8.5"
  },
  "papermill": {
   "duration": 218.441591,
   "end_time": "2021-01-02T21:41:37.074696",
   "environment_variables": {},
   "exception": null,
   "input_path": "__notebook__.ipynb",
   "output_path": "__notebook__.ipynb",
   "parameters": {},
   "start_time": "2021-01-02T21:37:58.633105",
   "version": "2.1.0"
  }
 },
 "nbformat": 4,
 "nbformat_minor": 4
}
